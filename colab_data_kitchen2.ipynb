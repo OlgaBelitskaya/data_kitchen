{
  "nbformat": 4,
  "nbformat_minor": 0,
  "metadata": {
    "colab": {
      "name": "data_kitchen2.ipynb",
      "provenance": []
    },
    "kernelspec": {
      "name": "python3",
      "display_name": "Python 3"
    }
  },
  "cells": [
    {
      "cell_type": "code",
      "metadata": {
        "id": "sHdHGQd6h1Zt",
        "outputId": "9fab2910-0809-4d57-8010-5147f2c85171",
        "colab": {
          "base_uri": "https://localhost:8080/",
          "height": 34
        }
      },
      "source": [
        "%%writefile code_run.py\n",
        "import h5py,os,tensorflow as tf\n",
        "import pandas as pd,numpy as np\n",
        "import seaborn as sn,pylab as pl\n",
        "from tensorflow.keras.preprocessing \\\n",
        "import image as tkimg\n",
        "from IPython.display import display,HTML\n",
        "\n",
        "c1,f1,fs1='#FF355E','Smokum',25\n",
        "\n",
        "def dhtml(string,fontcolor=c1,font=f1,fontsize=fs1):\n",
        "    display(HTML(\"\"\"<style>\n",
        "    @import 'https://fonts.googleapis.com/css?family=\"\"\"\\\n",
        "    +font+\"\"\"&effect=3d-float';</style>\n",
        "    <h1 class='font-effect-3d-float' \n",
        "    style='font-family:\"\"\"+font+\\\n",
        "    \"\"\"; color:\"\"\"+fontcolor+\\\n",
        "    \"\"\"; font-size:\"\"\"+str(fontsize)+\"\"\"px;'>\n",
        "    %s</h1>\"\"\"%string))\n",
        "\n",
        "def del_png():\n",
        "    png_list=[el for el in os.listdir('../content')\n",
        "            if el[-4:]=='.png']\n",
        "    for f in png_list: os.remove(f)\n",
        "\n",
        "def randi(nmin,nmax): \n",
        "    return np.random.randint(nmin,nmax)\n",
        "\n",
        "def randch(a): \n",
        "    return np.random.choice(a,1)[0]\n",
        "\n",
        "def randcoef():\n",
        "    a=(.5+.1**6*randi(1,999999))\\\n",
        "        *randch([-1,1])\n",
        "    b=randi(3,12)\n",
        "    c=.001*randi(1,99)*randch([-1,1])\n",
        "    return a,b,c\n",
        "\n",
        "def randcoord(a,b,c):\n",
        "    t=np.arange(0,16*b*np.pi,1/(1440*b))\n",
        "    fx=np.sin(t/6)+\\\n",
        "       a*np.sin(b*t)*np.cos(t)-\\\n",
        "       c*np.sin(16*b*t)\n",
        "    fy=np.cos(t/6)+\\\n",
        "       a*np.sin(b*t)*np.sin(t)-\\\n",
        "       c*np.cos(16*b*t)\n",
        "    return fx,fy\n",
        "\n",
        "def randcol():\n",
        "        return [np.random.random(3)]\n",
        "\n",
        "def code_run(file_number):\n",
        "    def img_size_display(fig_size):\n",
        "        a,b,c=randcoef()\n",
        "        dhtml('(a,b,c): %s'%str((a,b,c)))\n",
        "        fx,fy=randcoord(a,b,c)\n",
        "        pl.figure(figsize=(fig_size,fig_size))\n",
        "        pl.scatter(fx,fy,s=.1**4,c=randcol())\n",
        "        pl.axis('off')\n",
        "        pl.tight_layout(pad=.05)\n",
        "        fn='/content/example.png'\n",
        "        pl.savefig(fn); pl.show();\n",
        " #   st=\"\"\"<img id='01' src='example.png' alt='example' \"\"\"+\\\n",
        " #      \"\"\"width='350' height='350'>\"\"\"\n",
        " #   display(HTML(st))\n",
        "        img=tkimg.load_img(fn)\n",
        "        img=tkimg.img_to_array(img)/255\n",
        "        dhtml('image shape: %s'%str(img.shape))\n",
        "        return img.shape[0]\n",
        "\n",
        "    def randplot(idx,images,labels,targets,fig_size):\n",
        "        a,b,c=randcoef()\n",
        "        if (idx+1)%10==0:\n",
        "            print('*',end='',flush=True)\n",
        "        labels[idx]=b-3\n",
        "        targets[idx]=[a,c]\n",
        "        fx,fy=randcoord(a,b,c)\n",
        "        pl.figure(figsize=(fig_size,fig_size))\n",
        "        pl.scatter(fx,fy,s=.1**5,c=randcol())\n",
        "        pl.axis('off')\n",
        "        pl.tight_layout(pad=.05)\n",
        "        fn='%03d'%idx+'.png'\n",
        "        pl.savefig(fn); pl.close();\n",
        "        img=tkimg.load_img(fn)\n",
        "        img=tkimg.img_to_array(img)\n",
        "        img=np.expand_dims(img,axis=0)/255\n",
        "        images.append(img)\n",
        "        os.remove(fn)\n",
        "\n",
        "    def data_file(num_images,h5f,fig_size,img_size):\n",
        "        images=[]\n",
        "        labels=np.zeros((num_images,),dtype=np.int32)\n",
        "        targets=np.zeros((num_images,2),dtype=np.float32)\n",
        "        for idx in range(num_images):\n",
        "            randplot(idx,images,labels,targets,fig_size)\n",
        "        images=np.array(np.vstack(images),\n",
        "                        dtype='float32')\n",
        "        with h5py.File(h5f,'w') as f:\n",
        "            f.create_dataset('images',data=images,\n",
        "                             compression='gzip')\n",
        "            f.create_dataset('labels',data=labels,\n",
        "                             compression='gzip')\n",
        "            f.create_dataset('targets',data=targets,\n",
        "                             compression='gzip')\n",
        "            f.close()\n",
        "        print('\\nfile size: %s'%list(os.stat(h5f))[6])\n",
        "    fig_size1=3.12\n",
        "    img_size1=img_size_display(fig_size1)\n",
        "    h5f1='ArtificialImages'+str(img_size1)+'.h5'\n",
        "    num_images1=100\n",
        "\n",
        "    data_file(num_images1,file_number+h5f1,\n",
        "              fig_size1,img_size1)   "
      ],
      "execution_count": 11,
      "outputs": [
        {
          "output_type": "stream",
          "text": [
            "Overwriting code_run.py\n"
          ],
          "name": "stdout"
        }
      ]
    },
    {
      "cell_type": "code",
      "metadata": {
        "id": "vgVAJj3FaFVi",
        "outputId": "15d06199-715c-496a-f1db-2a9d12e0502f",
        "colab": {
          "base_uri": "https://localhost:8080/",
          "height": 86
        }
      },
      "source": [
        "%run code_run.py\n",
        "dhtml('Creating Labeled and Measured Synthetic Images')"
      ],
      "execution_count": 12,
      "outputs": [
        {
          "output_type": "display_data",
          "data": {
            "text/html": [
              "<style>\n",
              "    @import 'https://fonts.googleapis.com/css?family=Smokum&effect=3d-float';</style>\n",
              "    <h1 class='font-effect-3d-float' \n",
              "    style='font-family:Smokum; color:#FF355E; font-size:25px;'>\n",
              "    Creating Labeled and Measured Synthetic Images</h1>"
            ],
            "text/plain": [
              "<IPython.core.display.HTML object>"
            ]
          },
          "metadata": {
            "tags": []
          }
        },
        {
          "output_type": "display_data",
          "data": {
            "text/plain": [
              "<Figure size 432x288 with 0 Axes>"
            ]
          },
          "metadata": {
            "tags": []
          }
        }
      ]
    },
    {
      "cell_type": "code",
      "metadata": {
        "id": "OSAhayKzOoOz",
        "outputId": "947b293f-4b79-4c15-b8ca-8b34475d3166",
        "colab": {
          "base_uri": "https://localhost:8080/",
          "height": 393
        }
      },
      "source": [
        "code_run('01')"
      ],
      "execution_count": 13,
      "outputs": [
        {
          "output_type": "display_data",
          "data": {
            "text/html": [
              "<style>\n",
              "    @import 'https://fonts.googleapis.com/css?family=Smokum&effect=3d-float';</style>\n",
              "    <h1 class='font-effect-3d-float' \n",
              "    style='font-family:Smokum; color:#FF355E; font-size:25px;'>\n",
              "    (a,b,c): (-0.814969, 5, -0.032)</h1>"
            ],
            "text/plain": [
              "<IPython.core.display.HTML object>"
            ]
          },
          "metadata": {
            "tags": []
          }
        },
        {
          "output_type": "display_data",
          "data": {
            "image/png": "[encoded data removed]",
            "text/plain": [
              "<Figure size 224.64x224.64 with 1 Axes>"
            ]
          },
          "metadata": {
            "tags": [],
            "needs_background": "light"
          }
        },
        {
          "output_type": "display_data",
          "data": {
            "text/html": [
              "<style>\n",
              "    @import 'https://fonts.googleapis.com/css?family=Smokum&effect=3d-float';</style>\n",
              "    <h1 class='font-effect-3d-float' \n",
              "    style='font-family:Smokum; color:#FF355E; font-size:25px;'>\n",
              "    image shape: (224, 224, 3)</h1>"
            ],
            "text/plain": [
              "<IPython.core.display.HTML object>"
            ]
          },
          "metadata": {
            "tags": []
          }
        },
        {
          "output_type": "stream",
          "text": [
            "**********\n",
            "file size: 4774779\n"
          ],
          "name": "stdout"
        }
      ]
    },
    {
      "cell_type": "code",
      "metadata": {
        "id": "WIIRY9KIVzHg"
      },
      "source": [
        "from IPython import get_ipython;   \n",
        "get_ipython().magic('reset -sf')"
      ],
      "execution_count": 14,
      "outputs": []
    },
    {
      "cell_type": "code",
      "metadata": {
        "id": "egTdAjdfPVV-",
        "outputId": "7aa49d4b-e70d-42a0-b1f6-eb094075bfcf",
        "colab": {
          "base_uri": "https://localhost:8080/",
          "height": 410
        }
      },
      "source": [
        "%run code_run.py\n",
        "code_run('02')"
      ],
      "execution_count": 15,
      "outputs": [
        {
          "output_type": "display_data",
          "data": {
            "text/html": [
              "<style>\n",
              "    @import 'https://fonts.googleapis.com/css?family=Smokum&effect=3d-float';</style>\n",
              "    <h1 class='font-effect-3d-float' \n",
              "    style='font-family:Smokum; color:#FF355E; font-size:25px;'>\n",
              "    (a,b,c): (-0.546402, 7, 0.037)</h1>"
            ],
            "text/plain": [
              "<IPython.core.display.HTML object>"
            ]
          },
          "metadata": {
            "tags": []
          }
        },
        {
          "output_type": "display_data",
          "data": {
            "text/plain": [
              "<Figure size 432x288 with 0 Axes>"
            ]
          },
          "metadata": {
            "tags": []
          }
        },
        {
          "output_type": "display_data",
          "data": {
            "image/png": "[encoded data removed]",
            "text/plain": [
              "<Figure size 224.64x224.64 with 1 Axes>"
            ]
          },
          "metadata": {
            "tags": [],
            "needs_background": "light"
          }
        },
        {
          "output_type": "display_data",
          "data": {
            "text/html": [
              "<style>\n",
              "    @import 'https://fonts.googleapis.com/css?family=Smokum&effect=3d-float';</style>\n",
              "    <h1 class='font-effect-3d-float' \n",
              "    style='font-family:Smokum; color:#FF355E; font-size:25px;'>\n",
              "    image shape: (224, 224, 3)</h1>"
            ],
            "text/plain": [
              "<IPython.core.display.HTML object>"
            ]
          },
          "metadata": {
            "tags": []
          }
        },
        {
          "output_type": "stream",
          "text": [
            "**********\n",
            "file size: 4742152\n"
          ],
          "name": "stdout"
        }
      ]
    },
    {
      "cell_type": "code",
      "metadata": {
        "id": "UcLDfMu1axo9",
        "outputId": "456bd90b-31c5-4628-d0b7-37b5a24ade5e",
        "colab": {
          "base_uri": "https://localhost:8080/",
          "height": 86
        }
      },
      "source": [
        "%run code_start.py\n",
        "dhtml('Processing Synthetic Images')"
      ],
      "execution_count": 16,
      "outputs": [
        {
          "output_type": "display_data",
          "data": {
            "text/html": [
              "<style>\n",
              "    @import 'https://fonts.googleapis.com/css?family=Smokum&effect=3d-float';</style>\n",
              "    <h1 class='font-effect-3d-float' \n",
              "    style='font-family:Smokum; color:#FF355E; font-size:25px;'>\n",
              "    Processing Synthetic Images</h1>"
            ],
            "text/plain": [
              "<IPython.core.display.HTML object>"
            ]
          },
          "metadata": {
            "tags": []
          }
        },
        {
          "output_type": "display_data",
          "data": {
            "text/plain": [
              "<Figure size 432x288 with 0 Axes>"
            ]
          },
          "metadata": {
            "tags": []
          }
        }
      ]
    },
    {
      "cell_type": "code",
      "metadata": {
        "id": "iFnqGY3iUjkF"
      },
      "source": [
        "def h5file2data(h5list):\n",
        "    images,labels,targets=[],[],[]\n",
        "    for h5f in h5list:\n",
        "        with h5py.File(h5f,'r') as f:\n",
        "            keys=list(f.keys())\n",
        "            images.append(list(f[keys[0]]))\n",
        "            labels.append([list(f[keys[1]])])\n",
        "            targets.append(list(f[keys[2]]))\n",
        "            f.close()\n",
        "    dhtml('file keys: '+', '.join(keys))\n",
        "    images=np.vstack(images)\n",
        "    labels=np.vstack(labels).reshape(-1)\n",
        "    targets=np.vstack(targets)\n",
        "    N=labels.shape[0]; n=int(.1*N)\n",
        "    shuffle_ids=np.arange(N)\n",
        "    np.random.RandomState(12).shuffle(shuffle_ids)\n",
        "    images=images[shuffle_ids]\n",
        "    labels=labels[shuffle_ids]\n",
        "    targets=targets[shuffle_ids]\n",
        "    x_test,x_valid,x_train=\\\n",
        "    images[:n],images[n:2*n],images[2*n:]\n",
        "    ly_test,ly_valid,ly_train=\\\n",
        "    labels[:n],labels[n:2*n],labels[2*n:]\n",
        "    ty_test,ty_valid,ty_train=\\\n",
        "    targets[:n],targets[n:2*n],targets[2*n:]\n",
        "    dhtml('distribution of labels: ')\n",
        "    df=pd.DataFrame(labels,columns=['label'])\n",
        "    df['name']=['b=%d'%(l+3) for l in labels]\n",
        "    pl.figure(figsize=(5,2.5))\n",
        "    sn.countplot(y='name',data=df,\n",
        "                 palette='autumn',alpha=.5)\n",
        "    fn='countplot.png'\n",
        "    pl.savefig(fn); pl.show();\n",
        "#    st=\"\"\"<img id='02' src='countplot.png' alt='countplot' \"\"\"+\\\n",
        "#       \"\"\"width='500' height='250'>\"\"\"\n",
        "#    display(HTML(st))\n",
        "    dhtml('function outputs: ')\n",
        "    df=pd.DataFrame([[x_train.shape,x_valid.shape,x_test.shape],\n",
        "                     [x_train.dtype,x_valid.dtype,x_test.dtype],\n",
        "                     [ly_train.shape,ly_valid.shape,ly_test.shape],\n",
        "                     [ly_train.dtype,ly_valid.dtype,ly_test.dtype],\n",
        "                     [ty_train.shape,ty_valid.shape,ty_test.shape],\n",
        "                     [ty_train.dtype,ty_valid.dtype,ty_test.dtype]],\n",
        "                    columns=['train','valid','test'],\n",
        "                    index=['image shape','image type',\n",
        "                           'label shape','label type',\n",
        "                           'target shape','target type'])\n",
        "    display(df)\n",
        "    return x_train,x_valid,x_test,\\\n",
        "           ly_train,ly_valid,ly_test,\\\n",
        "           ty_train,ty_valid,ty_test\n",
        "\n",
        "def checkplot(num,x,ly,ty):\n",
        "    [a,c]=ty[num]; b=ly[num]+3\n",
        "    dhtml('[num,(a,b,c)]: %s'%str([num,(a,b,c)]))\n",
        "    fx,fy=randcoord(a,b,c)\n",
        "    fig=pl.figure(figsize=(7,3.5))\n",
        "    ax=fig.add_subplot(121)\n",
        "    ax.scatter(fx,fy,s=.1**5,c=randcol())\n",
        "    ax.set_axis_off()\n",
        "    ax=fig.add_subplot(122)\n",
        "    ax.imshow(x[num])\n",
        "    ax.set_axis_off()\n",
        "    pl.savefig('checkplot.png',bbox_inches='tight')\n",
        "    pl.show();\n",
        "#    st=\"\"\"<img id='03' src='checkplot.png' alt='checkplot' \"\"\"+\\\n",
        "#       \"\"\"width='500' height='250'>\"\"\"\n",
        "#    display(HTML(st))"
      ],
      "execution_count": 17,
      "outputs": []
    },
    {
      "cell_type": "code",
      "metadata": {
        "id": "46T78_Y8PsOA",
        "outputId": "880cf368-33ce-4dd3-962a-b350fe5dccc6",
        "colab": {
          "base_uri": "https://localhost:8080/",
          "height": 69
        }
      },
      "source": [
        "%run code_run.py\n",
        "h5list1=[el for el in os.listdir('../content')\n",
        "           if el[-3:]=='.h5']\n",
        "dhtml(', '.join(h5list1))"
      ],
      "execution_count": 18,
      "outputs": [
        {
          "output_type": "display_data",
          "data": {
            "text/html": [
              "<style>\n",
              "    @import 'https://fonts.googleapis.com/css?family=Smokum&effect=3d-float';</style>\n",
              "    <h1 class='font-effect-3d-float' \n",
              "    style='font-family:Smokum; color:#FF355E; font-size:25px;'>\n",
              "    01ArtificialImages224.h5, 02ArtificialImages224.h5</h1>"
            ],
            "text/plain": [
              "<IPython.core.display.HTML object>"
            ]
          },
          "metadata": {
            "tags": []
          }
        }
      ]
    },
    {
      "cell_type": "code",
      "metadata": {
        "id": "pjZBQhz9Px6G",
        "outputId": "fde193e1-c290-451f-9865-7e5a2cf9c4c4",
        "colab": {
          "base_uri": "https://localhost:8080/",
          "height": 567
        }
      },
      "source": [
        "x_train1,x_valid1,x_test1,\\\n",
        "ly_train1,ly_valid1,ly_test1,\\\n",
        "ty_train1,ty_valid1,ty_test1=\\\n",
        "h5file2data(h5list1)"
      ],
      "execution_count": 19,
      "outputs": [
        {
          "output_type": "display_data",
          "data": {
            "text/html": [
              "<style>\n",
              "    @import 'https://fonts.googleapis.com/css?family=Smokum&effect=3d-float';</style>\n",
              "    <h1 class='font-effect-3d-float' \n",
              "    style='font-family:Smokum; color:#FF355E; font-size:25px;'>\n",
              "    file keys: images, labels, targets</h1>"
            ],
            "text/plain": [
              "<IPython.core.display.HTML object>"
            ]
          },
          "metadata": {
            "tags": []
          }
        },
        {
          "output_type": "display_data",
          "data": {
            "text/html": [
              "<style>\n",
              "    @import 'https://fonts.googleapis.com/css?family=Smokum&effect=3d-float';</style>\n",
              "    <h1 class='font-effect-3d-float' \n",
              "    style='font-family:Smokum; color:#FF355E; font-size:25px;'>\n",
              "    distribution of labels: </h1>"
            ],
            "text/plain": [
              "<IPython.core.display.HTML object>"
            ]
          },
          "metadata": {
            "tags": []
          }
        },
        {
          "output_type": "display_data",
          "data": {
            "image/png": "[encoded data removed]",
            "text/plain": [
              "<Figure size 360x180 with 1 Axes>"
            ]
          },
          "metadata": {
            "tags": [],
            "needs_background": "light"
          }
        },
        {
          "output_type": "display_data",
          "data": {
            "text/html": [
              "<style>\n",
              "    @import 'https://fonts.googleapis.com/css?family=Smokum&effect=3d-float';</style>\n",
              "    <h1 class='font-effect-3d-float' \n",
              "    style='font-family:Smokum; color:#FF355E; font-size:25px;'>\n",
              "    function outputs: </h1>"
            ],
            "text/plain": [
              "<IPython.core.display.HTML object>"
            ]
          },
          "metadata": {
            "tags": []
          }
        },
        {
          "output_type": "display_data",
          "data": {
            "text/html": [
              "<div>\n",
              "<style scoped>\n",
              "    .dataframe tbody tr th:only-of-type {\n",
              "        vertical-align: middle;\n",
              "    }\n",
              "\n",
              "    .dataframe tbody tr th {\n",
              "        vertical-align: top;\n",
              "    }\n",
              "\n",
              "    .dataframe thead th {\n",
              "        text-align: right;\n",
              "    }\n",
              "</style>\n",
              "<table border=\"1\" class=\"dataframe\">\n",
              "  <thead>\n",
              "    <tr style=\"text-align: right;\">\n",
              "      <th></th>\n",
              "      <th>train</th>\n",
              "      <th>valid</th>\n",
              "      <th>test</th>\n",
              "    </tr>\n",
              "  </thead>\n",
              "  <tbody>\n",
              "    <tr>\n",
              "      <th>image shape</th>\n",
              "      <td>(160, 224, 224, 3)</td>\n",
              "      <td>(20, 224, 224, 3)</td>\n",
              "      <td>(20, 224, 224, 3)</td>\n",
              "    </tr>\n",
              "    <tr>\n",
              "      <th>image type</th>\n",
              "      <td>float32</td>\n",
              "      <td>float32</td>\n",
              "      <td>float32</td>\n",
              "    </tr>\n",
              "    <tr>\n",
              "      <th>label shape</th>\n",
              "      <td>(160,)</td>\n",
              "      <td>(20,)</td>\n",
              "      <td>(20,)</td>\n",
              "    </tr>\n",
              "    <tr>\n",
              "      <th>label type</th>\n",
              "      <td>int32</td>\n",
              "      <td>int32</td>\n",
              "      <td>int32</td>\n",
              "    </tr>\n",
              "    <tr>\n",
              "      <th>target shape</th>\n",
              "      <td>(160, 2)</td>\n",
              "      <td>(20, 2)</td>\n",
              "      <td>(20, 2)</td>\n",
              "    </tr>\n",
              "    <tr>\n",
              "      <th>target type</th>\n",
              "      <td>float32</td>\n",
              "      <td>float32</td>\n",
              "      <td>float32</td>\n",
              "    </tr>\n",
              "  </tbody>\n",
              "</table>\n",
              "</div>"
            ],
            "text/plain": [
              "                           train              valid               test\n",
              "image shape   (160, 224, 224, 3)  (20, 224, 224, 3)  (20, 224, 224, 3)\n",
              "image type               float32            float32            float32\n",
              "label shape               (160,)              (20,)              (20,)\n",
              "label type                 int32              int32              int32\n",
              "target shape            (160, 2)            (20, 2)            (20, 2)\n",
              "target type              float32            float32            float32"
            ]
          },
          "metadata": {
            "tags": []
          }
        }
      ]
    },
    {
      "cell_type": "code",
      "metadata": {
        "id": "3jvci5j4P7hI",
        "outputId": "a0be493f-5b26-4cf0-bc08-70a1db5260fb",
        "colab": {
          "base_uri": "https://localhost:8080/",
          "height": 273
        }
      },
      "source": [
        "num1=np.random.randint(ly_train1.shape[0])\n",
        "checkplot(num1,x_train1,ly_train1,ty_train1)"
      ],
      "execution_count": 20,
      "outputs": [
        {
          "output_type": "display_data",
          "data": {
            "text/html": [
              "<style>\n",
              "    @import 'https://fonts.googleapis.com/css?family=Smokum&effect=3d-float';</style>\n",
              "    <h1 class='font-effect-3d-float' \n",
              "    style='font-family:Smokum; color:#FF355E; font-size:25px;'>\n",
              "    [num,(a,b,c)]: [35, (-1.15069, 9, -0.052)]</h1>"
            ],
            "text/plain": [
              "<IPython.core.display.HTML object>"
            ]
          },
          "metadata": {
            "tags": []
          }
        },
        {
          "output_type": "display_data",
          "data": {
            "image/png": "[encoded data removed]",
            "text/plain": [
              "<Figure size 504x252 with 2 Axes>"
            ]
          },
          "metadata": {
            "tags": [],
            "needs_background": "light"
          }
        }
      ]
    }
  ]
}