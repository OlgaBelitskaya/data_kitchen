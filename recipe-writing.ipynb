{
 "cells": [
  {
   "cell_type": "code",
   "execution_count": 1,
   "metadata": {
    "_kg_hide-input": true,
    "execution": {
     "iopub.execute_input": "2020-11-03T10:21:49.990834Z",
     "iopub.status.busy": "2020-11-03T10:21:49.989872Z",
     "iopub.status.idle": "2020-11-03T10:21:50.005139Z",
     "shell.execute_reply": "2020-11-03T10:21:50.004229Z"
    },
    "papermill": {
     "duration": 0.035655,
     "end_time": "2020-11-03T10:21:50.005299",
     "exception": false,
     "start_time": "2020-11-03T10:21:49.969644",
     "status": "completed"
    },
    "tags": []
   },
   "outputs": [
    {
     "data": {
      "text/html": [
       "<style>\n",
       "    @import 'https://fonts.googleapis.com/css?family=Smokum&effect=3d-float';</style>\n",
       "    <h1 class='font-effect-3d-float' \n",
       "    style='font-family:Smokum; color:#FF355E; font-size:25px;'>\n",
       "    Writing Python Recipes</h1>"
      ],
      "text/plain": [
       "<IPython.core.display.HTML object>"
      ]
     },
     "metadata": {},
     "output_type": "display_data"
    }
   ],
   "source": [
    "%run ../input/python-recipes/dhtml.py\n",
    "%run ../input/python-recipes/embedding_html_string.py\n",
    "dhtml('Writing Python Recipes')"
   ]
  },
  {
   "cell_type": "code",
   "execution_count": 2,
   "metadata": {
    "_kg_hide-input": true,
    "execution": {
     "iopub.execute_input": "2020-11-03T10:21:50.037526Z",
     "iopub.status.busy": "2020-11-03T10:21:50.036563Z",
     "iopub.status.idle": "2020-11-03T10:21:50.041737Z",
     "shell.execute_reply": "2020-11-03T10:21:50.041139Z"
    },
    "papermill": {
     "duration": 0.024469,
     "end_time": "2020-11-03T10:21:50.041884",
     "exception": false,
     "start_time": "2020-11-03T10:21:50.017415",
     "status": "completed"
    },
    "tags": []
   },
   "outputs": [
    {
     "name": "stdout",
     "output_type": "stream",
     "text": [
      "Writing sage_call.py\n"
     ]
    }
   ],
   "source": [
    "%%writefile sage_call.py\n",
    "from IPython.core.display import display,HTML\n",
    "from IPython.core.magic import register_line_magic\n",
    "\n",
    "@register_line_magic\n",
    "def sage_autorun(code_string):\n",
    "    start_string=\\\n",
    "    \"\"\"<html><head><meta charset='utf-8'>\"\"\"+\\\n",
    "    \"\"\"<meta name='viewport' content='width=device-width'>\"\"\"+\\\n",
    "    \"\"\"<script src='https://sagecell.sagemath.org/static/\"\"\"+\\\n",
    "    \"\"\"embedded_sagecell.js'></script><script>\"\"\"+\\\n",
    "    \"\"\"$(function () {sagecell.makeSagecell({\"\"\"+\\\n",
    "    \"\"\"inputLocation:'div.autosage',evalButtonText:'run',\"\"\"+\\\n",
    "    \"\"\"template:sagecell.templates.minimal,autoeval:true});});\"\"\"+\\\n",
    "    \"\"\"</script></head><style>.sagecell_output pre{\"\"\"+\\\n",
    "    \"\"\"min-height:3em; max-height:30em;} \"\"\"+\\\n",
    "    \"\"\".sagecell .CodeMirror-scroll {\"\"\"+\\\n",
    "    \"\"\"min-height:3em; max-height:30em;}</style><body>\"\"\"+\\\n",
    "    \"\"\"<div class='autosage'><script type='text/x-sage'>\"\"\"\n",
    "    split_code_string=code_string.split('  ')\n",
    "    code_string=\"\"\"\"\"\"; c=0\n",
    "    for el in split_code_string:\n",
    "        if el!='':\n",
    "            code_string+=c*'  '+el+'\\n'; c=0\n",
    "        else: c+=1\n",
    "    end_string=\"\"\"</script></div></body></html>\"\"\"\n",
    "    display(HTML(start_string+code_string+end_string))\n",
    "    \n",
    "@register_line_magic\n",
    "def sage_run(code_string):\n",
    "    start_string=\\\n",
    "    \"\"\"<html><head><meta charset='utf-8'>\"\"\"+\\\n",
    "    \"\"\"<meta name='viewport' content='width=device-width'>\"\"\"+\\\n",
    "    \"\"\"<script src='https://sagecell.sagemath.org/static/\"\"\"+\\\n",
    "    \"\"\"embedded_sagecell.js'></script><script>\"\"\"+\\\n",
    "    \"\"\"$(function () {sagecell.makeSagecell({\"\"\"+\\\n",
    "    \"\"\"inputLocation:'div.sage',evalButtonText:'run',\"\"\"+\\\n",
    "    \"\"\"template:sagecell.templates.minimal});});\"\"\"+\\\n",
    "    \"\"\"</script></head><style>.sagecell_output pre{\"\"\"+\\\n",
    "    \"\"\"min-height:3em; max-height:30em;} \"\"\"+\\\n",
    "    \"\"\".sagecell .CodeMirror-scroll {\"\"\"+\\\n",
    "    \"\"\"min-height:3em; max-height:30em;}</style><body>\"\"\"+\\\n",
    "    \"\"\"<div class='sage'><script type='text/x-sage'>\"\"\"\n",
    "    split_code_string=code_string.split('  ')\n",
    "    code_string=\"\"\"\"\"\"; c=0\n",
    "    for el in split_code_string:\n",
    "        if el!='':\n",
    "            code_string+=c*'  '+el+'\\n'; c=0\n",
    "        else: c+=1\n",
    "    end_string=\"\"\"</script></div></body></html>\"\"\"\n",
    "    display(HTML(start_string+code_string+end_string))\n",
    "    \n",
    "print('Evaluation of SageMath cells is possible ') \n",
    "print('now with two additional syntax marks: ') \n",
    "print('the white space and the slash between code lines.')"
   ]
  },
  {
   "cell_type": "code",
   "execution_count": 3,
   "metadata": {
    "execution": {
     "iopub.execute_input": "2020-11-03T10:21:50.073177Z",
     "iopub.status.busy": "2020-11-03T10:21:50.071971Z",
     "iopub.status.idle": "2020-11-03T10:21:50.078617Z",
     "shell.execute_reply": "2020-11-03T10:21:50.079773Z"
    },
    "papermill": {
     "duration": 0.026318,
     "end_time": "2020-11-03T10:21:50.079996",
     "exception": false,
     "start_time": "2020-11-03T10:21:50.053678",
     "status": "completed"
    },
    "tags": []
   },
   "outputs": [
    {
     "name": "stdout",
     "output_type": "stream",
     "text": [
      "Evaluation of SageMath cells is possible \n",
      "now with two additional syntax marks: \n",
      "the white space and the slash between code lines.\n"
     ]
    }
   ],
   "source": [
    "%run sage_call.py"
   ]
  },
  {
   "cell_type": "code",
   "execution_count": 4,
   "metadata": {
    "execution": {
     "iopub.execute_input": "2020-11-03T10:21:50.123483Z",
     "iopub.status.busy": "2020-11-03T10:21:50.114304Z",
     "iopub.status.idle": "2020-11-03T10:21:50.129489Z",
     "shell.execute_reply": "2020-11-03T10:21:50.128845Z"
    },
    "papermill": {
     "duration": 0.036683,
     "end_time": "2020-11-03T10:21:50.129635",
     "exception": false,
     "start_time": "2020-11-03T10:21:50.092952",
     "status": "completed"
    },
    "tags": []
   },
   "outputs": [
    {
     "data": {
      "text/html": [
       "<html><head><meta charset='utf-8'><meta name='viewport' content='width=device-width'><script src='https://sagecell.sagemath.org/static/embedded_sagecell.js'></script><script>$(function () {sagecell.makeSagecell({inputLocation:'div.sage',evalButtonText:'run',template:sagecell.templates.minimal});});</script></head><style>.sagecell_output pre{min-height:3em; max-height:30em;} .sagecell .CodeMirror-scroll {min-height:3em; max-height:30em;}</style><body><div class='sage'><script type='text/x-sage'> var('x'); t=15\n",
       "f=cos(x); g=sqrt(x)*sin(x); h=cos(sqrt(x)*sin(x))\n",
       "fun=[f,f.diff(),g,g.diff(),h,h.diff()]\n",
       "c=[colormaps.hsv_r(35*i)[:3] for i in [0..5]]\n",
       "l=[r'$f$',r'$f \\prime$',r'$g$',\n",
       "   r'$g \\prime$',r'$h$',r'$h \\prime$']\n",
       "p=plot(fun,(0,t),color=c,thickness=2,fill='axis',\n",
       "       fillcolor=c,fillalpha=.1,legend_label=l)\n",
       "p.show(figsize=(7,3),legend_fancybox=True,\n",
       "       legend_loc=3,legend_font_size=12,gridlines=True)\n",
       "</script></div></body></html>"
      ],
      "text/plain": [
       "<IPython.core.display.HTML object>"
      ]
     },
     "metadata": {},
     "output_type": "display_data"
    }
   ],
   "source": [
    "%sage_run \\\n",
    "var('x'); t=15 \\\n",
    "f=cos(x); g=sqrt(x)*sin(x); h=cos(sqrt(x)*sin(x)) \\\n",
    "fun=[f,f.diff(),g,g.diff(),h,h.diff()] \\\n",
    "c=[colormaps.hsv_r(35*i)[:3] for i in [0..5]] \\\n",
    "l=[r'$f$',r'$f \\prime$',r'$g$', \\\n",
    "   r'$g \\prime$',r'$h$',r'$h \\prime$'] \\\n",
    "p=plot(fun,(0,t),color=c,thickness=2,fill='axis', \\\n",
    "       fillcolor=c,fillalpha=.1,legend_label=l) \\\n",
    "p.show(figsize=(7,3),legend_fancybox=True, \\\n",
    "       legend_loc=3,legend_font_size=12,gridlines=True)"
   ]
  },
  {
   "cell_type": "code",
   "execution_count": 5,
   "metadata": {
    "_kg_hide-input": true,
    "execution": {
     "iopub.execute_input": "2020-11-03T10:21:50.168537Z",
     "iopub.status.busy": "2020-11-03T10:21:50.167600Z",
     "iopub.status.idle": "2020-11-03T10:21:50.173078Z",
     "shell.execute_reply": "2020-11-03T10:21:50.172410Z"
    },
    "papermill": {
     "duration": 0.029347,
     "end_time": "2020-11-03T10:21:50.173217",
     "exception": false,
     "start_time": "2020-11-03T10:21:50.143870",
     "status": "completed"
    },
    "tags": []
   },
   "outputs": [
    {
     "data": {
      "text/html": [
       "<style>\n",
       "    @import 'https://fonts.googleapis.com/css?family=Smokum&effect=3d-float';</style>\n",
       "    <h1 class='font-effect-3d-float' \n",
       "    style='font-family:Smokum; color:#FF355E; font-size:25px;'>\n",
       "    Writing HTML Recipes</h1>"
      ],
      "text/plain": [
       "<IPython.core.display.HTML object>"
      ]
     },
     "metadata": {},
     "output_type": "display_data"
    }
   ],
   "source": [
    "dhtml('Writing HTML Recipes')"
   ]
  },
  {
   "cell_type": "code",
   "execution_count": 6,
   "metadata": {
    "_kg_hide-input": true,
    "execution": {
     "iopub.execute_input": "2020-11-03T10:21:50.210104Z",
     "iopub.status.busy": "2020-11-03T10:21:50.208701Z",
     "iopub.status.idle": "2020-11-03T10:21:50.213524Z",
     "shell.execute_reply": "2020-11-03T10:21:50.212757Z"
    },
    "papermill": {
     "duration": 0.026234,
     "end_time": "2020-11-03T10:21:50.213655",
     "exception": false,
     "start_time": "2020-11-03T10:21:50.187421",
     "status": "completed"
    },
    "tags": []
   },
   "outputs": [
    {
     "name": "stdout",
     "output_type": "stream",
     "text": [
      "Writing rpackages.html\n"
     ]
    }
   ],
   "source": [
    "%%writefile rpackages.html\n",
    "<html>\n",
    "<head>\n",
    "  <meta charset='utf-8'>\n",
    "  <meta name='viewport' content='width=device-width'>\n",
    "  <script src='https://sagecell.sagemath.org/static/embedded_sagecell.js'>\n",
    "  </script>\n",
    "  <script>$(function () {\n",
    "    sagecell.makeSagecell({inputLocation:'div.evaluated',autoeval:true,\n",
    "                           template:sagecell.templates.minimal,\n",
    "                           evalButtonText:'run'}); });\n",
    "  </script>\n",
    "</head>\n",
    "<style>\n",
    "  pre {padding-left:3px; border:2px double slategray;}\n",
    "  h3 {color:#aa33ff; text-shadow:3px 3px 3px slategray;}\n",
    "  .sagecell .CodeMirror-scroll {min-height:3em; max-height:60em;}\n",
    "  body {margin:5px 5px 5px 15px;}\n",
    "</style>\n",
    "<body>\n",
    "  <h3>$$\\mathbb{ R \\; Packages \\; in \\; Python \\; Cells }$$</h3>\n",
    "<pre><code>\n",
    "import warnings; warnings.filterwarnings('ignore')\n",
    "from IPython import display\n",
    "import rpy2.robjects as ro\n",
    "from rpy2.robjects.packages import importr\n",
    "grdevices=importr('grDevices')\n",
    "grdevices.svg(file='Rplots.svg',\n",
    "              width=int(5),height=int(3),\n",
    "              onefile=True,family='times',\n",
    "              bg='white',pointsize=int(10))\n",
    "ro.r('library(MASS); library(nnet); '+\\\n",
    "     'data(Boston); n<-dim(Boston)[1]')\n",
    "ro.r('model<-nnet(as.matrix(Boston[1:430,-14]),'+\\\n",
    "     'as.matrix(Boston[1:430,14]),'+\\\n",
    "     'size=52,trace=F,maxit=10^7,linout=T,decay=.1^5); '+\\\n",
    "     'predictions<-predict(model,'+\\\n",
    "     'as.matrix(Boston[431:n,-14]),type=\"raw\")')\n",
    "ro.r('plot(as.matrix(Boston[431:n,14]),'+\\\n",
    "     'cex=.7,col=rgb(0,1,0),type=\"o\",'+\\\n",
    "     'xlab=\"\",ylab=\"\",yaxt=\"n\"); par(new=T); '+\\\n",
    "     'plot(predictions,col=rgb(0,0,1),type=\"o\",'+\\\n",
    "     'cex=.9,ylab=\"Targets & Predictions\"); grid();') \n",
    "grdevices.dev_off()\n",
    "\n",
    "</code></pre><br/>\n",
    "<div id='cell014' class='evaluated'><script type='text/x-sage'>\n",
    "import warnings; warnings.filterwarnings('ignore')\n",
    "from IPython import display\n",
    "import rpy2.robjects as ro\n",
    "from rpy2.robjects.packages import importr\n",
    "grdevices=importr('grDevices')\n",
    "grdevices.svg(file='Rplots.svg',\n",
    "              width=int(5),height=int(3),\n",
    "              onefile=True,family='times',\n",
    "              bg='white',pointsize=int(10))\n",
    "ro.r('library(MASS); library(nnet); '+\\\n",
    "     'data(Boston); n<-dim(Boston)[1]')\n",
    "ro.r('model<-nnet(as.matrix(Boston[1:430,-14]),'+\\\n",
    "     'as.matrix(Boston[1:430,14]),'+\\\n",
    "     'size=52,trace=F,maxit=10^7,linout=T,decay=.1^5); '+\\\n",
    "     'predictions<-predict(model,'+\\\n",
    "     'as.matrix(Boston[431:n,-14]),type=\"raw\")')\n",
    "ro.r('plot(as.matrix(Boston[431:n,14]),'+\\\n",
    "     'cex=.7,col=rgb(0,1,0),type=\"o\",'+\\\n",
    "     'xlab=\"\",ylab=\"\",yaxt=\"n\"); par(new=T); '+\\\n",
    "     'plot(predictions,col=rgb(0,0,1),type=\"o\",'+\\\n",
    "     'cex=.9,ylab=\"Targets & Predictions\"); grid();') \n",
    "grdevices.dev_off()\n",
    "</script></div><br/>\n",
    "</body>\n",
    "</html>"
   ]
  },
  {
   "cell_type": "code",
   "execution_count": 7,
   "metadata": {
    "_cell_guid": "79c7e3d0-c299-4dcb-8224-4455121ee9b0",
    "_uuid": "d629ff2d2480ee46fbb7e2d37f6b5fab8052498a",
    "execution": {
     "iopub.execute_input": "2020-11-03T10:21:50.250948Z",
     "iopub.status.busy": "2020-11-03T10:21:50.250056Z",
     "iopub.status.idle": "2020-11-03T10:21:50.255940Z",
     "shell.execute_reply": "2020-11-03T10:21:50.255243Z"
    },
    "papermill": {
     "duration": 0.027885,
     "end_time": "2020-11-03T10:21:50.256150",
     "exception": false,
     "start_time": "2020-11-03T10:21:50.228265",
     "status": "completed"
    },
    "tags": []
   },
   "outputs": [
    {
     "data": {
      "text/html": [
       "<div id=\"html_string1\"><iframe src=\"file1.html\" height=950 width=530></iframe></div>"
      ],
      "text/plain": [
       "<IPython.core.display.HTML object>"
      ]
     },
     "metadata": {},
     "output_type": "display_data"
    }
   ],
   "source": [
    "file='rpackages.html'\n",
    "with open(file,'r') as f:\n",
    "    html_str=f.read()\n",
    "    f.close()\n",
    "embedding_html_string(html_str,530,950,1)"
   ]
  },
  {
   "cell_type": "code",
   "execution_count": 8,
   "metadata": {
    "_kg_hide-input": true,
    "execution": {
     "iopub.execute_input": "2020-11-03T10:21:50.296288Z",
     "iopub.status.busy": "2020-11-03T10:21:50.295040Z",
     "iopub.status.idle": "2020-11-03T10:21:50.300368Z",
     "shell.execute_reply": "2020-11-03T10:21:50.299462Z"
    },
    "papermill": {
     "duration": 0.02784,
     "end_time": "2020-11-03T10:21:50.300547",
     "exception": false,
     "start_time": "2020-11-03T10:21:50.272707",
     "status": "completed"
    },
    "tags": []
   },
   "outputs": [
    {
     "name": "stdout",
     "output_type": "stream",
     "text": [
      "Writing 3dline_graph.html\n"
     ]
    }
   ],
   "source": [
    "%%writefile 3dline_graph.html\n",
    "<html>\n",
    "  <head>\n",
    "    <meta charset='utf-8'>\n",
    "    <meta name='viewport' content='width=device-width'>\n",
    "    <script src='https://sagecell.sagemath.org/static/embedded_sagecell.js'></script>\n",
    "    <script>$(function () {\n",
    "    sagecell.makeSagecell({inputLocation:'div.evaluated',autoeval:true,\n",
    "                           template:sagecell.templates.minimal,\n",
    "                           evalButtonText:'run'}); });\n",
    "    </script>\n",
    "  </head>\n",
    "  <style>\n",
    "  h3 {color:#aa33ff; text-shadow:4px 4px 4px slategray;}\n",
    "  pre {width:99%; border:2px double slategray; padding-left:3px;}\n",
    "  .sagecell_output {width:99%; border:2px double slategray; padding-right:3px;}\n",
    "  body {margin:5px 5px 5px 15px;}\n",
    "  </style>  \n",
    "  <body>\n",
    "    <h3>$$\\mathbb{ 3D \\; Line \\; Graphs }$$</h3>\n",
    "<pre ><code>\n",
    "def col(): \n",
    "    c1,c2,c3=random(),random(),.8\n",
    "    return sage.plot.colors.float_to_html(c1,c2,c3)\n",
    "def graph_pe(m,n):\n",
    "    g=graphs.CubeGraph(m)\n",
    "    PG=Graphics(); k=randint(70,120)/100\n",
    "    vg=g.get_pos(); vgp=list(vg.values())\n",
    "    eg=g.edges(); nv=len(vg); ne=len(eg)\n",
    "    x0=mean([list(vg.values())[i][0] \n",
    "             for i in range(nv)])\n",
    "    y0=mean([list(vg.values())[i][1] \n",
    "             for i in range(nv)])\n",
    "    cp=[[vgp[i][0]-x0,vgp[i][1]-y0] \n",
    "        for i in range(nv)]\n",
    "    l=[[list(vg[eg[i][0]]),list(vg[eg[i][1]])] \n",
    "       for i in range(ne)]\n",
    "    cl=[[[x-x0,y-y0] for [x,y] in l[i]] \n",
    "        for i in range(ne)]\n",
    "    cp3d=[[[cos(j*pi/k)*x-sin(j*pi/k)*y,\n",
    "            sin(j*pi/k)*x+cos(j*pi/k)*y,\n",
    "            3*(j+1)/k/n] \n",
    "           for j in range(n)] for [x,y] in cp]\n",
    "    cl3d=[[[cos(j*pi/k)*x-sin(j*pi/k)*y,\n",
    "            sin(j*pi/k)*x+cos(j*pi/k)*y,\n",
    "            3*(j+1)/k/n] \n",
    "           for [x,y] in cl[i]] \n",
    "          for j in range(n) for i in range(ne)]\n",
    "    for i in range(nv): \n",
    "        PG+=line3d(cp3d[i],color=col())\n",
    "    for i in range(n*ne): \n",
    "        PG+=line3d(cl3d[i],color=col())\n",
    "    PG.show(frame=False)\n",
    "graph_pe(randint(3,7),randint(3,10))\n",
    "\n",
    "</code></pre><br/> \n",
    "<div id='cell015' class='evaluated'><script type='text/x-sage'>\n",
    "def col(): \n",
    "    c1,c2,c3=random(),random(),.8\n",
    "    return sage.plot.colors.float_to_html(c1,c2,c3)\n",
    "def graph_pe(m,n):\n",
    "    g=graphs.CubeGraph(m)\n",
    "    PG=Graphics(); k=randint(70,120)/100\n",
    "    vg=g.get_pos(); vgp=list(vg.values())\n",
    "    eg=g.edges(); nv=len(vg); ne=len(eg)\n",
    "    x0=mean([list(vg.values())[i][0] \n",
    "             for i in range(nv)])\n",
    "    y0=mean([list(vg.values())[i][1] \n",
    "             for i in range(nv)])\n",
    "    cp=[[vgp[i][0]-x0,vgp[i][1]-y0] \n",
    "        for i in range(nv)]\n",
    "    l=[[list(vg[eg[i][0]]),list(vg[eg[i][1]])] \n",
    "       for i in range(ne)]\n",
    "    cl=[[[x-x0,y-y0] for [x,y] in l[i]] \n",
    "        for i in range(ne)]\n",
    "    cp3d=[[[cos(j*pi/k)*x-sin(j*pi/k)*y,\n",
    "            sin(j*pi/k)*x+cos(j*pi/k)*y,\n",
    "            3*(j+1)/k/n] \n",
    "           for j in range(n)] for [x,y] in cp]\n",
    "    cl3d=[[[cos(j*pi/k)*x-sin(j*pi/k)*y,\n",
    "            sin(j*pi/k)*x+cos(j*pi/k)*y,\n",
    "            3*(j+1)/k/n] \n",
    "           for [x,y] in cl[i]] \n",
    "          for j in range(n) for i in range(ne)]\n",
    "    for i in range(nv): \n",
    "        PG+=line3d(cp3d[i],color=col())\n",
    "    for i in range(n*ne): \n",
    "        PG+=line3d(cl3d[i],color=col())\n",
    "    PG.show(frame=False)\n",
    "graph_pe(randint(3,7),randint(3,10))\n",
    "</script></div><br/>\n",
    "  </body>\n",
    "</html>"
   ]
  },
  {
   "cell_type": "code",
   "execution_count": 9,
   "metadata": {
    "execution": {
     "iopub.execute_input": "2020-11-03T10:21:50.342293Z",
     "iopub.status.busy": "2020-11-03T10:21:50.341203Z",
     "iopub.status.idle": "2020-11-03T10:21:50.347273Z",
     "shell.execute_reply": "2020-11-03T10:21:50.346547Z"
    },
    "papermill": {
     "duration": 0.029457,
     "end_time": "2020-11-03T10:21:50.347409",
     "exception": false,
     "start_time": "2020-11-03T10:21:50.317952",
     "status": "completed"
    },
    "tags": []
   },
   "outputs": [
    {
     "data": {
      "text/html": [
       "<div id=\"html_string2\"><iframe src=\"file2.html\" height=1250 width=530></iframe></div>"
      ],
      "text/plain": [
       "<IPython.core.display.HTML object>"
      ]
     },
     "metadata": {},
     "output_type": "display_data"
    }
   ],
   "source": [
    "file='3dline_graph.html'\n",
    "with open(file,'r') as f:\n",
    "    html_str=f.read()\n",
    "    f.close()\n",
    "embedding_html_string(html_str,530,1250,2)"
   ]
  },
  {
   "cell_type": "code",
   "execution_count": 10,
   "metadata": {
    "_kg_hide-input": true,
    "execution": {
     "iopub.execute_input": "2020-11-03T10:21:50.387960Z",
     "iopub.status.busy": "2020-11-03T10:21:50.386803Z",
     "iopub.status.idle": "2020-11-03T10:21:50.392485Z",
     "shell.execute_reply": "2020-11-03T10:21:50.391699Z"
    },
    "papermill": {
     "duration": 0.02836,
     "end_time": "2020-11-03T10:21:50.392625",
     "exception": false,
     "start_time": "2020-11-03T10:21:50.364265",
     "status": "completed"
    },
    "tags": []
   },
   "outputs": [
    {
     "name": "stdout",
     "output_type": "stream",
     "text": [
      "Writing code_input.html\n"
     ]
    }
   ],
   "source": [
    "%%writefile code_input.html\n",
    "<html>\n",
    "  <head>\n",
    "    <meta charset='utf-8'>\n",
    "    <meta name='viewport' content='width=device-width'>\n",
    "    <script src='https://sagecell.sagemath.org/static/embedded_sagecell.js'></script>\n",
    "    <script>$(function(){ \n",
    "      sagecell.makeSagecell({inputLocation:'#cell016',evalButtonText:'run',\n",
    "                             template:sagecell.templates.minimal}); \n",
    "      sagecell.makeSagecell({inputLocation:'#cell017',evalButtonText:'run'}); });\n",
    "    </script>\n",
    "  </head>\n",
    "  <style>\n",
    "  pre {padding-left:2px; border:2px double slategray; \n",
    "       font-size:120%; text-shadow:2px 2px 2px #aaa} \n",
    "  .sagecell_output {border-color:slategray; padding-right:2px;}\n",
    "  .sagecell .CodeMirror-scroll {min-height:2em; max-height:6em;\n",
    "                                border-color:slategray; \n",
    "                                font-size:120%; \n",
    "                                text-shadow:2px 2px 2px #aaa}\n",
    "  </style>  \n",
    "  <body>   \n",
    "$\\large{\\mathbb{Code \\; Input}}$\n",
    "<p>An Example of Uneditable Interactive Code</p>\n",
    "<pre><code>\n",
    "print('These code lines are not editable.\\n'+\\\n",
    "      'But you can run them and see the result.')\n",
    "\n",
    "</code></pre><br/>     \n",
    "<div id='cell016'><script type='text/x-sage'>\n",
    "print('These code lines are not editable.\\n'+\\\n",
    "      'But you can run them and see the result.')\n",
    "</script></div>\n",
    "<p>An Example of Editable Interactive Code</p>\n",
    "<div id='cell017'><script type='text/x-sage'>\n",
    "print('These code lines are editable.\\n'+\\\n",
    "      'You can change them right here and run.')\n",
    "</script></div>\n",
    "  </body>\n",
    "</html>"
   ]
  },
  {
   "cell_type": "code",
   "execution_count": 11,
   "metadata": {
    "execution": {
     "iopub.execute_input": "2020-11-03T10:21:50.436511Z",
     "iopub.status.busy": "2020-11-03T10:21:50.435035Z",
     "iopub.status.idle": "2020-11-03T10:21:50.442040Z",
     "shell.execute_reply": "2020-11-03T10:21:50.441269Z"
    },
    "papermill": {
     "duration": 0.031902,
     "end_time": "2020-11-03T10:21:50.442180",
     "exception": false,
     "start_time": "2020-11-03T10:21:50.410278",
     "status": "completed"
    },
    "tags": []
   },
   "outputs": [
    {
     "data": {
      "text/html": [
       "<div id=\"html_string3\"><iframe src=\"file3.html\" height=650 width=530></iframe></div>"
      ],
      "text/plain": [
       "<IPython.core.display.HTML object>"
      ]
     },
     "metadata": {},
     "output_type": "display_data"
    }
   ],
   "source": [
    "file='code_input.html'\n",
    "with open(file,'r') as f:\n",
    "    html_str=f.read()\n",
    "    f.close()\n",
    "embedding_html_string(html_str,530,650,3)"
   ]
  }
 ],
 "metadata": {
  "kernelspec": {
   "display_name": "Python 3",
   "language": "python",
   "name": "python3"
  },
  "language_info": {
   "codemirror_mode": {
    "name": "ipython",
    "version": 3
   },
   "file_extension": ".py",
   "mimetype": "text/x-python",
   "name": "python",
   "nbconvert_exporter": "python",
   "pygments_lexer": "ipython3",
   "version": "3.7.6"
  },
  "papermill": {
   "duration": 5.865214,
   "end_time": "2020-11-03T10:21:50.569396",
   "environment_variables": {},
   "exception": null,
   "input_path": "__notebook__.ipynb",
   "output_path": "__notebook__.ipynb",
   "parameters": {},
   "start_time": "2020-11-03T10:21:44.704182",
   "version": "2.1.0"
  }
 },
 "nbformat": 4,
 "nbformat_minor": 4
}
