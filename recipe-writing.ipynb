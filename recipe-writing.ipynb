{
 "cells": [
  {
   "cell_type": "code",
   "execution_count": 1,
   "metadata": {
    "_kg_hide-input": true,
    "execution": {
     "iopub.execute_input": "2020-10-27T12:39:31.575121Z",
     "iopub.status.busy": "2020-10-27T12:39:31.574296Z",
     "iopub.status.idle": "2020-10-27T12:39:31.588841Z",
     "shell.execute_reply": "2020-10-27T12:39:31.588136Z"
    },
    "papermill": {
     "duration": 0.031911,
     "end_time": "2020-10-27T12:39:31.588965",
     "exception": false,
     "start_time": "2020-10-27T12:39:31.557054",
     "status": "completed"
    },
    "tags": []
   },
   "outputs": [
    {
     "data": {
      "text/html": [
       "<style>\n",
       "    @import 'https://fonts.googleapis.com/css?family=Smokum&effect=3d-float';</style>\n",
       "    <h1 class='font-effect-3d-float' \n",
       "    style='font-family:Smokum; color:#FF355E; font-size:25px;'>\n",
       "    Writing HTML Recipes</h1>"
      ],
      "text/plain": [
       "<IPython.core.display.HTML object>"
      ]
     },
     "metadata": {},
     "output_type": "display_data"
    }
   ],
   "source": [
    "%run ../input/python-recipes/dhtml.py\n",
    "%run ../input/python-recipes/embedding_html_string.py\n",
    "dhtml('Writing HTML Recipes')"
   ]
  },
  {
   "cell_type": "code",
   "execution_count": 2,
   "metadata": {
    "_kg_hide-input": true,
    "execution": {
     "iopub.execute_input": "2020-10-27T12:39:31.613606Z",
     "iopub.status.busy": "2020-10-27T12:39:31.612731Z",
     "iopub.status.idle": "2020-10-27T12:39:31.618460Z",
     "shell.execute_reply": "2020-10-27T12:39:31.617639Z"
    },
    "papermill": {
     "duration": 0.020825,
     "end_time": "2020-10-27T12:39:31.618588",
     "exception": false,
     "start_time": "2020-10-27T12:39:31.597763",
     "status": "completed"
    },
    "tags": []
   },
   "outputs": [
    {
     "name": "stdout",
     "output_type": "stream",
     "text": [
      "Writing rpackages.html\n"
     ]
    }
   ],
   "source": [
    "%%writefile rpackages.html\n",
    "<html>\n",
    "<head>\n",
    "  <meta charset='utf-8'>\n",
    "  <meta name='viewport' content='width=device-width'>\n",
    "  <script src='https://sagecell.sagemath.org/static/embedded_sagecell.js'>\n",
    "  </script>\n",
    "  <script>$(function () {\n",
    "    sagecell.makeSagecell({inputLocation:'div.evaluated',autoeval:true,\n",
    "                           template:sagecell.templates.minimal,\n",
    "                           evalButtonText:'run'}); });\n",
    "  </script>\n",
    "</head>\n",
    "<style>\n",
    "  pre {padding-left:3px; border:2px double slategray;}\n",
    "  h3 {color:#aa33ff; text-shadow:3px 3px 3px slategray;}\n",
    "  .sagecell .CodeMirror-scroll {min-height:3em; max-height:60em;}\n",
    "  body {margin:5px 5px 5px 15px;}\n",
    "</style>\n",
    "<body>\n",
    "  <h3>$$\\mathbb{ R \\; Packages \\; in \\; Python \\; Cells }$$</h3>\n",
    "<pre><code>\n",
    "import warnings; warnings.filterwarnings('ignore')\n",
    "from IPython import display\n",
    "import rpy2.robjects as ro\n",
    "from rpy2.robjects.packages import importr\n",
    "grdevices=importr('grDevices')\n",
    "grdevices.svg(file='Rplots.svg',\n",
    "              width=int(5),height=int(3),\n",
    "              onefile=True,family='times',\n",
    "              bg='white',pointsize=int(10))\n",
    "ro.r('library(MASS); library(nnet); '+\\\n",
    "     'data(Boston); n<-dim(Boston)[1]')\n",
    "ro.r('model<-nnet(as.matrix(Boston[1:430,-14]),'+\\\n",
    "     'as.matrix(Boston[1:430,14]),'+\\\n",
    "     'size=52,trace=F,maxit=10^7,linout=T,decay=.1^5); '+\\\n",
    "     'predictions<-predict(model,'+\\\n",
    "     'as.matrix(Boston[431:n,-14]),type=\"raw\")')\n",
    "ro.r('plot(as.matrix(Boston[431:n,14]),'+\\\n",
    "     'cex=.7,col=rgb(0,1,0),type=\"o\",'+\\\n",
    "     'xlab=\"\",ylab=\"\",yaxt=\"n\"); par(new=T); '+\\\n",
    "     'plot(predictions,col=rgb(0,0,1),type=\"o\",'+\\\n",
    "     'cex=.9,ylab=\"Targets & Predictions\"); grid();') \n",
    "grdevices.dev_off()\n",
    "\n",
    "</code></pre><br/>\n",
    "<div id='cell014' class='evaluated'><script type='text/x-sage'>\n",
    "import warnings; warnings.filterwarnings('ignore')\n",
    "from IPython import display\n",
    "import rpy2.robjects as ro\n",
    "from rpy2.robjects.packages import importr\n",
    "grdevices=importr('grDevices')\n",
    "grdevices.svg(file='Rplots.svg',\n",
    "              width=int(5),height=int(3),\n",
    "              onefile=True,family='times',\n",
    "              bg='white',pointsize=int(10))\n",
    "ro.r('library(MASS); library(nnet); '+\\\n",
    "     'data(Boston); n<-dim(Boston)[1]')\n",
    "ro.r('model<-nnet(as.matrix(Boston[1:430,-14]),'+\\\n",
    "     'as.matrix(Boston[1:430,14]),'+\\\n",
    "     'size=52,trace=F,maxit=10^7,linout=T,decay=.1^5); '+\\\n",
    "     'predictions<-predict(model,'+\\\n",
    "     'as.matrix(Boston[431:n,-14]),type=\"raw\")')\n",
    "ro.r('plot(as.matrix(Boston[431:n,14]),'+\\\n",
    "     'cex=.7,col=rgb(0,1,0),type=\"o\",'+\\\n",
    "     'xlab=\"\",ylab=\"\",yaxt=\"n\"); par(new=T); '+\\\n",
    "     'plot(predictions,col=rgb(0,0,1),type=\"o\",'+\\\n",
    "     'cex=.9,ylab=\"Targets & Predictions\"); grid();') \n",
    "grdevices.dev_off()\n",
    "</script></div><br/>\n",
    "</body>\n",
    "</html>"
   ]
  },
  {
   "cell_type": "code",
   "execution_count": 3,
   "metadata": {
    "_cell_guid": "79c7e3d0-c299-4dcb-8224-4455121ee9b0",
    "_uuid": "d629ff2d2480ee46fbb7e2d37f6b5fab8052498a",
    "execution": {
     "iopub.execute_input": "2020-10-27T12:39:31.642744Z",
     "iopub.status.busy": "2020-10-27T12:39:31.641986Z",
     "iopub.status.idle": "2020-10-27T12:39:31.646839Z",
     "shell.execute_reply": "2020-10-27T12:39:31.646091Z"
    },
    "papermill": {
     "duration": 0.01954,
     "end_time": "2020-10-27T12:39:31.646965",
     "exception": false,
     "start_time": "2020-10-27T12:39:31.627425",
     "status": "completed"
    },
    "tags": []
   },
   "outputs": [
    {
     "data": {
      "text/html": [
       "<div id=\"html_string1\"><iframe src=\"file1.html\" height=950 width=530></iframe></div>"
      ],
      "text/plain": [
       "<IPython.core.display.HTML object>"
      ]
     },
     "metadata": {},
     "output_type": "display_data"
    }
   ],
   "source": [
    "file='rpackages.html'\n",
    "with open(file,'r') as f:\n",
    "    html_str=f.read()\n",
    "    f.close()\n",
    "embedding_html_string(html_str,530,950,1)"
   ]
  },
  {
   "cell_type": "code",
   "execution_count": 4,
   "metadata": {
    "_kg_hide-input": true,
    "execution": {
     "iopub.execute_input": "2020-10-27T12:39:31.673285Z",
     "iopub.status.busy": "2020-10-27T12:39:31.672312Z",
     "iopub.status.idle": "2020-10-27T12:39:31.677055Z",
     "shell.execute_reply": "2020-10-27T12:39:31.676281Z"
    },
    "papermill": {
     "duration": 0.020651,
     "end_time": "2020-10-27T12:39:31.677186",
     "exception": false,
     "start_time": "2020-10-27T12:39:31.656535",
     "status": "completed"
    },
    "tags": []
   },
   "outputs": [
    {
     "name": "stdout",
     "output_type": "stream",
     "text": [
      "Writing 3dline_graph.html\n"
     ]
    }
   ],
   "source": [
    "%%writefile 3dline_graph.html\n",
    "<html>\n",
    "  <head>\n",
    "    <meta charset='utf-8'>\n",
    "    <meta name='viewport' content='width=device-width'>\n",
    "    <script src='https://sagecell.sagemath.org/static/embedded_sagecell.js'></script>\n",
    "    <script>$(function () {\n",
    "    sagecell.makeSagecell({inputLocation:'div.evaluated',autoeval:true,\n",
    "                           template:sagecell.templates.minimal,\n",
    "                           evalButtonText:'run'}); });\n",
    "    </script>\n",
    "  </head>\n",
    "  <style>\n",
    "  h3 {color:#aa33ff; text-shadow:4px 4px 4px slategray;}\n",
    "  pre {width:99%; border:2px double slategray; padding-left:3px;}\n",
    "  .sagecell_output {width:99%; border:2px double slategray; padding-right:3px;}\n",
    "  body {margin:5px 5px 5px 15px;}\n",
    "  </style>  \n",
    "  <body>\n",
    "    <h3>$$\\mathbb{ 3D \\; Line \\; Graphs }$$</h3>\n",
    "<pre ><code>\n",
    "def col(): \n",
    "    c1,c2,c3=random(),random(),.8\n",
    "    return sage.plot.colors.float_to_html(c1,c2,c3)\n",
    "def graph_pe(m,n):\n",
    "    g=graphs.CubeGraph(m)\n",
    "    PG=Graphics(); k=randint(70,120)/100\n",
    "    vg=g.get_pos(); vgp=list(vg.values())\n",
    "    eg=g.edges(); nv=len(vg); ne=len(eg)\n",
    "    x0=mean([list(vg.values())[i][0] \n",
    "             for i in range(nv)])\n",
    "    y0=mean([list(vg.values())[i][1] \n",
    "             for i in range(nv)])\n",
    "    cp=[[vgp[i][0]-x0,vgp[i][1]-y0] \n",
    "        for i in range(nv)]\n",
    "    l=[[list(vg[eg[i][0]]),list(vg[eg[i][1]])] \n",
    "       for i in range(ne)]\n",
    "    cl=[[[x-x0,y-y0] for [x,y] in l[i]] \n",
    "        for i in range(ne)]\n",
    "    cp3d=[[[cos(j*pi/k)*x-sin(j*pi/k)*y,\n",
    "            sin(j*pi/k)*x+cos(j*pi/k)*y,\n",
    "            3*(j+1)/k/n] \n",
    "           for j in range(n)] for [x,y] in cp]\n",
    "    cl3d=[[[cos(j*pi/k)*x-sin(j*pi/k)*y,\n",
    "            sin(j*pi/k)*x+cos(j*pi/k)*y,\n",
    "            3*(j+1)/k/n] \n",
    "           for [x,y] in cl[i]] \n",
    "          for j in range(n) for i in range(ne)]\n",
    "    for i in range(nv): \n",
    "        PG+=line3d(cp3d[i],color=col())\n",
    "    for i in range(n*ne): \n",
    "        PG+=line3d(cl3d[i],color=col())\n",
    "    PG.show(frame=False)\n",
    "graph_pe(randint(3,7),randint(3,10))\n",
    "\n",
    "</code></pre><br/> \n",
    "<div id='cell015' class='evaluated'><script type='text/x-sage'>\n",
    "def col(): \n",
    "    c1,c2,c3=random(),random(),.8\n",
    "    return sage.plot.colors.float_to_html(c1,c2,c3)\n",
    "def graph_pe(m,n):\n",
    "    g=graphs.CubeGraph(m)\n",
    "    PG=Graphics(); k=randint(70,120)/100\n",
    "    vg=g.get_pos(); vgp=list(vg.values())\n",
    "    eg=g.edges(); nv=len(vg); ne=len(eg)\n",
    "    x0=mean([list(vg.values())[i][0] \n",
    "             for i in range(nv)])\n",
    "    y0=mean([list(vg.values())[i][1] \n",
    "             for i in range(nv)])\n",
    "    cp=[[vgp[i][0]-x0,vgp[i][1]-y0] \n",
    "        for i in range(nv)]\n",
    "    l=[[list(vg[eg[i][0]]),list(vg[eg[i][1]])] \n",
    "       for i in range(ne)]\n",
    "    cl=[[[x-x0,y-y0] for [x,y] in l[i]] \n",
    "        for i in range(ne)]\n",
    "    cp3d=[[[cos(j*pi/k)*x-sin(j*pi/k)*y,\n",
    "            sin(j*pi/k)*x+cos(j*pi/k)*y,\n",
    "            3*(j+1)/k/n] \n",
    "           for j in range(n)] for [x,y] in cp]\n",
    "    cl3d=[[[cos(j*pi/k)*x-sin(j*pi/k)*y,\n",
    "            sin(j*pi/k)*x+cos(j*pi/k)*y,\n",
    "            3*(j+1)/k/n] \n",
    "           for [x,y] in cl[i]] \n",
    "          for j in range(n) for i in range(ne)]\n",
    "    for i in range(nv): \n",
    "        PG+=line3d(cp3d[i],color=col())\n",
    "    for i in range(n*ne): \n",
    "        PG+=line3d(cl3d[i],color=col())\n",
    "    PG.show(frame=False)\n",
    "graph_pe(randint(3,7),randint(3,10))\n",
    "</script></div><br/>\n",
    "  </body>\n",
    "</html>"
   ]
  },
  {
   "cell_type": "code",
   "execution_count": 5,
   "metadata": {
    "execution": {
     "iopub.execute_input": "2020-10-27T12:39:31.703993Z",
     "iopub.status.busy": "2020-10-27T12:39:31.703040Z",
     "iopub.status.idle": "2020-10-27T12:39:31.708646Z",
     "shell.execute_reply": "2020-10-27T12:39:31.707920Z"
    },
    "papermill": {
     "duration": 0.021513,
     "end_time": "2020-10-27T12:39:31.708780",
     "exception": false,
     "start_time": "2020-10-27T12:39:31.687267",
     "status": "completed"
    },
    "tags": []
   },
   "outputs": [
    {
     "data": {
      "text/html": [
       "<div id=\"html_string2\"><iframe src=\"file2.html\" height=1250 width=530></iframe></div>"
      ],
      "text/plain": [
       "<IPython.core.display.HTML object>"
      ]
     },
     "metadata": {},
     "output_type": "display_data"
    }
   ],
   "source": [
    "file='3dline_graph.html'\n",
    "with open(file,'r') as f:\n",
    "    html_str=f.read()\n",
    "    f.close()\n",
    "embedding_html_string(html_str,530,1250,2)"
   ]
  },
  {
   "cell_type": "code",
   "execution_count": 6,
   "metadata": {
    "_kg_hide-input": true,
    "execution": {
     "iopub.execute_input": "2020-10-27T12:39:31.739221Z",
     "iopub.status.busy": "2020-10-27T12:39:31.738225Z",
     "iopub.status.idle": "2020-10-27T12:39:31.743412Z",
     "shell.execute_reply": "2020-10-27T12:39:31.742809Z"
    },
    "papermill": {
     "duration": 0.023726,
     "end_time": "2020-10-27T12:39:31.743548",
     "exception": false,
     "start_time": "2020-10-27T12:39:31.719822",
     "status": "completed"
    },
    "tags": []
   },
   "outputs": [
    {
     "name": "stdout",
     "output_type": "stream",
     "text": [
      "Writing code_input.html\n"
     ]
    }
   ],
   "source": [
    "%%writefile code_input.html\n",
    "<html>\n",
    "  <head>\n",
    "    <meta charset='utf-8'>\n",
    "    <meta name='viewport' content='width=device-width'>\n",
    "    <script src='https://sagecell.sagemath.org/static/embedded_sagecell.js'></script>\n",
    "    <script>$(function(){ \n",
    "      sagecell.makeSagecell({inputLocation:'#cell016',evalButtonText:'run',\n",
    "                             template:sagecell.templates.minimal}); \n",
    "      sagecell.makeSagecell({inputLocation:'#cell017',evalButtonText:'run'}); });\n",
    "    </script>\n",
    "  </head>\n",
    "  <style>\n",
    "  pre {padding-left:2px; border:2px double slategray; \n",
    "       font-size:120%; text-shadow:2px 2px 2px #aaa} \n",
    "  .sagecell_output {border-color:slategray; padding-right:2px;}\n",
    "  .sagecell .CodeMirror-scroll {min-height:2em; max-height:6em;\n",
    "                                border-color:slategray; \n",
    "                                font-size:120%; \n",
    "                                text-shadow:2px 2px 2px #aaa}\n",
    "  </style>  \n",
    "  <body>   \n",
    "$\\large{\\mathbb{Code \\; Input}}$\n",
    "<p>An Example of Uneditable Interactive Code</p>\n",
    "<pre><code>\n",
    "print('These code lines are not editable.\\n'+\\\n",
    "      'But you can run them and see the result.')\n",
    "\n",
    "</code></pre><br/>     \n",
    "<div id='cell016'><script type='text/x-sage'>\n",
    "print('These code lines are not editable.\\n'+\\\n",
    "      'But you can run them and see the result.')\n",
    "</script></div>\n",
    "<p>An Example of Editable Interactive Code</p>\n",
    "<div id='cell017'><script type='text/x-sage'>\n",
    "print('These code lines are editable.\\n'+\\\n",
    "      'You can change them right here and run.')\n",
    "</script></div>\n",
    "  </body>\n",
    "</html>"
   ]
  },
  {
   "cell_type": "code",
   "execution_count": 7,
   "metadata": {
    "execution": {
     "iopub.execute_input": "2020-10-27T12:39:31.773717Z",
     "iopub.status.busy": "2020-10-27T12:39:31.772741Z",
     "iopub.status.idle": "2020-10-27T12:39:31.778105Z",
     "shell.execute_reply": "2020-10-27T12:39:31.777378Z"
    },
    "papermill": {
     "duration": 0.023071,
     "end_time": "2020-10-27T12:39:31.778234",
     "exception": false,
     "start_time": "2020-10-27T12:39:31.755163",
     "status": "completed"
    },
    "tags": []
   },
   "outputs": [
    {
     "data": {
      "text/html": [
       "<div id=\"html_string3\"><iframe src=\"file3.html\" height=650 width=530></iframe></div>"
      ],
      "text/plain": [
       "<IPython.core.display.HTML object>"
      ]
     },
     "metadata": {},
     "output_type": "display_data"
    }
   ],
   "source": [
    "file='code_input.html'\n",
    "with open(file,'r') as f:\n",
    "    html_str=f.read()\n",
    "    f.close()\n",
    "embedding_html_string(html_str,530,650,3)"
   ]
  }
 ],
 "metadata": {
  "kernelspec": {
   "display_name": "Python 3",
   "language": "python",
   "name": "python3"
  },
  "language_info": {
   "codemirror_mode": {
    "name": "ipython",
    "version": 3
   },
   "file_extension": ".py",
   "mimetype": "text/x-python",
   "name": "python",
   "nbconvert_exporter": "python",
   "pygments_lexer": "ipython3",
   "version": "3.7.6"
  },
  "papermill": {
   "duration": 5.413696,
   "end_time": "2020-10-27T12:39:31.898674",
   "environment_variables": {},
   "exception": null,
   "input_path": "__notebook__.ipynb",
   "output_path": "__notebook__.ipynb",
   "parameters": {},
   "start_time": "2020-10-27T12:39:26.484978",
   "version": "2.1.0"
  }
 },
 "nbformat": 4,
 "nbformat_minor": 4
}
