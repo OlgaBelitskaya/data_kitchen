{
 "cells": [
  {
   "cell_type": "code",
   "execution_count": 1,
   "metadata": {
    "_kg_hide-input": true,
    "execution": {
     "iopub.execute_input": "2020-10-03T12:52:38.212386Z",
     "iopub.status.busy": "2020-10-03T12:52:38.211459Z",
     "iopub.status.idle": "2020-10-03T12:52:46.477691Z",
     "shell.execute_reply": "2020-10-03T12:52:46.476222Z"
    },
    "papermill": {
     "duration": 8.284951,
     "end_time": "2020-10-03T12:52:46.477855",
     "exception": false,
     "start_time": "2020-10-03T12:52:38.192904",
     "status": "completed"
    },
    "tags": []
   },
   "outputs": [
    {
     "data": {
      "text/html": [
       "<style>\n",
       "    @import 'https://fonts.googleapis.com/css?family=Smokum&effect=3d-float';</style>\n",
       "    <h1 class='font-effect-3d-float' \n",
       "    style='font-family:Smokum; color:#FF355E; font-size:25px;'>\n",
       "    Creating Labeled and Measured Synthetic Images</h1>"
      ],
      "text/plain": [
       "<IPython.core.display.HTML object>"
      ]
     },
     "metadata": {},
     "output_type": "display_data"
    }
   ],
   "source": [
    "%run ../input/python-recipes/dhtml.py\n",
    "dhtml('Creating Labeled and Measured Synthetic Images')\n",
    "%run ../input/python-recipes/art_img.py"
   ]
  },
  {
   "cell_type": "code",
   "execution_count": 2,
   "metadata": {
    "execution": {
     "iopub.execute_input": "2020-10-03T12:52:46.506829Z",
     "iopub.status.busy": "2020-10-03T12:52:46.505990Z",
     "iopub.status.idle": "2020-10-03T12:52:53.114697Z",
     "shell.execute_reply": "2020-10-03T12:52:53.115569Z"
    },
    "papermill": {
     "duration": 6.627524,
     "end_time": "2020-10-03T12:52:53.115769",
     "exception": false,
     "start_time": "2020-10-03T12:52:46.488245",
     "status": "completed"
    },
    "tags": []
   },
   "outputs": [
    {
     "data": {
      "text/html": [
       "<style>\n",
       "    @import 'https://fonts.googleapis.com/css?family=Smokum&effect=3d-float';</style>\n",
       "    <h1 class='font-effect-3d-float' \n",
       "    style='font-family:Smokum; color:#FF355E; font-size:25px;'>\n",
       "    (a,b,c): (-1.4895220000000005, 11, -0.095)</h1>"
      ],
      "text/plain": [
       "<IPython.core.display.HTML object>"
      ]
     },
     "metadata": {},
     "output_type": "display_data"
    },
    {
     "data": {
      "text/html": [
       "<img id='01' src='example.png' alt='example' width='250' height='250'>"
      ],
      "text/plain": [
       "<IPython.core.display.HTML object>"
      ]
     },
     "metadata": {},
     "output_type": "display_data"
    },
    {
     "data": {
      "text/html": [
       "<style>\n",
       "    @import 'https://fonts.googleapis.com/css?family=Smokum&effect=3d-float';</style>\n",
       "    <h1 class='font-effect-3d-float' \n",
       "    style='font-family:Smokum; color:#FF355E; font-size:25px;'>\n",
       "    image shape: (224, 224, 3)</h1>"
      ],
      "text/plain": [
       "<IPython.core.display.HTML object>"
      ]
     },
     "metadata": {},
     "output_type": "display_data"
    }
   ],
   "source": [
    "fig_size1=3.12\n",
    "img_size1=img_size_display(fig_size1)\n",
    "h5f1='ArtificialImages'+str(img_size1)+'.h5'\n",
    "num_images1=200"
   ]
  },
  {
   "cell_type": "code",
   "execution_count": 3,
   "metadata": {
    "execution": {
     "iopub.execute_input": "2020-10-03T12:52:53.190880Z",
     "iopub.status.busy": "2020-10-03T12:52:53.189630Z",
     "iopub.status.idle": "2020-10-03T13:03:28.487741Z",
     "shell.execute_reply": "2020-10-03T13:03:28.488534Z"
    },
    "papermill": {
     "duration": 635.340356,
     "end_time": "2020-10-03T13:03:28.488742",
     "exception": false,
     "start_time": "2020-10-03T12:52:53.148386",
     "status": "completed"
    },
    "tags": []
   },
   "outputs": [
    {
     "name": "stdout",
     "output_type": "stream",
     "text": [
      "********************\n",
      "file size: 9183517\n"
     ]
    }
   ],
   "source": [
    "data_file(num_images1,'01'+h5f1,\n",
    "          fig_size1,img_size1)"
   ]
  },
  {
   "cell_type": "code",
   "execution_count": 4,
   "metadata": {
    "_kg_hide-input": true,
    "execution": {
     "iopub.execute_input": "2020-10-03T13:03:29.085798Z",
     "iopub.status.busy": "2020-10-03T13:03:29.084929Z",
     "iopub.status.idle": "2020-10-03T13:03:29.099395Z",
     "shell.execute_reply": "2020-10-03T13:03:29.098612Z"
    },
    "papermill": {
     "duration": 0.589341,
     "end_time": "2020-10-03T13:03:29.099528",
     "exception": false,
     "start_time": "2020-10-03T13:03:28.510187",
     "status": "completed"
    },
    "tags": []
   },
   "outputs": [
    {
     "data": {
      "text/plain": [
       "<Figure size 432x288 with 0 Axes>"
      ]
     },
     "metadata": {},
     "output_type": "display_data"
    }
   ],
   "source": [
    "from IPython import get_ipython;   \n",
    "get_ipython().magic('reset -sf')\n",
    "%run ../input/python-recipes/art_img.py"
   ]
  },
  {
   "cell_type": "code",
   "execution_count": 5,
   "metadata": {
    "execution": {
     "iopub.execute_input": "2020-10-03T13:03:29.154725Z",
     "iopub.status.busy": "2020-10-03T13:03:29.153553Z",
     "iopub.status.idle": "2020-10-03T13:13:33.366442Z",
     "shell.execute_reply": "2020-10-03T13:13:33.365467Z"
    },
    "papermill": {
     "duration": 604.244344,
     "end_time": "2020-10-03T13:13:33.366597",
     "exception": false,
     "start_time": "2020-10-03T13:03:29.122253",
     "status": "completed"
    },
    "tags": []
   },
   "outputs": [
    {
     "name": "stdout",
     "output_type": "stream",
     "text": [
      "********************\n",
      "file size: 9286400\n"
     ]
    },
    {
     "data": {
      "text/plain": [
       "<Figure size 432x288 with 0 Axes>"
      ]
     },
     "metadata": {},
     "output_type": "display_data"
    }
   ],
   "source": [
    "fig_size1,img_size1=3.12,224\n",
    "h5f1='ArtificialImages'+str(img_size1)+'.h5'\n",
    "num_images1=200\n",
    "data_file(num_images1,'02'+h5f1,\n",
    "          fig_size1,img_size1)\n",
    "from IPython import get_ipython;   \n",
    "get_ipython().magic('reset -sf')\n",
    "%run ../input/python-recipes/art_img.py"
   ]
  },
  {
   "cell_type": "code",
   "execution_count": 6,
   "metadata": {
    "_kg_hide-input": true,
    "execution": {
     "iopub.execute_input": "2020-10-03T13:13:33.437221Z",
     "iopub.status.busy": "2020-10-03T13:13:33.436059Z",
     "iopub.status.idle": "2020-10-03T13:13:33.441841Z",
     "shell.execute_reply": "2020-10-03T13:13:33.441081Z"
    },
    "papermill": {
     "duration": 0.043395,
     "end_time": "2020-10-03T13:13:33.441970",
     "exception": false,
     "start_time": "2020-10-03T13:13:33.398575",
     "status": "completed"
    },
    "tags": []
   },
   "outputs": [
    {
     "data": {
      "text/html": [
       "<style>\n",
       "    @import 'https://fonts.googleapis.com/css?family=Smokum&effect=3d-float';</style>\n",
       "    <h1 class='font-effect-3d-float' \n",
       "    style='font-family:Smokum; color:#FF355E; font-size:25px;'>\n",
       "    Processing Synthetic Images</h1>"
      ],
      "text/plain": [
       "<IPython.core.display.HTML object>"
      ]
     },
     "metadata": {},
     "output_type": "display_data"
    }
   ],
   "source": [
    "dhtml('Processing Synthetic Images')"
   ]
  },
  {
   "cell_type": "code",
   "execution_count": 7,
   "metadata": {
    "_kg_hide-output": true,
    "execution": {
     "iopub.execute_input": "2020-10-03T13:13:33.513949Z",
     "iopub.status.busy": "2020-10-03T13:13:33.512660Z",
     "iopub.status.idle": "2020-10-03T13:13:33.519710Z",
     "shell.execute_reply": "2020-10-03T13:13:33.518884Z"
    },
    "papermill": {
     "duration": 0.046366,
     "end_time": "2020-10-03T13:13:33.519844",
     "exception": false,
     "start_time": "2020-10-03T13:13:33.473478",
     "status": "completed"
    },
    "tags": []
   },
   "outputs": [
    {
     "data": {
      "text/html": [
       "<style>\n",
       "    @import 'https://fonts.googleapis.com/css?family=Smokum&effect=3d-float';</style>\n",
       "    <h1 class='font-effect-3d-float' \n",
       "    style='font-family:Smokum; color:#FF355E; font-size:25px;'>\n",
       "    01ArtificialImages224.h5, 02ArtificialImages224.h5</h1>"
      ],
      "text/plain": [
       "<IPython.core.display.HTML object>"
      ]
     },
     "metadata": {},
     "output_type": "display_data"
    }
   ],
   "source": [
    "h5list1=[el for el in os.listdir('../working')\n",
    "           if el[-3:]=='.h5']\n",
    "dhtml(', '.join(h5list1))"
   ]
  },
  {
   "cell_type": "code",
   "execution_count": 8,
   "metadata": {
    "_kg_hide-output": false,
    "execution": {
     "iopub.execute_input": "2020-10-03T13:13:33.805478Z",
     "iopub.status.busy": "2020-10-03T13:13:33.599797Z",
     "iopub.status.idle": "2020-10-03T13:13:51.379703Z",
     "shell.execute_reply": "2020-10-03T13:13:51.378206Z"
    },
    "papermill": {
     "duration": 17.826389,
     "end_time": "2020-10-03T13:13:51.380040",
     "exception": false,
     "start_time": "2020-10-03T13:13:33.553651",
     "status": "completed"
    },
    "tags": []
   },
   "outputs": [
    {
     "data": {
      "text/html": [
       "<style>\n",
       "    @import 'https://fonts.googleapis.com/css?family=Smokum&effect=3d-float';</style>\n",
       "    <h1 class='font-effect-3d-float' \n",
       "    style='font-family:Smokum; color:#FF355E; font-size:25px;'>\n",
       "    file keys: images, labels, targets</h1>"
      ],
      "text/plain": [
       "<IPython.core.display.HTML object>"
      ]
     },
     "metadata": {},
     "output_type": "display_data"
    },
    {
     "data": {
      "text/html": [
       "<style>\n",
       "    @import 'https://fonts.googleapis.com/css?family=Smokum&effect=3d-float';</style>\n",
       "    <h1 class='font-effect-3d-float' \n",
       "    style='font-family:Smokum; color:#FF355E; font-size:25px;'>\n",
       "    distribution of labels: </h1>"
      ],
      "text/plain": [
       "<IPython.core.display.HTML object>"
      ]
     },
     "metadata": {},
     "output_type": "display_data"
    },
    {
     "data": {
      "text/html": [
       "<img id='02' src='countplot.png' alt='countplot' width='500' height='250'>"
      ],
      "text/plain": [
       "<IPython.core.display.HTML object>"
      ]
     },
     "metadata": {},
     "output_type": "display_data"
    },
    {
     "data": {
      "text/html": [
       "<style>\n",
       "    @import 'https://fonts.googleapis.com/css?family=Smokum&effect=3d-float';</style>\n",
       "    <h1 class='font-effect-3d-float' \n",
       "    style='font-family:Smokum; color:#FF355E; font-size:25px;'>\n",
       "    function outputs: </h1>"
      ],
      "text/plain": [
       "<IPython.core.display.HTML object>"
      ]
     },
     "metadata": {},
     "output_type": "display_data"
    },
    {
     "data": {
      "text/html": [
       "<div>\n",
       "<style scoped>\n",
       "    .dataframe tbody tr th:only-of-type {\n",
       "        vertical-align: middle;\n",
       "    }\n",
       "\n",
       "    .dataframe tbody tr th {\n",
       "        vertical-align: top;\n",
       "    }\n",
       "\n",
       "    .dataframe thead th {\n",
       "        text-align: right;\n",
       "    }\n",
       "</style>\n",
       "<table border=\"1\" class=\"dataframe\">\n",
       "  <thead>\n",
       "    <tr style=\"text-align: right;\">\n",
       "      <th></th>\n",
       "      <th>train</th>\n",
       "      <th>valid</th>\n",
       "      <th>test</th>\n",
       "    </tr>\n",
       "  </thead>\n",
       "  <tbody>\n",
       "    <tr>\n",
       "      <th>image shape</th>\n",
       "      <td>(320, 224, 224, 3)</td>\n",
       "      <td>(40, 224, 224, 3)</td>\n",
       "      <td>(40, 224, 224, 3)</td>\n",
       "    </tr>\n",
       "    <tr>\n",
       "      <th>image type</th>\n",
       "      <td>float32</td>\n",
       "      <td>float32</td>\n",
       "      <td>float32</td>\n",
       "    </tr>\n",
       "    <tr>\n",
       "      <th>label shape</th>\n",
       "      <td>(320,)</td>\n",
       "      <td>(40,)</td>\n",
       "      <td>(40,)</td>\n",
       "    </tr>\n",
       "    <tr>\n",
       "      <th>label type</th>\n",
       "      <td>int32</td>\n",
       "      <td>int32</td>\n",
       "      <td>int32</td>\n",
       "    </tr>\n",
       "    <tr>\n",
       "      <th>target shape</th>\n",
       "      <td>(320, 2)</td>\n",
       "      <td>(40, 2)</td>\n",
       "      <td>(40, 2)</td>\n",
       "    </tr>\n",
       "    <tr>\n",
       "      <th>target type</th>\n",
       "      <td>float32</td>\n",
       "      <td>float32</td>\n",
       "      <td>float32</td>\n",
       "    </tr>\n",
       "  </tbody>\n",
       "</table>\n",
       "</div>"
      ],
      "text/plain": [
       "                           train              valid               test\n",
       "image shape   (320, 224, 224, 3)  (40, 224, 224, 3)  (40, 224, 224, 3)\n",
       "image type               float32            float32            float32\n",
       "label shape               (320,)              (40,)              (40,)\n",
       "label type                 int32              int32              int32\n",
       "target shape            (320, 2)            (40, 2)            (40, 2)\n",
       "target type              float32            float32            float32"
      ]
     },
     "metadata": {},
     "output_type": "display_data"
    }
   ],
   "source": [
    "x_train1,x_valid1,x_test1,\\\n",
    "ly_train1,ly_valid1,ly_test1,\\\n",
    "ty_train1,ty_valid1,ty_test1=\\\n",
    "h5file2data(h5list1)"
   ]
  },
  {
   "cell_type": "code",
   "execution_count": 9,
   "metadata": {
    "execution": {
     "iopub.execute_input": "2020-10-03T13:13:51.465096Z",
     "iopub.status.busy": "2020-10-03T13:13:51.464236Z",
     "iopub.status.idle": "2020-10-03T13:13:52.017307Z",
     "shell.execute_reply": "2020-10-03T13:13:52.016531Z"
    },
    "papermill": {
     "duration": 0.596257,
     "end_time": "2020-10-03T13:13:52.017439",
     "exception": false,
     "start_time": "2020-10-03T13:13:51.421182",
     "status": "completed"
    },
    "tags": []
   },
   "outputs": [
    {
     "data": {
      "text/html": [
       "<style>\n",
       "    @import 'https://fonts.googleapis.com/css?family=Smokum&effect=3d-float';</style>\n",
       "    <h1 class='font-effect-3d-float' \n",
       "    style='font-family:Smokum; color:#FF355E; font-size:25px;'>\n",
       "    [num,(a,b,c)]: [142, (1.190364, 3, 0.003)]</h1>"
      ],
      "text/plain": [
       "<IPython.core.display.HTML object>"
      ]
     },
     "metadata": {},
     "output_type": "display_data"
    },
    {
     "data": {
      "text/html": [
       "<img id='03' src='checkplot.png' alt='checkplot' width='500' height='250'>"
      ],
      "text/plain": [
       "<IPython.core.display.HTML object>"
      ]
     },
     "metadata": {},
     "output_type": "display_data"
    }
   ],
   "source": [
    "num1=np.random.randint(ly_train1.shape[0])\n",
    "checkplot(num1,x_train1,ly_train1,ty_train1)"
   ]
  }
 ],
 "metadata": {
  "kernelspec": {
   "display_name": "Python 3",
   "language": "python",
   "name": "python3"
  },
  "language_info": {
   "codemirror_mode": {
    "name": "ipython",
    "version": 3
   },
   "file_extension": ".py",
   "mimetype": "text/x-python",
   "name": "python",
   "nbconvert_exporter": "python",
   "pygments_lexer": "ipython3",
   "version": "3.7.6"
  },
  "papermill": {
   "duration": 1280.518774,
   "end_time": "2020-10-03T13:13:53.113288",
   "environment_variables": {},
   "exception": null,
   "input_path": "__notebook__.ipynb",
   "output_path": "__notebook__.ipynb",
   "parameters": {},
   "start_time": "2020-10-03T12:52:32.594514",
   "version": "2.1.0"
  }
 },
 "nbformat": 4,
 "nbformat_minor": 4
}
