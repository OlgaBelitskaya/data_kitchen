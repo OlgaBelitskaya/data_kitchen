{
 "cells": [
  {
   "cell_type": "code",
   "execution_count": 1,
   "metadata": {
    "_kg_hide-input": true,
    "execution": {
     "iopub.execute_input": "2020-10-14T17:17:22.424413Z",
     "iopub.status.busy": "2020-10-14T17:17:22.423666Z",
     "iopub.status.idle": "2020-10-14T17:17:22.434731Z",
     "shell.execute_reply": "2020-10-14T17:17:22.434151Z"
    },
    "papermill": {
     "duration": 0.026469,
     "end_time": "2020-10-14T17:17:22.434831",
     "exception": false,
     "start_time": "2020-10-14T17:17:22.408362",
     "status": "completed"
    },
    "tags": []
   },
   "outputs": [
    {
     "data": {
      "text/html": [
       "<style>\n",
       "    @import 'https://fonts.googleapis.com/css?family=Smokum&effect=3d-float';</style>\n",
       "    <h1 class='font-effect-3d-float' \n",
       "    style='font-family:Smokum; color:#FF355E; font-size:25px;'>\n",
       "    Data Processing</h1>"
      ],
      "text/plain": [
       "<IPython.core.display.HTML object>"
      ]
     },
     "metadata": {},
     "output_type": "display_data"
    }
   ],
   "source": [
    "%run ../input/python-recipes/dhtml.py\n",
    "dhtml('Data Processing')"
   ]
  },
  {
   "cell_type": "code",
   "execution_count": 2,
   "metadata": {
    "_cell_guid": "b1076dfc-b9ad-4769-8c92-a6c4dae69d19",
    "_kg_hide-input": true,
    "_uuid": "8f2839f25d086af736a60e9eeb907d3b93b6e0e5",
    "execution": {
     "iopub.execute_input": "2020-10-14T17:17:22.460014Z",
     "iopub.status.busy": "2020-10-14T17:17:22.459104Z",
     "iopub.status.idle": "2020-10-14T17:17:22.464561Z",
     "shell.execute_reply": "2020-10-14T17:17:22.463900Z"
    },
    "papermill": {
     "duration": 0.019894,
     "end_time": "2020-10-14T17:17:22.464700",
     "exception": false,
     "start_time": "2020-10-14T17:17:22.444806",
     "status": "completed"
    },
    "tags": []
   },
   "outputs": [
    {
     "name": "stdout",
     "output_type": "stream",
     "text": [
      "Writing load_kaggle_digits.py\n"
     ]
    }
   ],
   "source": [
    "%%writefile load_kaggle_digits.py\n",
    "import numpy as np,pandas as pd,pylab as pl\n",
    "from IPython.display import display\n",
    "def load_kaggle_digits(k,cmap):\n",
    "    df_train=pd.read_csv(\n",
    "        '../input/digit-recognizer/train.csv')\n",
    "    df_test=pd.read_csv(\n",
    "        '../input/digit-recognizer/test.csv')\n",
    "    pixel_idx=['%s%s'%('pixel',idx) \n",
    "               for idx in range(0,784)]\n",
    "    train_images=np.array(\n",
    "        df_train[pixel_idx].values,\n",
    "                 dtype='float32').reshape(-1,28,28,1)\n",
    "    train_images=(train_images/255)**k\n",
    "    test_images=np.array(\n",
    "        df_test[pixel_idx].values,\n",
    "                dtype='float32').reshape(-1,28,28,1)\n",
    "    test_images=(test_images/255)**k\n",
    "    train_labels=np.array(\n",
    "        df_train['label'].values,dtype='int32')\n",
    "    num_classes=len(set(train_labels))\n",
    "    N=train_labels.shape[0]; n=int(.1*N)\n",
    "    shuffle_ids=np.arange(N)\n",
    "    np.random.RandomState(123).shuffle(shuffle_ids)\n",
    "    train_images=train_images[shuffle_ids]\n",
    "    train_labels=train_labels[shuffle_ids]\n",
    "    fig=pl.figure(figsize=(10,6))\n",
    "    randch=np.random.choice(N,size=15,replace=False)\n",
    "    for i,idx in enumerate(randch):\n",
    "        ax=fig.add_subplot(3,5,i+1,xticks=[],yticks=[])\n",
    "        ax.imshow(train_images[idx].reshape(28,28),\n",
    "                  cmap=pl.get_cmap(cmap))\n",
    "        ax.set_title('%d'%train_labels[idx],\n",
    "                     fontsize=10)\n",
    "    pl.show()\n",
    "    x_test,x_valid,x_train=\\\n",
    "    train_images[:n],train_images[n:2*n],train_images[2*n:]\n",
    "    y_test,y_valid,y_train=\\\n",
    "    train_labels[:n],train_labels[n:2*n],train_labels[2*n:]\n",
    "    print('function outputs: \\n')\n",
    "    df=pd.DataFrame(\n",
    "        [[x_train.shape,x_valid.shape,\n",
    "          x_test.shape,test_images.shape],\n",
    "         [x_train.dtype,x_valid.dtype,\n",
    "          x_test.dtype,test_images.dtype],\n",
    "         [y_train.shape,y_valid.shape,y_test.shape,np.nan],\n",
    "         [y_train.dtype,y_valid.dtype,y_test.dtype,np.nan]],\n",
    "        columns=['train','valid','test','global test'],\n",
    "        index=['image shape','image type',\n",
    "               'label shape','label type'])\n",
    "    display(df)\n",
    "    return x_train,y_train,x_valid,y_valid,\\\n",
    "           x_test,y_test,test_images,num_classes"
   ]
  },
  {
   "cell_type": "code",
   "execution_count": 3,
   "metadata": {
    "_cell_guid": "79c7e3d0-c299-4dcb-8224-4455121ee9b0",
    "_uuid": "d629ff2d2480ee46fbb7e2d37f6b5fab8052498a",
    "execution": {
     "iopub.execute_input": "2020-10-14T17:17:22.492456Z",
     "iopub.status.busy": "2020-10-14T17:17:22.491579Z",
     "iopub.status.idle": "2020-10-14T17:17:31.084377Z",
     "shell.execute_reply": "2020-10-14T17:17:31.085245Z"
    },
    "papermill": {
     "duration": 8.609942,
     "end_time": "2020-10-14T17:17:31.085392",
     "exception": false,
     "start_time": "2020-10-14T17:17:22.475450",
     "status": "completed"
    },
    "tags": []
   },
   "outputs": [
    {
     "data": {
      "image/png": "[encoded data removed]",
      "text/plain": [
       "<Figure size 720x432 with 15 Axes>"
      ]
     },
     "metadata": {},
     "output_type": "display_data"
    },
    {
     "name": "stdout",
     "output_type": "stream",
     "text": [
      "function outputs: \n",
      "\n"
     ]
    },
    {
     "data": {
      "text/html": [
       "<div>\n",
       "<style scoped>\n",
       "    .dataframe tbody tr th:only-of-type {\n",
       "        vertical-align: middle;\n",
       "    }\n",
       "\n",
       "    .dataframe tbody tr th {\n",
       "        vertical-align: top;\n",
       "    }\n",
       "\n",
       "    .dataframe thead th {\n",
       "        text-align: right;\n",
       "    }\n",
       "</style>\n",
       "<table border=\"1\" class=\"dataframe\">\n",
       "  <thead>\n",
       "    <tr style=\"text-align: right;\">\n",
       "      <th></th>\n",
       "      <th>train</th>\n",
       "      <th>valid</th>\n",
       "      <th>test</th>\n",
       "      <th>global test</th>\n",
       "    </tr>\n",
       "  </thead>\n",
       "  <tbody>\n",
       "    <tr>\n",
       "      <th>image shape</th>\n",
       "      <td>(33600, 28, 28, 1)</td>\n",
       "      <td>(4200, 28, 28, 1)</td>\n",
       "      <td>(4200, 28, 28, 1)</td>\n",
       "      <td>(28000, 28, 28, 1)</td>\n",
       "    </tr>\n",
       "    <tr>\n",
       "      <th>image type</th>\n",
       "      <td>float32</td>\n",
       "      <td>float32</td>\n",
       "      <td>float32</td>\n",
       "      <td>float32</td>\n",
       "    </tr>\n",
       "    <tr>\n",
       "      <th>label shape</th>\n",
       "      <td>(33600,)</td>\n",
       "      <td>(4200,)</td>\n",
       "      <td>(4200,)</td>\n",
       "      <td>NaN</td>\n",
       "    </tr>\n",
       "    <tr>\n",
       "      <th>label type</th>\n",
       "      <td>int32</td>\n",
       "      <td>int32</td>\n",
       "      <td>int32</td>\n",
       "      <td>NaN</td>\n",
       "    </tr>\n",
       "  </tbody>\n",
       "</table>\n",
       "</div>"
      ],
      "text/plain": [
       "                          train              valid               test  \\\n",
       "image shape  (33600, 28, 28, 1)  (4200, 28, 28, 1)  (4200, 28, 28, 1)   \n",
       "image type              float32            float32            float32   \n",
       "label shape            (33600,)            (4200,)            (4200,)   \n",
       "label type                int32              int32              int32   \n",
       "\n",
       "                    global test  \n",
       "image shape  (28000, 28, 28, 1)  \n",
       "image type              float32  \n",
       "label shape                 NaN  \n",
       "label type                  NaN  "
      ]
     },
     "metadata": {},
     "output_type": "display_data"
    }
   ],
   "source": [
    "%run load_kaggle_digits.py\n",
    "k=.75; cmap='Pastel1_r'\n",
    "x_train,y_train,x_valid,y_valid,x_test,y_test,\\\n",
    "test_images,num_classes=\\\n",
    "load_kaggle_digits(k,cmap)"
   ]
  },
  {
   "cell_type": "code",
   "execution_count": 4,
   "metadata": {
    "_kg_hide-input": true,
    "execution": {
     "iopub.execute_input": "2020-10-14T17:17:31.116571Z",
     "iopub.status.busy": "2020-10-14T17:17:31.116002Z",
     "iopub.status.idle": "2020-10-14T17:17:31.121011Z",
     "shell.execute_reply": "2020-10-14T17:17:31.121481Z"
    },
    "papermill": {
     "duration": 0.023323,
     "end_time": "2020-10-14T17:17:31.121596",
     "exception": false,
     "start_time": "2020-10-14T17:17:31.098273",
     "status": "completed"
    },
    "tags": []
   },
   "outputs": [
    {
     "data": {
      "text/html": [
       "<style>\n",
       "    @import 'https://fonts.googleapis.com/css?family=Smokum&effect=3d-float';</style>\n",
       "    <h1 class='font-effect-3d-float' \n",
       "    style='font-family:Smokum; color:#FF355E; font-size:25px;'>\n",
       "    Classification</h1>"
      ],
      "text/plain": [
       "<IPython.core.display.HTML object>"
      ]
     },
     "metadata": {},
     "output_type": "display_data"
    }
   ],
   "source": [
    "dhtml('Classification')"
   ]
  },
  {
   "cell_type": "code",
   "execution_count": 5,
   "metadata": {
    "_kg_hide-input": true,
    "execution": {
     "iopub.execute_input": "2020-10-14T17:17:31.157398Z",
     "iopub.status.busy": "2020-10-14T17:17:31.155424Z",
     "iopub.status.idle": "2020-10-14T17:17:31.160477Z",
     "shell.execute_reply": "2020-10-14T17:17:31.159817Z"
    },
    "papermill": {
     "duration": 0.024459,
     "end_time": "2020-10-14T17:17:31.160595",
     "exception": false,
     "start_time": "2020-10-14T17:17:31.136136",
     "status": "completed"
    },
    "tags": []
   },
   "outputs": [
    {
     "name": "stdout",
     "output_type": "stream",
     "text": [
      "Writing classify_kaggle_digits.py\n"
     ]
    }
   ],
   "source": [
    "%%writefile classify_kaggle_digits.py\n",
    "import tensorflow.keras.layers as tkl\n",
    "import tensorflow.keras.callbacks as tkc\n",
    "from tensorflow.keras.models import Sequential\n",
    "from tensorflow.keras.metrics import \\\n",
    "sparse_top_k_categorical_accuracy,\\\n",
    "sparse_categorical_accuracy\n",
    "from tensorflow.keras.preprocessing.image \\\n",
    "import ImageDataGenerator\n",
    "from sklearn.metrics import \\\n",
    "classification_report,confusion_matrix\n",
    "from IPython.display import display\n",
    "import pandas as pd,pylab as pl\n",
    "\n",
    "def sparse_top_3_categorical_accuracy(y_true,y_pred):\n",
    "    return sparse_top_k_categorical_accuracy(y_true,y_pred,k=3)\n",
    "\n",
    "def cnn_model(num_classes):\n",
    "    model=Sequential()\n",
    "    model.add(tkl.Input(shape=(28,28,1)))\n",
    "    model.add(tkl.BatchNormalization())    \n",
    "    model.add(tkl.Conv2D(32,(5,5),padding='same'))\n",
    "    model.add(tkl.LeakyReLU(alpha=.02))\n",
    "    model.add(tkl.MaxPooling2D(strides=(2,2)))\n",
    "    model.add(tkl.Dropout(.25))    \n",
    "    model.add(tkl.Conv2D(96,(5,5)))\n",
    "    model.add(tkl.LeakyReLU(alpha=.02))\n",
    "    model.add(tkl.MaxPooling2D(strides=(2,2)))\n",
    "    model.add(tkl.Dropout(.25)) \n",
    "    model.add(tkl.GlobalMaxPooling2D())    \n",
    "    model.add(tkl.Dense(1024))\n",
    "    model.add(tkl.LeakyReLU(alpha=.02))\n",
    "    model.add(tkl.Dropout(.5))    \n",
    "    model.add(tkl.Dense(num_classes,activation='softmax'))    \n",
    "    model.compile(loss='sparse_categorical_crossentropy',\n",
    "                  optimizer='nadam', \n",
    "                  metrics=[sparse_categorical_accuracy,\n",
    "                           sparse_top_3_categorical_accuracy])    \n",
    "    return model\n",
    "\n",
    "def model_callbacks(weights):\n",
    "    checkpoint=tkc.ModelCheckpoint(\n",
    "        filepath=weights,verbose=2,save_best_only=True)\n",
    "    lr_reduce=tkc.ReduceLROnPlateau(\n",
    "        monitor='val_loss',patience=5,verbose=2,\n",
    "        factor=.8,min_lr=.1**6)\n",
    "    estop=tkc.EarlyStopping(\n",
    "        monitor='val_loss',patience=20,verbose=2)\n",
    "    return [checkpoint,lr_reduce,estop]\n",
    "\n",
    "def model_history(cnn_model,weights,epochs,gen_epochs,\n",
    "                  x_train,y_train,x_valid,y_valid):\n",
    "    fit_callbacks=model_callbacks(weights)\n",
    "    train_history=cnn_model.fit(\n",
    "        x_train,y_train,validation_data=(x_valid,y_valid), \n",
    "        epochs=epochs,batch_size=128,verbose=2, \n",
    "        callbacks=fit_callbacks) \n",
    "    data_generator=ImageDataGenerator(\n",
    "        zoom_range=.2,shear_range=.2,rotation_range=20,\n",
    "        width_shift_range=.2,height_shift_range=.2)\n",
    "    data_generator.fit(x_train)\n",
    "    generator_history=cnn_model.fit_generator(\n",
    "        data_generator.flow(x_train,y_train,batch_size=128),\n",
    "        steps_per_epoch=x_train.shape[0]//128,\n",
    "        epochs=gen_epochs,verbose=2,\n",
    "        validation_data=(x_valid,y_valid),\n",
    "        callbacks=fit_callbacks)\n",
    "    return train_history,generator_history\n",
    "\n",
    "def plot_history(model_history,start,color):\n",
    "    keys=list(model_history.history.keys())\n",
    "    list_history=[model_history.history[keys[i]] \n",
    "                  for i in range(len(keys))]\n",
    "    dfkeys=pd.DataFrame(list_history).T\n",
    "    dfkeys.columns=keys\n",
    "    fig=pl.figure(figsize=(10,12))\n",
    "    ax1=fig.add_subplot(411)\n",
    "    dfkeys.iloc[start:,[0,3]].plot(\n",
    "        ax=ax1,color=['slategray',color])\n",
    "    ax2=fig.add_subplot(412)\n",
    "    dfkeys.iloc[start:,6].plot(ax=ax2,color=color)\n",
    "    pl.legend()\n",
    "    ax3=fig.add_subplot(413)\n",
    "    dfkeys.iloc[start:,[1,4]].plot(\n",
    "        ax=ax3,color=['slategray',color])\n",
    "    ax3=fig.add_subplot(414)\n",
    "    dfkeys.iloc[start:,[2,5]].plot(\n",
    "        ax=ax3,color=['slategray',color])\n",
    "    pl.show();\n",
    "    display(dfkeys.tail(4).T)\n",
    "    \n",
    "def model_evaluation(cnn_model,x_test,y_test,\n",
    "                     weights,color,num_test):\n",
    "    cnn_model.load_weights(weights)\n",
    "    y_test_pred=cnn_model.predict_classes(x_test)\n",
    "    pl.figure(figsize=(10,5))\n",
    "    pl.scatter(range(num_test),y_test[:num_test],\n",
    "               s=100,color='slategray')\n",
    "    pl.scatter(range(num_test),y_test_pred[:num_test],\n",
    "               s=25,color=color)\n",
    "    pl.show()\n",
    "    cnn_scores=cnn_model.evaluate(\n",
    "        x_test,y_test,verbose=0)\n",
    "    print('cnn scores: \\n',(cnn_scores))\n",
    "    print('cnn error: %.2f%%'%(100-cnn_scores[1]*100))\n",
    "    print('classification report: \\n')\n",
    "    print(classification_report(y_test,y_test_pred))\n",
    "    print('confusion matrix: \\n')\n",
    "    print(confusion_matrix(y_test,y_test_pred))"
   ]
  },
  {
   "cell_type": "code",
   "execution_count": 6,
   "metadata": {
    "execution": {
     "iopub.execute_input": "2020-10-14T17:17:31.192486Z",
     "iopub.status.busy": "2020-10-14T17:17:31.191640Z",
     "iopub.status.idle": "2020-10-14T17:17:37.137821Z",
     "shell.execute_reply": "2020-10-14T17:17:37.137035Z"
    },
    "papermill": {
     "duration": 5.963499,
     "end_time": "2020-10-14T17:17:37.138101",
     "exception": false,
     "start_time": "2020-10-14T17:17:31.174602",
     "status": "completed"
    },
    "tags": []
   },
   "outputs": [
    {
     "data": {
      "text/plain": [
       "<Figure size 432x288 with 0 Axes>"
      ]
     },
     "metadata": {},
     "output_type": "display_data"
    }
   ],
   "source": [
    "%run classify_kaggle_digits.py"
   ]
  },
  {
   "cell_type": "code",
   "execution_count": 7,
   "metadata": {
    "_kg_hide-output": true,
    "execution": {
     "iopub.execute_input": "2020-10-14T17:17:37.190568Z",
     "iopub.status.busy": "2020-10-14T17:17:37.189545Z",
     "iopub.status.idle": "2020-10-14T17:25:04.977255Z",
     "shell.execute_reply": "2020-10-14T17:25:04.976559Z"
    },
    "papermill": {
     "duration": 447.81537,
     "end_time": "2020-10-14T17:25:04.977380",
     "exception": false,
     "start_time": "2020-10-14T17:17:37.162010",
     "status": "completed"
    },
    "tags": []
   },
   "outputs": [
    {
     "name": "stdout",
     "output_type": "stream",
     "text": [
      "Epoch 1/100\n",
      "\n",
      "Epoch 00001: val_loss improved from inf to 0.12133, saving model to weights.best.hdf5\n",
      "263/263 - 2s - loss: 0.4846 - sparse_categorical_accuracy: 0.8383 - sparse_top_3_categorical_accuracy: 0.9337 - val_loss: 0.1213 - val_sparse_categorical_accuracy: 0.9757 - val_sparse_top_3_categorical_accuracy: 0.9974\n",
      "Epoch 2/100\n",
      "\n",
      "Epoch 00002: val_loss improved from 0.12133 to 0.10808, saving model to weights.best.hdf5\n",
      "263/263 - 2s - loss: 0.1094 - sparse_categorical_accuracy: 0.9650 - sparse_top_3_categorical_accuracy: 0.9962 - val_loss: 0.1081 - val_sparse_categorical_accuracy: 0.9714 - val_sparse_top_3_categorical_accuracy: 0.9945\n",
      "Epoch 3/100\n",
      "\n",
      "Epoch 00003: val_loss improved from 0.10808 to 0.08339, saving model to weights.best.hdf5\n",
      "263/263 - 2s - loss: 0.0781 - sparse_categorical_accuracy: 0.9757 - sparse_top_3_categorical_accuracy: 0.9978 - val_loss: 0.0834 - val_sparse_categorical_accuracy: 0.9779 - val_sparse_top_3_categorical_accuracy: 0.9974\n",
      "Epoch 4/100\n",
      "\n",
      "Epoch 00004: val_loss improved from 0.08339 to 0.05278, saving model to weights.best.hdf5\n",
      "263/263 - 2s - loss: 0.0638 - sparse_categorical_accuracy: 0.9805 - sparse_top_3_categorical_accuracy: 0.9984 - val_loss: 0.0528 - val_sparse_categorical_accuracy: 0.9817 - val_sparse_top_3_categorical_accuracy: 0.9983\n",
      "Epoch 5/100\n",
      "\n",
      "Epoch 00005: val_loss did not improve from 0.05278\n",
      "263/263 - 2s - loss: 0.0559 - sparse_categorical_accuracy: 0.9825 - sparse_top_3_categorical_accuracy: 0.9989 - val_loss: 0.0551 - val_sparse_categorical_accuracy: 0.9826 - val_sparse_top_3_categorical_accuracy: 0.9983\n",
      "Epoch 6/100\n",
      "\n",
      "Epoch 00006: val_loss improved from 0.05278 to 0.03327, saving model to weights.best.hdf5\n",
      "263/263 - 2s - loss: 0.0548 - sparse_categorical_accuracy: 0.9832 - sparse_top_3_categorical_accuracy: 0.9986 - val_loss: 0.0333 - val_sparse_categorical_accuracy: 0.9900 - val_sparse_top_3_categorical_accuracy: 0.9993\n",
      "Epoch 7/100\n",
      "\n",
      "Epoch 00007: val_loss did not improve from 0.03327\n",
      "263/263 - 2s - loss: 0.0455 - sparse_categorical_accuracy: 0.9852 - sparse_top_3_categorical_accuracy: 0.9992 - val_loss: 0.0337 - val_sparse_categorical_accuracy: 0.9890 - val_sparse_top_3_categorical_accuracy: 0.9995\n",
      "Epoch 8/100\n",
      "\n",
      "Epoch 00008: val_loss improved from 0.03327 to 0.03308, saving model to weights.best.hdf5\n",
      "263/263 - 2s - loss: 0.0410 - sparse_categorical_accuracy: 0.9862 - sparse_top_3_categorical_accuracy: 0.9994 - val_loss: 0.0331 - val_sparse_categorical_accuracy: 0.9905 - val_sparse_top_3_categorical_accuracy: 0.9993\n",
      "Epoch 9/100\n",
      "\n",
      "Epoch 00009: val_loss improved from 0.03308 to 0.03213, saving model to weights.best.hdf5\n",
      "263/263 - 2s - loss: 0.0416 - sparse_categorical_accuracy: 0.9869 - sparse_top_3_categorical_accuracy: 0.9992 - val_loss: 0.0321 - val_sparse_categorical_accuracy: 0.9893 - val_sparse_top_3_categorical_accuracy: 0.9995\n",
      "Epoch 10/100\n",
      "\n",
      "Epoch 00010: val_loss improved from 0.03213 to 0.03176, saving model to weights.best.hdf5\n",
      "263/263 - 2s - loss: 0.0354 - sparse_categorical_accuracy: 0.9888 - sparse_top_3_categorical_accuracy: 0.9994 - val_loss: 0.0318 - val_sparse_categorical_accuracy: 0.9902 - val_sparse_top_3_categorical_accuracy: 0.9986\n",
      "Epoch 11/100\n",
      "\n",
      "Epoch 00011: val_loss did not improve from 0.03176\n",
      "263/263 - 2s - loss: 0.0364 - sparse_categorical_accuracy: 0.9885 - sparse_top_3_categorical_accuracy: 0.9993 - val_loss: 0.0320 - val_sparse_categorical_accuracy: 0.9912 - val_sparse_top_3_categorical_accuracy: 0.9988\n",
      "Epoch 12/100\n",
      "\n",
      "Epoch 00012: val_loss did not improve from 0.03176\n",
      "263/263 - 2s - loss: 0.0305 - sparse_categorical_accuracy: 0.9900 - sparse_top_3_categorical_accuracy: 0.9994 - val_loss: 0.0371 - val_sparse_categorical_accuracy: 0.9876 - val_sparse_top_3_categorical_accuracy: 0.9995\n",
      "Epoch 13/100\n",
      "\n",
      "Epoch 00013: val_loss improved from 0.03176 to 0.03071, saving model to weights.best.hdf5\n",
      "263/263 - 2s - loss: 0.0307 - sparse_categorical_accuracy: 0.9901 - sparse_top_3_categorical_accuracy: 0.9996 - val_loss: 0.0307 - val_sparse_categorical_accuracy: 0.9905 - val_sparse_top_3_categorical_accuracy: 0.9995\n",
      "Epoch 14/100\n",
      "\n",
      "Epoch 00014: val_loss improved from 0.03071 to 0.02706, saving model to weights.best.hdf5\n",
      "263/263 - 2s - loss: 0.0295 - sparse_categorical_accuracy: 0.9906 - sparse_top_3_categorical_accuracy: 0.9997 - val_loss: 0.0271 - val_sparse_categorical_accuracy: 0.9905 - val_sparse_top_3_categorical_accuracy: 0.9995\n",
      "Epoch 15/100\n",
      "\n",
      "Epoch 00015: val_loss did not improve from 0.02706\n",
      "263/263 - 2s - loss: 0.0308 - sparse_categorical_accuracy: 0.9901 - sparse_top_3_categorical_accuracy: 0.9996 - val_loss: 0.0291 - val_sparse_categorical_accuracy: 0.9912 - val_sparse_top_3_categorical_accuracy: 0.9993\n",
      "Epoch 16/100\n",
      "\n",
      "Epoch 00016: val_loss improved from 0.02706 to 0.02611, saving model to weights.best.hdf5\n",
      "263/263 - 2s - loss: 0.0292 - sparse_categorical_accuracy: 0.9907 - sparse_top_3_categorical_accuracy: 0.9996 - val_loss: 0.0261 - val_sparse_categorical_accuracy: 0.9933 - val_sparse_top_3_categorical_accuracy: 0.9995\n",
      "Epoch 17/100\n",
      "\n",
      "Epoch 00017: val_loss improved from 0.02611 to 0.02534, saving model to weights.best.hdf5\n",
      "263/263 - 2s - loss: 0.0264 - sparse_categorical_accuracy: 0.9913 - sparse_top_3_categorical_accuracy: 0.9998 - val_loss: 0.0253 - val_sparse_categorical_accuracy: 0.9919 - val_sparse_top_3_categorical_accuracy: 0.9993\n",
      "Epoch 18/100\n",
      "\n",
      "Epoch 00018: val_loss did not improve from 0.02534\n",
      "263/263 - 2s - loss: 0.0258 - sparse_categorical_accuracy: 0.9916 - sparse_top_3_categorical_accuracy: 0.9997 - val_loss: 0.0259 - val_sparse_categorical_accuracy: 0.9924 - val_sparse_top_3_categorical_accuracy: 0.9993\n",
      "Epoch 19/100\n",
      "\n",
      "Epoch 00019: val_loss improved from 0.02534 to 0.02317, saving model to weights.best.hdf5\n",
      "263/263 - 2s - loss: 0.0229 - sparse_categorical_accuracy: 0.9924 - sparse_top_3_categorical_accuracy: 0.9998 - val_loss: 0.0232 - val_sparse_categorical_accuracy: 0.9936 - val_sparse_top_3_categorical_accuracy: 0.9995\n",
      "Epoch 20/100\n",
      "\n",
      "Epoch 00020: val_loss did not improve from 0.02317\n",
      "263/263 - 2s - loss: 0.0264 - sparse_categorical_accuracy: 0.9915 - sparse_top_3_categorical_accuracy: 0.9998 - val_loss: 0.0270 - val_sparse_categorical_accuracy: 0.9921 - val_sparse_top_3_categorical_accuracy: 0.9995\n",
      "Epoch 21/100\n",
      "\n",
      "Epoch 00021: val_loss did not improve from 0.02317\n",
      "263/263 - 2s - loss: 0.0218 - sparse_categorical_accuracy: 0.9927 - sparse_top_3_categorical_accuracy: 0.9999 - val_loss: 0.0246 - val_sparse_categorical_accuracy: 0.9933 - val_sparse_top_3_categorical_accuracy: 0.9995\n",
      "Epoch 22/100\n",
      "\n",
      "Epoch 00022: val_loss did not improve from 0.02317\n",
      "263/263 - 2s - loss: 0.0211 - sparse_categorical_accuracy: 0.9928 - sparse_top_3_categorical_accuracy: 0.9998 - val_loss: 0.0275 - val_sparse_categorical_accuracy: 0.9933 - val_sparse_top_3_categorical_accuracy: 0.9995\n",
      "Epoch 23/100\n",
      "\n",
      "Epoch 00023: val_loss did not improve from 0.02317\n",
      "263/263 - 2s - loss: 0.0217 - sparse_categorical_accuracy: 0.9928 - sparse_top_3_categorical_accuracy: 0.9999 - val_loss: 0.0263 - val_sparse_categorical_accuracy: 0.9924 - val_sparse_top_3_categorical_accuracy: 0.9990\n",
      "Epoch 24/100\n",
      "\n",
      "Epoch 00024: val_loss did not improve from 0.02317\n",
      "\n",
      "Epoch 00024: ReduceLROnPlateau reducing learning rate to 0.000800000037997961.\n",
      "263/263 - 2s - loss: 0.0212 - sparse_categorical_accuracy: 0.9929 - sparse_top_3_categorical_accuracy: 0.9999 - val_loss: 0.0262 - val_sparse_categorical_accuracy: 0.9910 - val_sparse_top_3_categorical_accuracy: 0.9990\n",
      "Epoch 25/100\n",
      "\n",
      "Epoch 00025: val_loss did not improve from 0.02317\n",
      "263/263 - 2s - loss: 0.0163 - sparse_categorical_accuracy: 0.9946 - sparse_top_3_categorical_accuracy: 0.9999 - val_loss: 0.0253 - val_sparse_categorical_accuracy: 0.9929 - val_sparse_top_3_categorical_accuracy: 0.9990\n",
      "Epoch 26/100\n",
      "\n",
      "Epoch 00026: val_loss did not improve from 0.02317\n",
      "263/263 - 2s - loss: 0.0149 - sparse_categorical_accuracy: 0.9944 - sparse_top_3_categorical_accuracy: 0.9999 - val_loss: 0.0265 - val_sparse_categorical_accuracy: 0.9912 - val_sparse_top_3_categorical_accuracy: 0.9993\n",
      "Epoch 27/100\n",
      "\n",
      "Epoch 00027: val_loss did not improve from 0.02317\n",
      "263/263 - 2s - loss: 0.0167 - sparse_categorical_accuracy: 0.9946 - sparse_top_3_categorical_accuracy: 0.9999 - val_loss: 0.0239 - val_sparse_categorical_accuracy: 0.9926 - val_sparse_top_3_categorical_accuracy: 0.9995\n",
      "Epoch 28/100\n",
      "\n",
      "Epoch 00028: val_loss did not improve from 0.02317\n",
      "263/263 - 2s - loss: 0.0142 - sparse_categorical_accuracy: 0.9954 - sparse_top_3_categorical_accuracy: 0.9999 - val_loss: 0.0297 - val_sparse_categorical_accuracy: 0.9926 - val_sparse_top_3_categorical_accuracy: 0.9990\n",
      "Epoch 29/100\n",
      "\n",
      "Epoch 00029: val_loss did not improve from 0.02317\n",
      "\n",
      "Epoch 00029: ReduceLROnPlateau reducing learning rate to 0.0006400000303983689.\n",
      "263/263 - 2s - loss: 0.0162 - sparse_categorical_accuracy: 0.9946 - sparse_top_3_categorical_accuracy: 0.9999 - val_loss: 0.0269 - val_sparse_categorical_accuracy: 0.9938 - val_sparse_top_3_categorical_accuracy: 0.9990\n",
      "Epoch 30/100\n",
      "\n",
      "Epoch 00030: val_loss did not improve from 0.02317\n",
      "263/263 - 2s - loss: 0.0115 - sparse_categorical_accuracy: 0.9963 - sparse_top_3_categorical_accuracy: 1.0000 - val_loss: 0.0274 - val_sparse_categorical_accuracy: 0.9919 - val_sparse_top_3_categorical_accuracy: 0.9995\n",
      "Epoch 31/100\n",
      "\n",
      "Epoch 00031: val_loss did not improve from 0.02317\n",
      "263/263 - 2s - loss: 0.0117 - sparse_categorical_accuracy: 0.9959 - sparse_top_3_categorical_accuracy: 0.9999 - val_loss: 0.0233 - val_sparse_categorical_accuracy: 0.9940 - val_sparse_top_3_categorical_accuracy: 0.9993\n",
      "Epoch 32/100\n",
      "\n",
      "Epoch 00032: val_loss did not improve from 0.02317\n",
      "263/263 - 2s - loss: 0.0130 - sparse_categorical_accuracy: 0.9955 - sparse_top_3_categorical_accuracy: 0.9999 - val_loss: 0.0233 - val_sparse_categorical_accuracy: 0.9929 - val_sparse_top_3_categorical_accuracy: 0.9993\n",
      "Epoch 33/100\n",
      "\n",
      "Epoch 00033: val_loss improved from 0.02317 to 0.01990, saving model to weights.best.hdf5\n",
      "263/263 - 2s - loss: 0.0123 - sparse_categorical_accuracy: 0.9957 - sparse_top_3_categorical_accuracy: 0.9999 - val_loss: 0.0199 - val_sparse_categorical_accuracy: 0.9945 - val_sparse_top_3_categorical_accuracy: 0.9995\n",
      "Epoch 34/100\n",
      "\n",
      "Epoch 00034: val_loss did not improve from 0.01990\n",
      "263/263 - 2s - loss: 0.0112 - sparse_categorical_accuracy: 0.9959 - sparse_top_3_categorical_accuracy: 1.0000 - val_loss: 0.0224 - val_sparse_categorical_accuracy: 0.9938 - val_sparse_top_3_categorical_accuracy: 0.9995\n",
      "Epoch 35/100\n",
      "\n",
      "Epoch 00035: val_loss did not improve from 0.01990\n",
      "263/263 - 2s - loss: 0.0116 - sparse_categorical_accuracy: 0.9961 - sparse_top_3_categorical_accuracy: 1.0000 - val_loss: 0.0260 - val_sparse_categorical_accuracy: 0.9936 - val_sparse_top_3_categorical_accuracy: 0.9995\n",
      "Epoch 36/100\n",
      "\n",
      "Epoch 00036: val_loss did not improve from 0.01990\n",
      "263/263 - 2s - loss: 0.0100 - sparse_categorical_accuracy: 0.9970 - sparse_top_3_categorical_accuracy: 1.0000 - val_loss: 0.0291 - val_sparse_categorical_accuracy: 0.9929 - val_sparse_top_3_categorical_accuracy: 0.9993\n",
      "Epoch 37/100\n",
      "\n",
      "Epoch 00037: val_loss did not improve from 0.01990\n",
      "263/263 - 2s - loss: 0.0110 - sparse_categorical_accuracy: 0.9966 - sparse_top_3_categorical_accuracy: 0.9999 - val_loss: 0.0224 - val_sparse_categorical_accuracy: 0.9940 - val_sparse_top_3_categorical_accuracy: 0.9995\n",
      "Epoch 38/100\n",
      "\n",
      "Epoch 00038: val_loss did not improve from 0.01990\n",
      "\n",
      "Epoch 00038: ReduceLROnPlateau reducing learning rate to 0.0005120000336319208.\n",
      "263/263 - 2s - loss: 0.0103 - sparse_categorical_accuracy: 0.9968 - sparse_top_3_categorical_accuracy: 1.0000 - val_loss: 0.0293 - val_sparse_categorical_accuracy: 0.9931 - val_sparse_top_3_categorical_accuracy: 0.9993\n",
      "Epoch 39/100\n",
      "\n",
      "Epoch 00039: val_loss did not improve from 0.01990\n",
      "263/263 - 2s - loss: 0.0094 - sparse_categorical_accuracy: 0.9968 - sparse_top_3_categorical_accuracy: 0.9999 - val_loss: 0.0285 - val_sparse_categorical_accuracy: 0.9938 - val_sparse_top_3_categorical_accuracy: 0.9995\n",
      "Epoch 40/100\n",
      "\n",
      "Epoch 00040: val_loss did not improve from 0.01990\n",
      "263/263 - 2s - loss: 0.0095 - sparse_categorical_accuracy: 0.9966 - sparse_top_3_categorical_accuracy: 0.9999 - val_loss: 0.0258 - val_sparse_categorical_accuracy: 0.9936 - val_sparse_top_3_categorical_accuracy: 0.9995\n",
      "Epoch 41/100\n",
      "\n",
      "Epoch 00041: val_loss did not improve from 0.01990\n",
      "263/263 - 2s - loss: 0.0083 - sparse_categorical_accuracy: 0.9973 - sparse_top_3_categorical_accuracy: 1.0000 - val_loss: 0.0238 - val_sparse_categorical_accuracy: 0.9938 - val_sparse_top_3_categorical_accuracy: 0.9995\n",
      "Epoch 42/100\n",
      "\n",
      "Epoch 00042: val_loss did not improve from 0.01990\n",
      "263/263 - 2s - loss: 0.0089 - sparse_categorical_accuracy: 0.9970 - sparse_top_3_categorical_accuracy: 0.9999 - val_loss: 0.0312 - val_sparse_categorical_accuracy: 0.9919 - val_sparse_top_3_categorical_accuracy: 0.9993\n",
      "Epoch 43/100\n",
      "\n",
      "Epoch 00043: val_loss did not improve from 0.01990\n",
      "\n",
      "Epoch 00043: ReduceLROnPlateau reducing learning rate to 0.00040960004553198815.\n",
      "263/263 - 2s - loss: 0.0092 - sparse_categorical_accuracy: 0.9970 - sparse_top_3_categorical_accuracy: 1.0000 - val_loss: 0.0260 - val_sparse_categorical_accuracy: 0.9938 - val_sparse_top_3_categorical_accuracy: 0.9995\n",
      "Epoch 44/100\n",
      "\n",
      "Epoch 00044: val_loss did not improve from 0.01990\n",
      "263/263 - 2s - loss: 0.0068 - sparse_categorical_accuracy: 0.9974 - sparse_top_3_categorical_accuracy: 0.9999 - val_loss: 0.0230 - val_sparse_categorical_accuracy: 0.9948 - val_sparse_top_3_categorical_accuracy: 0.9995\n",
      "Epoch 45/100\n",
      "\n",
      "Epoch 00045: val_loss did not improve from 0.01990\n",
      "263/263 - 2s - loss: 0.0064 - sparse_categorical_accuracy: 0.9980 - sparse_top_3_categorical_accuracy: 1.0000 - val_loss: 0.0245 - val_sparse_categorical_accuracy: 0.9929 - val_sparse_top_3_categorical_accuracy: 0.9995\n",
      "Epoch 46/100\n",
      "\n",
      "Epoch 00046: val_loss did not improve from 0.01990\n",
      "263/263 - 2s - loss: 0.0063 - sparse_categorical_accuracy: 0.9980 - sparse_top_3_categorical_accuracy: 1.0000 - val_loss: 0.0231 - val_sparse_categorical_accuracy: 0.9945 - val_sparse_top_3_categorical_accuracy: 0.9995\n",
      "Epoch 47/100\n",
      "\n",
      "Epoch 00047: val_loss did not improve from 0.01990\n",
      "263/263 - 2s - loss: 0.0067 - sparse_categorical_accuracy: 0.9978 - sparse_top_3_categorical_accuracy: 1.0000 - val_loss: 0.0232 - val_sparse_categorical_accuracy: 0.9945 - val_sparse_top_3_categorical_accuracy: 0.9995\n",
      "Epoch 48/100\n",
      "\n",
      "Epoch 00048: val_loss did not improve from 0.01990\n",
      "\n",
      "Epoch 00048: ReduceLROnPlateau reducing learning rate to 0.00032768002711236477.\n",
      "263/263 - 2s - loss: 0.0074 - sparse_categorical_accuracy: 0.9976 - sparse_top_3_categorical_accuracy: 1.0000 - val_loss: 0.0252 - val_sparse_categorical_accuracy: 0.9931 - val_sparse_top_3_categorical_accuracy: 0.9995\n",
      "Epoch 49/100\n",
      "\n",
      "Epoch 00049: val_loss did not improve from 0.01990\n",
      "263/263 - 2s - loss: 0.0062 - sparse_categorical_accuracy: 0.9982 - sparse_top_3_categorical_accuracy: 1.0000 - val_loss: 0.0253 - val_sparse_categorical_accuracy: 0.9945 - val_sparse_top_3_categorical_accuracy: 0.9995\n",
      "Epoch 50/100\n",
      "\n",
      "Epoch 00050: val_loss did not improve from 0.01990\n",
      "263/263 - 2s - loss: 0.0065 - sparse_categorical_accuracy: 0.9979 - sparse_top_3_categorical_accuracy: 1.0000 - val_loss: 0.0270 - val_sparse_categorical_accuracy: 0.9938 - val_sparse_top_3_categorical_accuracy: 0.9995\n",
      "Epoch 51/100\n",
      "\n",
      "Epoch 00051: val_loss did not improve from 0.01990\n",
      "263/263 - 2s - loss: 0.0047 - sparse_categorical_accuracy: 0.9984 - sparse_top_3_categorical_accuracy: 1.0000 - val_loss: 0.0250 - val_sparse_categorical_accuracy: 0.9938 - val_sparse_top_3_categorical_accuracy: 0.9995\n",
      "Epoch 52/100\n",
      "\n",
      "Epoch 00052: val_loss did not improve from 0.01990\n",
      "263/263 - 2s - loss: 0.0055 - sparse_categorical_accuracy: 0.9979 - sparse_top_3_categorical_accuracy: 1.0000 - val_loss: 0.0203 - val_sparse_categorical_accuracy: 0.9948 - val_sparse_top_3_categorical_accuracy: 0.9993\n",
      "Epoch 53/100\n",
      "\n",
      "Epoch 00053: val_loss did not improve from 0.01990\n",
      "\n",
      "Epoch 00053: ReduceLROnPlateau reducing learning rate to 0.0002621440216898918.\n",
      "263/263 - 2s - loss: 0.0043 - sparse_categorical_accuracy: 0.9985 - sparse_top_3_categorical_accuracy: 1.0000 - val_loss: 0.0283 - val_sparse_categorical_accuracy: 0.9933 - val_sparse_top_3_categorical_accuracy: 0.9995\n",
      "Epoch 00053: early stopping\n",
      "Epoch 1/30\n",
      "\n",
      "Epoch 00001: val_loss improved from 0.01990 to 0.01973, saving model to weights.best.hdf5\n",
      "262/262 - 12s - loss: 0.1499 - sparse_categorical_accuracy: 0.9555 - sparse_top_3_categorical_accuracy: 0.9941 - val_loss: 0.0197 - val_sparse_categorical_accuracy: 0.9929 - val_sparse_top_3_categorical_accuracy: 0.9995\n",
      "Epoch 2/30\n",
      "\n",
      "Epoch 00002: val_loss improved from 0.01973 to 0.01725, saving model to weights.best.hdf5\n",
      "262/262 - 11s - loss: 0.1060 - sparse_categorical_accuracy: 0.9670 - sparse_top_3_categorical_accuracy: 0.9964 - val_loss: 0.0173 - val_sparse_categorical_accuracy: 0.9945 - val_sparse_top_3_categorical_accuracy: 0.9995\n",
      "Epoch 3/30\n",
      "\n",
      "Epoch 00003: val_loss improved from 0.01725 to 0.01698, saving model to weights.best.hdf5\n",
      "262/262 - 12s - loss: 0.1010 - sparse_categorical_accuracy: 0.9690 - sparse_top_3_categorical_accuracy: 0.9969 - val_loss: 0.0170 - val_sparse_categorical_accuracy: 0.9948 - val_sparse_top_3_categorical_accuracy: 0.9995\n",
      "Epoch 4/30\n",
      "\n",
      "Epoch 00004: val_loss improved from 0.01698 to 0.01602, saving model to weights.best.hdf5\n",
      "262/262 - 11s - loss: 0.0935 - sparse_categorical_accuracy: 0.9696 - sparse_top_3_categorical_accuracy: 0.9976 - val_loss: 0.0160 - val_sparse_categorical_accuracy: 0.9950 - val_sparse_top_3_categorical_accuracy: 0.9995\n",
      "Epoch 5/30\n",
      "\n",
      "Epoch 00005: val_loss improved from 0.01602 to 0.01572, saving model to weights.best.hdf5\n",
      "262/262 - 12s - loss: 0.0847 - sparse_categorical_accuracy: 0.9744 - sparse_top_3_categorical_accuracy: 0.9974 - val_loss: 0.0157 - val_sparse_categorical_accuracy: 0.9955 - val_sparse_top_3_categorical_accuracy: 0.9998\n",
      "Epoch 6/30\n",
      "\n",
      "Epoch 00006: val_loss did not improve from 0.01572\n",
      "262/262 - 12s - loss: 0.0802 - sparse_categorical_accuracy: 0.9750 - sparse_top_3_categorical_accuracy: 0.9978 - val_loss: 0.0179 - val_sparse_categorical_accuracy: 0.9940 - val_sparse_top_3_categorical_accuracy: 0.9998\n",
      "Epoch 7/30\n",
      "\n",
      "Epoch 00007: val_loss improved from 0.01572 to 0.01552, saving model to weights.best.hdf5\n",
      "262/262 - 11s - loss: 0.0808 - sparse_categorical_accuracy: 0.9731 - sparse_top_3_categorical_accuracy: 0.9978 - val_loss: 0.0155 - val_sparse_categorical_accuracy: 0.9952 - val_sparse_top_3_categorical_accuracy: 0.9998\n",
      "Epoch 8/30\n",
      "\n",
      "Epoch 00008: val_loss improved from 0.01552 to 0.01432, saving model to weights.best.hdf5\n",
      "262/262 - 11s - loss: 0.0766 - sparse_categorical_accuracy: 0.9754 - sparse_top_3_categorical_accuracy: 0.9981 - val_loss: 0.0143 - val_sparse_categorical_accuracy: 0.9952 - val_sparse_top_3_categorical_accuracy: 0.9993\n",
      "Epoch 9/30\n",
      "\n",
      "Epoch 00009: val_loss did not improve from 0.01432\n",
      "262/262 - 12s - loss: 0.0732 - sparse_categorical_accuracy: 0.9763 - sparse_top_3_categorical_accuracy: 0.9980 - val_loss: 0.0152 - val_sparse_categorical_accuracy: 0.9955 - val_sparse_top_3_categorical_accuracy: 0.9998\n",
      "Epoch 10/30\n",
      "\n",
      "Epoch 00010: val_loss did not improve from 0.01432\n",
      "262/262 - 11s - loss: 0.0734 - sparse_categorical_accuracy: 0.9771 - sparse_top_3_categorical_accuracy: 0.9977 - val_loss: 0.0155 - val_sparse_categorical_accuracy: 0.9950 - val_sparse_top_3_categorical_accuracy: 0.9998\n",
      "Epoch 11/30\n",
      "\n",
      "Epoch 00011: val_loss did not improve from 0.01432\n",
      "262/262 - 12s - loss: 0.0707 - sparse_categorical_accuracy: 0.9775 - sparse_top_3_categorical_accuracy: 0.9985 - val_loss: 0.0149 - val_sparse_categorical_accuracy: 0.9948 - val_sparse_top_3_categorical_accuracy: 0.9998\n",
      "Epoch 12/30\n",
      "\n",
      "Epoch 00012: val_loss did not improve from 0.01432\n",
      "262/262 - 12s - loss: 0.0683 - sparse_categorical_accuracy: 0.9780 - sparse_top_3_categorical_accuracy: 0.9984 - val_loss: 0.0150 - val_sparse_categorical_accuracy: 0.9957 - val_sparse_top_3_categorical_accuracy: 0.9998\n",
      "Epoch 13/30\n",
      "\n",
      "Epoch 00013: val_loss improved from 0.01432 to 0.01299, saving model to weights.best.hdf5\n",
      "262/262 - 11s - loss: 0.0653 - sparse_categorical_accuracy: 0.9793 - sparse_top_3_categorical_accuracy: 0.9986 - val_loss: 0.0130 - val_sparse_categorical_accuracy: 0.9962 - val_sparse_top_3_categorical_accuracy: 0.9998\n",
      "Epoch 14/30\n",
      "\n",
      "Epoch 00014: val_loss did not improve from 0.01299\n",
      "262/262 - 12s - loss: 0.0638 - sparse_categorical_accuracy: 0.9809 - sparse_top_3_categorical_accuracy: 0.9987 - val_loss: 0.0150 - val_sparse_categorical_accuracy: 0.9945 - val_sparse_top_3_categorical_accuracy: 0.9998\n",
      "Epoch 15/30\n",
      "\n",
      "Epoch 00015: val_loss improved from 0.01299 to 0.01253, saving model to weights.best.hdf5\n",
      "262/262 - 11s - loss: 0.0668 - sparse_categorical_accuracy: 0.9792 - sparse_top_3_categorical_accuracy: 0.9978 - val_loss: 0.0125 - val_sparse_categorical_accuracy: 0.9960 - val_sparse_top_3_categorical_accuracy: 0.9998\n",
      "Epoch 16/30\n",
      "\n",
      "Epoch 00016: val_loss did not improve from 0.01253\n",
      "262/262 - 11s - loss: 0.0623 - sparse_categorical_accuracy: 0.9799 - sparse_top_3_categorical_accuracy: 0.9988 - val_loss: 0.0145 - val_sparse_categorical_accuracy: 0.9948 - val_sparse_top_3_categorical_accuracy: 0.9998\n",
      "Epoch 17/30\n",
      "\n",
      "Epoch 00017: val_loss did not improve from 0.01253\n",
      "262/262 - 12s - loss: 0.0669 - sparse_categorical_accuracy: 0.9787 - sparse_top_3_categorical_accuracy: 0.9985 - val_loss: 0.0128 - val_sparse_categorical_accuracy: 0.9960 - val_sparse_top_3_categorical_accuracy: 1.0000\n",
      "Epoch 18/30\n",
      "\n",
      "Epoch 00018: val_loss did not improve from 0.01253\n",
      "262/262 - 11s - loss: 0.0594 - sparse_categorical_accuracy: 0.9807 - sparse_top_3_categorical_accuracy: 0.9987 - val_loss: 0.0136 - val_sparse_categorical_accuracy: 0.9962 - val_sparse_top_3_categorical_accuracy: 1.0000\n",
      "Epoch 19/30\n",
      "\n",
      "Epoch 00019: val_loss did not improve from 0.01253\n",
      "262/262 - 11s - loss: 0.0563 - sparse_categorical_accuracy: 0.9820 - sparse_top_3_categorical_accuracy: 0.9987 - val_loss: 0.0133 - val_sparse_categorical_accuracy: 0.9955 - val_sparse_top_3_categorical_accuracy: 0.9998\n",
      "Epoch 20/30\n",
      "\n",
      "Epoch 00020: val_loss did not improve from 0.01253\n",
      "\n",
      "Epoch 00020: ReduceLROnPlateau reducing learning rate to 0.00020971521735191345.\n",
      "262/262 - 12s - loss: 0.0634 - sparse_categorical_accuracy: 0.9804 - sparse_top_3_categorical_accuracy: 0.9985 - val_loss: 0.0126 - val_sparse_categorical_accuracy: 0.9962 - val_sparse_top_3_categorical_accuracy: 0.9998\n",
      "Epoch 21/30\n",
      "\n",
      "Epoch 00021: val_loss did not improve from 0.01253\n",
      "262/262 - 11s - loss: 0.0572 - sparse_categorical_accuracy: 0.9813 - sparse_top_3_categorical_accuracy: 0.9988 - val_loss: 0.0133 - val_sparse_categorical_accuracy: 0.9964 - val_sparse_top_3_categorical_accuracy: 0.9995\n",
      "Epoch 22/30\n",
      "\n",
      "Epoch 00022: val_loss did not improve from 0.01253\n",
      "262/262 - 12s - loss: 0.0574 - sparse_categorical_accuracy: 0.9816 - sparse_top_3_categorical_accuracy: 0.9987 - val_loss: 0.0133 - val_sparse_categorical_accuracy: 0.9960 - val_sparse_top_3_categorical_accuracy: 1.0000\n",
      "Epoch 23/30\n",
      "\n",
      "Epoch 00023: val_loss did not improve from 0.01253\n",
      "262/262 - 12s - loss: 0.0556 - sparse_categorical_accuracy: 0.9823 - sparse_top_3_categorical_accuracy: 0.9989 - val_loss: 0.0136 - val_sparse_categorical_accuracy: 0.9967 - val_sparse_top_3_categorical_accuracy: 1.0000\n",
      "Epoch 24/30\n",
      "\n",
      "Epoch 00024: val_loss did not improve from 0.01253\n",
      "262/262 - 11s - loss: 0.0559 - sparse_categorical_accuracy: 0.9817 - sparse_top_3_categorical_accuracy: 0.9986 - val_loss: 0.0135 - val_sparse_categorical_accuracy: 0.9967 - val_sparse_top_3_categorical_accuracy: 0.9998\n",
      "Epoch 25/30\n",
      "\n",
      "Epoch 00025: val_loss did not improve from 0.01253\n",
      "\n",
      "Epoch 00025: ReduceLROnPlateau reducing learning rate to 0.00016777217388153076.\n",
      "262/262 - 11s - loss: 0.0568 - sparse_categorical_accuracy: 0.9823 - sparse_top_3_categorical_accuracy: 0.9991 - val_loss: 0.0134 - val_sparse_categorical_accuracy: 0.9957 - val_sparse_top_3_categorical_accuracy: 0.9998\n",
      "Epoch 26/30\n",
      "\n",
      "Epoch 00026: val_loss did not improve from 0.01253\n",
      "262/262 - 11s - loss: 0.0541 - sparse_categorical_accuracy: 0.9826 - sparse_top_3_categorical_accuracy: 0.9990 - val_loss: 0.0129 - val_sparse_categorical_accuracy: 0.9960 - val_sparse_top_3_categorical_accuracy: 0.9998\n",
      "Epoch 27/30\n",
      "\n",
      "Epoch 00027: val_loss improved from 0.01253 to 0.01208, saving model to weights.best.hdf5\n",
      "262/262 - 12s - loss: 0.0543 - sparse_categorical_accuracy: 0.9830 - sparse_top_3_categorical_accuracy: 0.9991 - val_loss: 0.0121 - val_sparse_categorical_accuracy: 0.9962 - val_sparse_top_3_categorical_accuracy: 0.9998\n",
      "Epoch 28/30\n",
      "\n",
      "Epoch 00028: val_loss did not improve from 0.01208\n",
      "262/262 - 12s - loss: 0.0526 - sparse_categorical_accuracy: 0.9838 - sparse_top_3_categorical_accuracy: 0.9989 - val_loss: 0.0121 - val_sparse_categorical_accuracy: 0.9964 - val_sparse_top_3_categorical_accuracy: 0.9998\n",
      "Epoch 29/30\n",
      "\n",
      "Epoch 00029: val_loss improved from 0.01208 to 0.01179, saving model to weights.best.hdf5\n",
      "262/262 - 11s - loss: 0.0521 - sparse_categorical_accuracy: 0.9835 - sparse_top_3_categorical_accuracy: 0.9989 - val_loss: 0.0118 - val_sparse_categorical_accuracy: 0.9967 - val_sparse_top_3_categorical_accuracy: 0.9998\n",
      "Epoch 30/30\n",
      "\n",
      "Epoch 00030: val_loss did not improve from 0.01179\n",
      "262/262 - 11s - loss: 0.0531 - sparse_categorical_accuracy: 0.9830 - sparse_top_3_categorical_accuracy: 0.9991 - val_loss: 0.0126 - val_sparse_categorical_accuracy: 0.9960 - val_sparse_top_3_categorical_accuracy: 0.9998\n"
     ]
    }
   ],
   "source": [
    "weights='weights.best.hdf5'\n",
    "epochs=100; gen_epochs=30\n",
    "cnn_model=cnn_model(num_classes)\n",
    "train_history,generator_history=\\\n",
    "model_history(cnn_model,weights,epochs,gen_epochs,\n",
    "              x_train,y_train,x_valid,y_valid)"
   ]
  },
  {
   "cell_type": "code",
   "execution_count": 8,
   "metadata": {
    "_kg_hide-output": true,
    "execution": {
     "iopub.execute_input": "2020-10-14T17:25:05.142827Z",
     "iopub.status.busy": "2020-10-14T17:25:05.134802Z",
     "iopub.status.idle": "2020-10-14T17:25:05.786632Z",
     "shell.execute_reply": "2020-10-14T17:25:05.785998Z"
    },
    "papermill": {
     "duration": 0.733371,
     "end_time": "2020-10-14T17:25:05.786763",
     "exception": false,
     "start_time": "2020-10-14T17:25:05.053392",
     "status": "completed"
    },
    "tags": []
   },
   "outputs": [
    {
     "data": {
      "image/png": "[encoded data removed]",
      "text/plain": [
       "<Figure size 720x864 with 4 Axes>"
      ]
     },
     "metadata": {
      "needs_background": "light"
     },
     "output_type": "display_data"
    },
    {
     "data": {
      "text/html": [
       "<div>\n",
       "<style scoped>\n",
       "    .dataframe tbody tr th:only-of-type {\n",
       "        vertical-align: middle;\n",
       "    }\n",
       "\n",
       "    .dataframe tbody tr th {\n",
       "        vertical-align: top;\n",
       "    }\n",
       "\n",
       "    .dataframe thead th {\n",
       "        text-align: right;\n",
       "    }\n",
       "</style>\n",
       "<table border=\"1\" class=\"dataframe\">\n",
       "  <thead>\n",
       "    <tr style=\"text-align: right;\">\n",
       "      <th></th>\n",
       "      <th>49</th>\n",
       "      <th>50</th>\n",
       "      <th>51</th>\n",
       "      <th>52</th>\n",
       "    </tr>\n",
       "  </thead>\n",
       "  <tbody>\n",
       "    <tr>\n",
       "      <th>loss</th>\n",
       "      <td>0.006462</td>\n",
       "      <td>0.004723</td>\n",
       "      <td>0.005494</td>\n",
       "      <td>0.004289</td>\n",
       "    </tr>\n",
       "    <tr>\n",
       "      <th>sparse_categorical_accuracy</th>\n",
       "      <td>0.997946</td>\n",
       "      <td>0.998423</td>\n",
       "      <td>0.997946</td>\n",
       "      <td>0.998542</td>\n",
       "    </tr>\n",
       "    <tr>\n",
       "      <th>sparse_top_3_categorical_accuracy</th>\n",
       "      <td>1.000000</td>\n",
       "      <td>1.000000</td>\n",
       "      <td>1.000000</td>\n",
       "      <td>1.000000</td>\n",
       "    </tr>\n",
       "    <tr>\n",
       "      <th>val_loss</th>\n",
       "      <td>0.026964</td>\n",
       "      <td>0.025000</td>\n",
       "      <td>0.020271</td>\n",
       "      <td>0.028280</td>\n",
       "    </tr>\n",
       "    <tr>\n",
       "      <th>val_sparse_categorical_accuracy</th>\n",
       "      <td>0.993810</td>\n",
       "      <td>0.993810</td>\n",
       "      <td>0.994762</td>\n",
       "      <td>0.993333</td>\n",
       "    </tr>\n",
       "    <tr>\n",
       "      <th>val_sparse_top_3_categorical_accuracy</th>\n",
       "      <td>0.999524</td>\n",
       "      <td>0.999524</td>\n",
       "      <td>0.999286</td>\n",
       "      <td>0.999524</td>\n",
       "    </tr>\n",
       "    <tr>\n",
       "      <th>lr</th>\n",
       "      <td>0.000328</td>\n",
       "      <td>0.000328</td>\n",
       "      <td>0.000328</td>\n",
       "      <td>0.000328</td>\n",
       "    </tr>\n",
       "  </tbody>\n",
       "</table>\n",
       "</div>"
      ],
      "text/plain": [
       "                                             49        50        51        52\n",
       "loss                                   0.006462  0.004723  0.005494  0.004289\n",
       "sparse_categorical_accuracy            0.997946  0.998423  0.997946  0.998542\n",
       "sparse_top_3_categorical_accuracy      1.000000  1.000000  1.000000  1.000000\n",
       "val_loss                               0.026964  0.025000  0.020271  0.028280\n",
       "val_sparse_categorical_accuracy        0.993810  0.993810  0.994762  0.993333\n",
       "val_sparse_top_3_categorical_accuracy  0.999524  0.999524  0.999286  0.999524\n",
       "lr                                     0.000328  0.000328  0.000328  0.000328"
      ]
     },
     "metadata": {},
     "output_type": "display_data"
    }
   ],
   "source": [
    "color=c1; start=25\n",
    "plot_history(train_history,start,color)"
   ]
  },
  {
   "cell_type": "code",
   "execution_count": 9,
   "metadata": {
    "_kg_hide-output": true,
    "execution": {
     "iopub.execute_input": "2020-10-14T17:25:05.958186Z",
     "iopub.status.busy": "2020-10-14T17:25:05.956621Z",
     "iopub.status.idle": "2020-10-14T17:25:06.598585Z",
     "shell.execute_reply": "2020-10-14T17:25:06.599139Z"
    },
    "papermill": {
     "duration": 0.729568,
     "end_time": "2020-10-14T17:25:06.599285",
     "exception": false,
     "start_time": "2020-10-14T17:25:05.869717",
     "status": "completed"
    },
    "tags": []
   },
   "outputs": [
    {
     "data": {
      "image/png": "[encoded data removed]",
      "text/plain": [
       "<Figure size 720x864 with 4 Axes>"
      ]
     },
     "metadata": {
      "needs_background": "light"
     },
     "output_type": "display_data"
    },
    {
     "data": {
      "text/html": [
       "<div>\n",
       "<style scoped>\n",
       "    .dataframe tbody tr th:only-of-type {\n",
       "        vertical-align: middle;\n",
       "    }\n",
       "\n",
       "    .dataframe tbody tr th {\n",
       "        vertical-align: top;\n",
       "    }\n",
       "\n",
       "    .dataframe thead th {\n",
       "        text-align: right;\n",
       "    }\n",
       "</style>\n",
       "<table border=\"1\" class=\"dataframe\">\n",
       "  <thead>\n",
       "    <tr style=\"text-align: right;\">\n",
       "      <th></th>\n",
       "      <th>26</th>\n",
       "      <th>27</th>\n",
       "      <th>28</th>\n",
       "      <th>29</th>\n",
       "    </tr>\n",
       "  </thead>\n",
       "  <tbody>\n",
       "    <tr>\n",
       "      <th>loss</th>\n",
       "      <td>0.054288</td>\n",
       "      <td>0.052582</td>\n",
       "      <td>0.052098</td>\n",
       "      <td>0.053113</td>\n",
       "    </tr>\n",
       "    <tr>\n",
       "      <th>sparse_categorical_accuracy</th>\n",
       "      <td>0.982971</td>\n",
       "      <td>0.983807</td>\n",
       "      <td>0.983539</td>\n",
       "      <td>0.982971</td>\n",
       "    </tr>\n",
       "    <tr>\n",
       "      <th>sparse_top_3_categorical_accuracy</th>\n",
       "      <td>0.999074</td>\n",
       "      <td>0.998895</td>\n",
       "      <td>0.998924</td>\n",
       "      <td>0.999104</td>\n",
       "    </tr>\n",
       "    <tr>\n",
       "      <th>val_loss</th>\n",
       "      <td>0.012082</td>\n",
       "      <td>0.012129</td>\n",
       "      <td>0.011788</td>\n",
       "      <td>0.012566</td>\n",
       "    </tr>\n",
       "    <tr>\n",
       "      <th>val_sparse_categorical_accuracy</th>\n",
       "      <td>0.996190</td>\n",
       "      <td>0.996429</td>\n",
       "      <td>0.996667</td>\n",
       "      <td>0.995952</td>\n",
       "    </tr>\n",
       "    <tr>\n",
       "      <th>val_sparse_top_3_categorical_accuracy</th>\n",
       "      <td>0.999762</td>\n",
       "      <td>0.999762</td>\n",
       "      <td>0.999762</td>\n",
       "      <td>0.999762</td>\n",
       "    </tr>\n",
       "    <tr>\n",
       "      <th>lr</th>\n",
       "      <td>0.000168</td>\n",
       "      <td>0.000168</td>\n",
       "      <td>0.000168</td>\n",
       "      <td>0.000168</td>\n",
       "    </tr>\n",
       "  </tbody>\n",
       "</table>\n",
       "</div>"
      ],
      "text/plain": [
       "                                             26        27        28        29\n",
       "loss                                   0.054288  0.052582  0.052098  0.053113\n",
       "sparse_categorical_accuracy            0.982971  0.983807  0.983539  0.982971\n",
       "sparse_top_3_categorical_accuracy      0.999074  0.998895  0.998924  0.999104\n",
       "val_loss                               0.012082  0.012129  0.011788  0.012566\n",
       "val_sparse_categorical_accuracy        0.996190  0.996429  0.996667  0.995952\n",
       "val_sparse_top_3_categorical_accuracy  0.999762  0.999762  0.999762  0.999762\n",
       "lr                                     0.000168  0.000168  0.000168  0.000168"
      ]
     },
     "metadata": {},
     "output_type": "display_data"
    }
   ],
   "source": [
    "color=c10; start=1\n",
    "plot_history(generator_history,start,color)"
   ]
  },
  {
   "cell_type": "code",
   "execution_count": 10,
   "metadata": {
    "_kg_hide-output": false,
    "execution": {
     "iopub.execute_input": "2020-10-14T17:25:06.777668Z",
     "iopub.status.busy": "2020-10-14T17:25:06.776574Z",
     "iopub.status.idle": "2020-10-14T17:25:07.495980Z",
     "shell.execute_reply": "2020-10-14T17:25:07.496874Z"
    },
    "papermill": {
     "duration": 0.817537,
     "end_time": "2020-10-14T17:25:07.497112",
     "exception": false,
     "start_time": "2020-10-14T17:25:06.679575",
     "status": "completed"
    },
    "tags": []
   },
   "outputs": [
    {
     "data": {
      "image/png": "[encoded data removed]",
      "text/plain": [
       "<Figure size 720x360 with 1 Axes>"
      ]
     },
     "metadata": {
      "needs_background": "light"
     },
     "output_type": "display_data"
    },
    {
     "name": "stdout",
     "output_type": "stream",
     "text": [
      "cnn scores: \n",
      " [0.019334981217980385, 0.994523823261261, 0.9995238184928894]\n",
      "cnn error: 0.55%\n",
      "classification report: \n",
      "\n",
      "              precision    recall  f1-score   support\n",
      "\n",
      "           0       0.99      1.00      1.00       408\n",
      "           1       1.00      0.99      0.99       469\n",
      "           2       0.99      1.00      1.00       423\n",
      "           3       1.00      1.00      1.00       436\n",
      "           4       0.99      1.00      0.99       410\n",
      "           5       1.00      0.99      0.99       394\n",
      "           6       1.00      1.00      1.00       435\n",
      "           7       0.99      0.99      0.99       423\n",
      "           8       0.99      1.00      0.99       406\n",
      "           9       1.00      0.98      0.99       396\n",
      "\n",
      "    accuracy                           0.99      4200\n",
      "   macro avg       0.99      0.99      0.99      4200\n",
      "weighted avg       0.99      0.99      0.99      4200\n",
      "\n",
      "confusion matrix: \n",
      "\n",
      "[[407   0   0   0   0   0   1   0   0   0]\n",
      " [  0 465   1   0   0   0   0   1   2   0]\n",
      " [  1   0 422   0   0   0   0   0   0   0]\n",
      " [  0   0   0 435   0   0   0   1   0   0]\n",
      " [  0   1   0   0 409   0   0   0   0   0]\n",
      " [  0   0   0   1   0 391   0   0   2   0]\n",
      " [  1   0   0   0   0   0 434   0   0   0]\n",
      " [  0   0   2   0   1   0   0 420   0   0]\n",
      " [  1   0   0   0   0   0   0   0 404   1]\n",
      " [  0   0   0   0   3   1   0   1   1 390]]\n"
     ]
    }
   ],
   "source": [
    "num_test=100\n",
    "model_evaluation(cnn_model,x_test,y_test,\n",
    "                 weights,color,num_test)"
   ]
  },
  {
   "cell_type": "code",
   "execution_count": 11,
   "metadata": {
    "_kg_hide-input": true,
    "execution": {
     "iopub.execute_input": "2020-10-14T17:25:07.658744Z",
     "iopub.status.busy": "2020-10-14T17:25:07.657765Z",
     "iopub.status.idle": "2020-10-14T17:25:07.660797Z",
     "shell.execute_reply": "2020-10-14T17:25:07.661261Z"
    },
    "papermill": {
     "duration": 0.085208,
     "end_time": "2020-10-14T17:25:07.661379",
     "exception": false,
     "start_time": "2020-10-14T17:25:07.576171",
     "status": "completed"
    },
    "tags": []
   },
   "outputs": [
    {
     "data": {
      "text/html": [
       "<style>\n",
       "    @import 'https://fonts.googleapis.com/css?family=Smokum&effect=3d-float';</style>\n",
       "    <h1 class='font-effect-3d-float' \n",
       "    style='font-family:Smokum; color:#FF355E; font-size:25px;'>\n",
       "    Predictions</h1>"
      ],
      "text/plain": [
       "<IPython.core.display.HTML object>"
      ]
     },
     "metadata": {},
     "output_type": "display_data"
    }
   ],
   "source": [
    "dhtml('Predictions')"
   ]
  },
  {
   "cell_type": "code",
   "execution_count": 12,
   "metadata": {
    "execution": {
     "iopub.execute_input": "2020-10-14T17:25:07.836906Z",
     "iopub.status.busy": "2020-10-14T17:25:07.824382Z",
     "iopub.status.idle": "2020-10-14T17:25:10.189773Z",
     "shell.execute_reply": "2020-10-14T17:25:10.188577Z"
    },
    "papermill": {
     "duration": 2.452073,
     "end_time": "2020-10-14T17:25:10.189902",
     "exception": false,
     "start_time": "2020-10-14T17:25:07.737829",
     "status": "completed"
    },
    "tags": []
   },
   "outputs": [
    {
     "data": {
      "image/png": "[encoded data removed]",
      "text/plain": [
       "<Figure size 720x432 with 15 Axes>"
      ]
     },
     "metadata": {},
     "output_type": "display_data"
    }
   ],
   "source": [
    "cnn_model.load_weights(weights)\n",
    "predict_test_labels=\\\n",
    "cnn_model.predict_classes(test_images)\n",
    "submission=pd.DataFrame(\n",
    "    {'ImageId':range(1,len(predict_test_labels)+1), \n",
    "     'Label':predict_test_labels})\n",
    "submission.to_csv('kaggle_digits.csv',index=False)\n",
    "fig=pl.figure(figsize=(10,6))\n",
    "for i in range(15):\n",
    "    ax=fig.add_subplot(3,5,i+1,xticks=[],yticks=[])\n",
    "    ax.imshow(test_images[i].reshape(28,28),\n",
    "              cmap=pl.get_cmap('Pastel1'))\n",
    "    ax.set_title('%d'%submission['Label'][i],\n",
    "                 fontsize=10)\n",
    "pl.show()"
   ]
  }
 ],
 "metadata": {
  "kernelspec": {
   "display_name": "Python 3",
   "language": "python",
   "name": "python3"
  },
  "language_info": {
   "codemirror_mode": {
    "name": "ipython",
    "version": 3
   },
   "file_extension": ".py",
   "mimetype": "text/x-python",
   "name": "python",
   "nbconvert_exporter": "python",
   "pygments_lexer": "ipython3",
   "version": "3.7.6"
  },
  "papermill": {
   "duration": 474.034954,
   "end_time": "2020-10-14T17:25:11.997968",
   "environment_variables": {},
   "exception": null,
   "input_path": "__notebook__.ipynb",
   "output_path": "__notebook__.ipynb",
   "parameters": {},
   "start_time": "2020-10-14T17:17:17.963014",
   "version": "2.1.0"
  }
 },
 "nbformat": 4,
 "nbformat_minor": 4
}
