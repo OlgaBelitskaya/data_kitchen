{
 "cells": [
  {
   "cell_type": "code",
   "execution_count": 1,
   "metadata": {
    "_kg_hide-input": true,
    "execution": {
     "iopub.execute_input": "2020-11-15T14:43:20.643466Z",
     "iopub.status.busy": "2020-11-15T14:43:20.642277Z",
     "iopub.status.idle": "2020-11-15T14:43:20.655865Z",
     "shell.execute_reply": "2020-11-15T14:43:20.655041Z"
    },
    "papermill": {
     "duration": 0.044919,
     "end_time": "2020-11-15T14:43:20.656062",
     "exception": false,
     "start_time": "2020-11-15T14:43:20.611143",
     "status": "completed"
    },
    "tags": []
   },
   "outputs": [
    {
     "data": {
      "text/html": [
       "<style>\n",
       "    @import 'https://fonts.googleapis.com/css?family=Smokum&effect=3d-float';</style>\n",
       "    <h1 class='font-effect-3d-float' \n",
       "    style='font-family:Smokum; color:#FF355E; font-size:25px;'>\n",
       "    File Writing</h1>"
      ],
      "text/plain": [
       "<IPython.core.display.HTML object>"
      ]
     },
     "metadata": {},
     "output_type": "display_data"
    }
   ],
   "source": [
    "%run ../input/python-recipes/dhtml.py\n",
    "dhtml('File Writing')"
   ]
  },
  {
   "cell_type": "code",
   "execution_count": 2,
   "metadata": {
    "_cell_guid": "b1076dfc-b9ad-4769-8c92-a6c4dae69d19",
    "_kg_hide-input": true,
    "_uuid": "8f2839f25d086af736a60e9eeb907d3b93b6e0e5",
    "execution": {
     "iopub.execute_input": "2020-11-15T14:43:20.720971Z",
     "iopub.status.busy": "2020-11-15T14:43:20.699634Z",
     "iopub.status.idle": "2020-11-15T14:43:20.724641Z",
     "shell.execute_reply": "2020-11-15T14:43:20.723813Z"
    },
    "papermill": {
     "duration": 0.052856,
     "end_time": "2020-11-15T14:43:20.724772",
     "exception": false,
     "start_time": "2020-11-15T14:43:20.671916",
     "status": "completed"
    },
    "tags": []
   },
   "outputs": [],
   "source": [
    "# %%writefile numpy_sage.py\n",
    "from IPython.core.display import display,HTML\n",
    "import random,numpy as np\n",
    "\n",
    "def sage_list_plot(array,labels=None,\n",
    "                   precision=8,\n",
    "                   width=650,height=700,\n",
    "                   kw=.0095,kh=0.0035):\n",
    "    str_array=np.array2string(\n",
    "        array,precision=precision,separator=',',\n",
    "        suppress_small=True)\n",
    "    if labels==None: \n",
    "        labels=[i+1 for i in range(len(array))]\n",
    "    html_str=\"\"\"<html><head><meta charset='utf-8'>\"\"\"+\\\n",
    "    \"\"\"<script src='https://sagecell.sagemath.org/\"\"\"+\\\n",
    "    \"\"\"static/embedded_sagecell.js'>\"\"\"+\\\n",
    "    \"\"\"</script><script>$(function() {\"\"\"+\\\n",
    "    \"\"\"sagecell.makeSagecell({inputLocation:'div.plot',\"\"\"+\\\n",
    "    \"\"\"evalButtonText:'run',linked:true}); \"\"\"+\\\n",
    "    \"\"\"});</script></head>\"\"\"+\\\n",
    "    \"\"\"<style>#array1.sagecell .CodeMirror-scroll {\"\"\"+\\\n",
    "    \"\"\"min-height:3em; max-height:5em;} \"\"\"+\\\n",
    "    \"\"\".sagecell .CodeMirror-scroll {\"\"\"+\\\n",
    "    \"\"\"min-height:3em; max-height:11em;}</style><body>\"\"\"+\\\n",
    "    \"\"\"<div class='plot' id='array1'><script type='text/x-sage'>\"\"\"+\\\n",
    "    \"\"\"import numpy as np\\n\"\"\"+\\\n",
    "    \"\"\"array=np.array(\"\"\"+str_array+\"\"\")\\n\"\"\"+\\\n",
    "    \"\"\"labels=\"\"\"+str(labels)+\"\"\"\\n\"\"\"+\\\n",
    "    \"\"\"</script></div><br/>\"\"\"+\\\n",
    "    \"\"\"<div class='plot'><script type='text/x-sage'>\"\"\"+\\\n",
    "    \"\"\"print('array dimensions:%s'%str(array.shape))\\n\"\"\"+\\\n",
    "    \"\"\"n=array.shape[0]\\n\"\"\"+\\\n",
    "    \"\"\"p=sum([list_plot(\\n\"\"\"+\\\n",
    "    \"\"\"    array[i],plotjoined=True,\\n\"\"\"+\\\n",
    "    \"\"\"    color=hue(i/n),marker='o',markersize=2,\\n\"\"\"+\\\n",
    "    \"\"\"    legend_label=labels[i])\\n\"\"\"+\\\n",
    "    \"\"\"       for i in range(n)])\\n\"\"\"+\\\n",
    "    \"\"\"p.show(figsize=(\"\"\"+str(\n",
    "        (np.round(kw*width,2),np.round(kh*height,2)))+\\\n",
    "    \"\"\"),axes=False,\\n\"\"\"+\\\n",
    "    \"\"\"       frame=True,gridlines=True)\"\"\"+\\\n",
    "    \"\"\"</script></div></body></html>\"\"\"\n",
    "    file='sage_coderun'+str(random.uniform(0,9999999))+'.html'\n",
    "    with open(file,'w') as f:\n",
    "        f.write(html_str); f.close()\n",
    "    string=\"\"\"<div id='html_string1'><iframe src='\"\"\"+\\\n",
    "           file+\"\"\"' height=\"\"\"+str(height+20)+\\\n",
    "           \"\"\" width=\"\"\"+str(width+20)+\"\"\"></iframe></div>\"\"\"\n",
    "    display(HTML(string))\n",
    "    \n",
    "def sage_list_plot_min(array,labels=None,\n",
    "                       precision=8,\n",
    "                       width=650,height=450,\n",
    "                       kw=.0095,kh=.0075):\n",
    "    str_array=np.array2string(\n",
    "        array,precision=precision,separator=',',\n",
    "        suppress_small=True)\n",
    "    if labels==None: \n",
    "        labels=[i+1 for i in range(len(array))]\n",
    "    html_str=\"\"\"<html><head><meta charset='utf-8'>\"\"\"+\\\n",
    "    \"\"\"<script src='https://sagecell.sagemath.org/\"\"\"+\\\n",
    "    \"\"\"static/embedded_sagecell.js'>\"\"\"+\\\n",
    "    \"\"\"</script><script>$(function() {\"\"\"+\\\n",
    "    \"\"\"sagecell.makeSagecell({inputLocation:'div.plot_min',\"\"\"+\\\n",
    "    \"\"\"evalButtonText:'run',autoeval:true,\"\"\"+\\\n",
    "    \"\"\"template:sagecell.templates.minimal}); \"\"\"+\\\n",
    "    \"\"\"});</script></head><body>\"\"\"+\\\n",
    "    \"\"\"<div class='plot_min'><script type='text/x-sage'>\"\"\"+\\\n",
    "    \"\"\"import numpy as np\\n\"\"\"+\\\n",
    "    \"\"\"array=np.array(\"\"\"+str_array+\"\"\")\\n\"\"\"+\\\n",
    "    \"\"\"labels=\"\"\"+str(labels)+\"\"\"\\n\"\"\"+\\\n",
    "    \"\"\"print('array dimensions:%s'%str(array.shape))\\n\"\"\"+\\\n",
    "    \"\"\"n=array.shape[0]\\n\"\"\"+\\\n",
    "    \"\"\"p=sum([list_plot(\\n\"\"\"+\\\n",
    "    \"\"\"    array[i],plotjoined=True,\\n\"\"\"+\\\n",
    "    \"\"\"    color=hue(i/n),marker='o',markersize=2,\\n\"\"\"+\\\n",
    "    \"\"\"    legend_label=labels[i])\\n\"\"\"+\\\n",
    "    \"\"\"       for i in range(n)])\\n\"\"\"+\\\n",
    "    \"\"\"p.show(figsize=(\"\"\"+str(\n",
    "        (np.round(kw*width,2),np.round(kh*height,2)))+\\\n",
    "    \"\"\"),axes=False,\\n\"\"\"+\\\n",
    "    \"\"\"       frame=True,gridlines=True)\"\"\"+\\\n",
    "    \"\"\"</script></div></body></html>\"\"\"\n",
    "    file='sage_coderun'+str(random.uniform(0,9999999))+'.html'\n",
    "    with open(file,'w') as f:\n",
    "        f.write(html_str); f.close()\n",
    "    string=\"\"\"<div id='html_string2'><iframe src='\"\"\"+\\\n",
    "           file+\"\"\"' height=\"\"\"+str(height+20)+\\\n",
    "           \"\"\" width=\"\"\"+str(width+20)+\"\"\"></iframe></div>\"\"\"\n",
    "    display(HTML(string))"
   ]
  },
  {
   "cell_type": "code",
   "execution_count": 3,
   "metadata": {
    "execution": {
     "iopub.execute_input": "2020-11-15T14:43:20.761021Z",
     "iopub.status.busy": "2020-11-15T14:43:20.760138Z",
     "iopub.status.idle": "2020-11-15T14:43:20.764791Z",
     "shell.execute_reply": "2020-11-15T14:43:20.764086Z"
    },
    "papermill": {
     "duration": 0.025995,
     "end_time": "2020-11-15T14:43:20.764925",
     "exception": false,
     "start_time": "2020-11-15T14:43:20.738930",
     "status": "completed"
    },
    "tags": []
   },
   "outputs": [],
   "source": [
    "%run numpy_sage.py"
   ]
  },
  {
   "cell_type": "code",
   "execution_count": 4,
   "metadata": {
    "_kg_hide-input": true,
    "execution": {
     "iopub.execute_input": "2020-11-15T14:43:20.800718Z",
     "iopub.status.busy": "2020-11-15T14:43:20.799510Z",
     "iopub.status.idle": "2020-11-15T14:43:20.803801Z",
     "shell.execute_reply": "2020-11-15T14:43:20.804724Z"
    },
    "papermill": {
     "duration": 0.025781,
     "end_time": "2020-11-15T14:43:20.804972",
     "exception": false,
     "start_time": "2020-11-15T14:43:20.779191",
     "status": "completed"
    },
    "tags": []
   },
   "outputs": [
    {
     "data": {
      "text/html": [
       "<style>\n",
       "    @import 'https://fonts.googleapis.com/css?family=Smokum&effect=3d-float';</style>\n",
       "    <h1 class='font-effect-3d-float' \n",
       "    style='font-family:Smokum; color:#FF355E; font-size:25px;'>\n",
       "    Example #1</h1>"
      ],
      "text/plain": [
       "<IPython.core.display.HTML object>"
      ]
     },
     "metadata": {},
     "output_type": "display_data"
    }
   ],
   "source": [
    "dhtml('Example #1')"
   ]
  },
  {
   "cell_type": "code",
   "execution_count": 5,
   "metadata": {
    "_kg_hide-output": true,
    "execution": {
     "iopub.execute_input": "2020-11-15T14:43:20.849545Z",
     "iopub.status.busy": "2020-11-15T14:43:20.848692Z",
     "iopub.status.idle": "2020-11-15T14:43:23.589314Z",
     "shell.execute_reply": "2020-11-15T14:43:23.588563Z"
    },
    "papermill": {
     "duration": 2.762496,
     "end_time": "2020-11-15T14:43:23.589438",
     "exception": false,
     "start_time": "2020-11-15T14:43:20.826942",
     "status": "completed"
    },
    "tags": []
   },
   "outputs": [
    {
     "name": "stdout",
     "output_type": "stream",
     "text": [
      "Using Kaggle's public dataset BigQuery integration.\n"
     ]
    },
    {
     "data": {
      "text/html": [
       "<div>\n",
       "<style scoped>\n",
       "    .dataframe tbody tr th:only-of-type {\n",
       "        vertical-align: middle;\n",
       "    }\n",
       "\n",
       "    .dataframe tbody tr th {\n",
       "        vertical-align: top;\n",
       "    }\n",
       "\n",
       "    .dataframe thead th {\n",
       "        text-align: right;\n",
       "    }\n",
       "</style>\n",
       "<table border=\"1\" class=\"dataframe\">\n",
       "  <thead>\n",
       "    <tr style=\"text-align: right;\">\n",
       "      <th></th>\n",
       "      <th>0</th>\n",
       "      <th>1</th>\n",
       "      <th>2</th>\n",
       "    </tr>\n",
       "  </thead>\n",
       "  <tbody>\n",
       "    <tr>\n",
       "      <th>location</th>\n",
       "      <td>BTM Layout, Bengaluru - KSPCB</td>\n",
       "      <td>BTM Layout, Bengaluru - KSPCB</td>\n",
       "      <td>BTM Layout, Bengaluru - KSPCB</td>\n",
       "    </tr>\n",
       "    <tr>\n",
       "      <th>city</th>\n",
       "      <td>Bengaluru</td>\n",
       "      <td>Bengaluru</td>\n",
       "      <td>Bengaluru</td>\n",
       "    </tr>\n",
       "    <tr>\n",
       "      <th>country</th>\n",
       "      <td>IN</td>\n",
       "      <td>IN</td>\n",
       "      <td>IN</td>\n",
       "    </tr>\n",
       "    <tr>\n",
       "      <th>pollutant</th>\n",
       "      <td>co</td>\n",
       "      <td>no2</td>\n",
       "      <td>o3</td>\n",
       "    </tr>\n",
       "    <tr>\n",
       "      <th>value</th>\n",
       "      <td>910</td>\n",
       "      <td>131.87</td>\n",
       "      <td>15.57</td>\n",
       "    </tr>\n",
       "    <tr>\n",
       "      <th>timestamp</th>\n",
       "      <td>2018-02-22 03:00:00+00:00</td>\n",
       "      <td>2018-02-22 03:00:00+00:00</td>\n",
       "      <td>2018-02-22 03:00:00+00:00</td>\n",
       "    </tr>\n",
       "    <tr>\n",
       "      <th>unit</th>\n",
       "      <td>µg/m³</td>\n",
       "      <td>µg/m³</td>\n",
       "      <td>µg/m³</td>\n",
       "    </tr>\n",
       "    <tr>\n",
       "      <th>source_name</th>\n",
       "      <td>CPCB</td>\n",
       "      <td>CPCB</td>\n",
       "      <td>CPCB</td>\n",
       "    </tr>\n",
       "    <tr>\n",
       "      <th>latitude</th>\n",
       "      <td>12.9128</td>\n",
       "      <td>12.9128</td>\n",
       "      <td>12.9128</td>\n",
       "    </tr>\n",
       "    <tr>\n",
       "      <th>longitude</th>\n",
       "      <td>77.6092</td>\n",
       "      <td>77.6092</td>\n",
       "      <td>77.6092</td>\n",
       "    </tr>\n",
       "    <tr>\n",
       "      <th>averaged_over_in_hours</th>\n",
       "      <td>0.25</td>\n",
       "      <td>0.25</td>\n",
       "      <td>0.25</td>\n",
       "    </tr>\n",
       "  </tbody>\n",
       "</table>\n",
       "</div>"
      ],
      "text/plain": [
       "                                                    0  \\\n",
       "location                BTM Layout, Bengaluru - KSPCB   \n",
       "city                                        Bengaluru   \n",
       "country                                            IN   \n",
       "pollutant                                          co   \n",
       "value                                             910   \n",
       "timestamp                   2018-02-22 03:00:00+00:00   \n",
       "unit                                            µg/m³   \n",
       "source_name                                      CPCB   \n",
       "latitude                                      12.9128   \n",
       "longitude                                     77.6092   \n",
       "averaged_over_in_hours                           0.25   \n",
       "\n",
       "                                                    1  \\\n",
       "location                BTM Layout, Bengaluru - KSPCB   \n",
       "city                                        Bengaluru   \n",
       "country                                            IN   \n",
       "pollutant                                         no2   \n",
       "value                                          131.87   \n",
       "timestamp                   2018-02-22 03:00:00+00:00   \n",
       "unit                                            µg/m³   \n",
       "source_name                                      CPCB   \n",
       "latitude                                      12.9128   \n",
       "longitude                                     77.6092   \n",
       "averaged_over_in_hours                           0.25   \n",
       "\n",
       "                                                    2  \n",
       "location                BTM Layout, Bengaluru - KSPCB  \n",
       "city                                        Bengaluru  \n",
       "country                                            IN  \n",
       "pollutant                                          o3  \n",
       "value                                           15.57  \n",
       "timestamp                   2018-02-22 03:00:00+00:00  \n",
       "unit                                            µg/m³  \n",
       "source_name                                      CPCB  \n",
       "latitude                                      12.9128  \n",
       "longitude                                     77.6092  \n",
       "averaged_over_in_hours                           0.25  "
      ]
     },
     "execution_count": 5,
     "metadata": {},
     "output_type": "execute_result"
    }
   ],
   "source": [
    "import bq_helper\n",
    "open_aq=bq_helper.BigQueryHelper(\n",
    "    active_project=\"bigquery-public-data\",\n",
    "    dataset_name=\"openaq\")\n",
    "open_aq.head(\"global_air_quality\",3).T"
   ]
  },
  {
   "cell_type": "code",
   "execution_count": 6,
   "metadata": {
    "execution": {
     "iopub.execute_input": "2020-11-15T14:43:23.633779Z",
     "iopub.status.busy": "2020-11-15T14:43:23.632893Z",
     "iopub.status.idle": "2020-11-15T14:43:26.310487Z",
     "shell.execute_reply": "2020-11-15T14:43:26.309382Z"
    },
    "papermill": {
     "duration": 2.701551,
     "end_time": "2020-11-15T14:43:26.310674",
     "exception": false,
     "start_time": "2020-11-15T14:43:23.609123",
     "status": "completed"
    },
    "tags": []
   },
   "outputs": [
    {
     "data": {
      "text/html": [
       "<div>\n",
       "<style scoped>\n",
       "    .dataframe tbody tr th:only-of-type {\n",
       "        vertical-align: middle;\n",
       "    }\n",
       "\n",
       "    .dataframe tbody tr th {\n",
       "        vertical-align: top;\n",
       "    }\n",
       "\n",
       "    .dataframe thead th {\n",
       "        text-align: right;\n",
       "    }\n",
       "</style>\n",
       "<table border=\"1\" class=\"dataframe\">\n",
       "  <thead>\n",
       "    <tr style=\"text-align: right;\">\n",
       "      <th></th>\n",
       "      <th>0</th>\n",
       "      <th>1</th>\n",
       "      <th>2</th>\n",
       "      <th>3</th>\n",
       "      <th>4</th>\n",
       "      <th>5</th>\n",
       "      <th>6</th>\n",
       "      <th>7</th>\n",
       "      <th>8</th>\n",
       "      <th>9</th>\n",
       "    </tr>\n",
       "  </thead>\n",
       "  <tbody>\n",
       "    <tr>\n",
       "      <th>country</th>\n",
       "      <td>AD</td>\n",
       "      <td>AD</td>\n",
       "      <td>AD</td>\n",
       "      <td>AD</td>\n",
       "      <td>AD</td>\n",
       "      <td>AE</td>\n",
       "      <td>AF</td>\n",
       "      <td>AR</td>\n",
       "      <td>AR</td>\n",
       "      <td>AT</td>\n",
       "    </tr>\n",
       "    <tr>\n",
       "      <th>pollutant</th>\n",
       "      <td>co</td>\n",
       "      <td>no2</td>\n",
       "      <td>o3</td>\n",
       "      <td>pm10</td>\n",
       "      <td>so2</td>\n",
       "      <td>pm25</td>\n",
       "      <td>pm25</td>\n",
       "      <td>pm10</td>\n",
       "      <td>pm25</td>\n",
       "      <td>co</td>\n",
       "    </tr>\n",
       "    <tr>\n",
       "      <th>avg_value</th>\n",
       "      <td>100</td>\n",
       "      <td>3</td>\n",
       "      <td>59.3333</td>\n",
       "      <td>4</td>\n",
       "      <td>2</td>\n",
       "      <td>24.3333</td>\n",
       "      <td>24</td>\n",
       "      <td>15.6667</td>\n",
       "      <td>18.1</td>\n",
       "      <td>256.13</td>\n",
       "    </tr>\n",
       "  </tbody>\n",
       "</table>\n",
       "</div>"
      ],
      "text/plain": [
       "             0    1        2     3    4        5     6        7     8       9\n",
       "country     AD   AD       AD    AD   AD       AE    AF       AR    AR      AT\n",
       "pollutant   co  no2       o3  pm10  so2     pm25  pm25     pm10  pm25      co\n",
       "avg_value  100    3  59.3333     4    2  24.3333    24  15.6667  18.1  256.13"
      ]
     },
     "execution_count": 6,
     "metadata": {},
     "output_type": "execute_result"
    }
   ],
   "source": [
    "my_query=\"\"\"\n",
    "SELECT country,pollutant,AVG(value) as avg_value\n",
    "FROM `bigquery-public-data.openaq.global_air_quality`\n",
    "WHERE unit='µg/m³' \n",
    "GROUP BY country,pollutant\n",
    "ORDER BY country,pollutant\n",
    "\"\"\"\n",
    "pollutants=open_aq.query_to_pandas_safe(my_query)\n",
    "pollutants.head(10).T"
   ]
  },
  {
   "cell_type": "code",
   "execution_count": 7,
   "metadata": {
    "execution": {
     "iopub.execute_input": "2020-11-15T14:43:26.366559Z",
     "iopub.status.busy": "2020-11-15T14:43:26.365575Z",
     "iopub.status.idle": "2020-11-15T14:43:27.346528Z",
     "shell.execute_reply": "2020-11-15T14:43:27.345694Z"
    },
    "papermill": {
     "duration": 1.011783,
     "end_time": "2020-11-15T14:43:27.346661",
     "exception": false,
     "start_time": "2020-11-15T14:43:26.334878",
     "status": "completed"
    },
    "tags": []
   },
   "outputs": [
    {
     "data": {
      "image/png": "[encoded data removed]",
      "text/plain": [
       "<Figure size 720x288 with 1 Axes>"
      ]
     },
     "metadata": {
      "needs_background": "light"
     },
     "output_type": "display_data"
    }
   ],
   "source": [
    "import pandas as pd,pylab as pl\n",
    "df_pollutants=pd.DataFrame(\n",
    "    index=list(set(pollutants['country'])), \n",
    "    columns=list(set(pollutants['pollutant'])))\n",
    "df_pollutants=df_pollutants.fillna(0)\n",
    "for i in range(len(pollutants)):\n",
    "    index=pollutants.loc[i][0]\n",
    "    column=pollutants.loc[i][1]\n",
    "    df_pollutants[column][index]=pollutants.loc[i][2]\n",
    "data=df_pollutants[\n",
    "         (df_pollutants['no2']>0)&(df_pollutants['o3']>0)&\n",
    "         (df_pollutants['so2']>0)&\n",
    "         (df_pollutants['pm10']>0)&(df_pollutants['pm25']>0)]\n",
    "data=data[['no2','so2','o3','pm10','pm25']]\n",
    "data.plot.bar(figsize=(10,4));"
   ]
  },
  {
   "cell_type": "code",
   "execution_count": 8,
   "metadata": {
    "_cell_guid": "79c7e3d0-c299-4dcb-8224-4455121ee9b0",
    "_uuid": "d629ff2d2480ee46fbb7e2d37f6b5fab8052498a",
    "execution": {
     "iopub.execute_input": "2020-11-15T14:43:27.391450Z",
     "iopub.status.busy": "2020-11-15T14:43:27.390278Z",
     "iopub.status.idle": "2020-11-15T14:43:27.397453Z",
     "shell.execute_reply": "2020-11-15T14:43:27.396596Z"
    },
    "papermill": {
     "duration": 0.032766,
     "end_time": "2020-11-15T14:43:27.397587",
     "exception": false,
     "start_time": "2020-11-15T14:43:27.364821",
     "status": "completed"
    },
    "tags": []
   },
   "outputs": [
    {
     "data": {
      "text/html": [
       "<div id='html_string1'><iframe src='sage_coderun7002776.186886523.html' height=720 width=670></iframe></div>"
      ],
      "text/plain": [
       "<IPython.core.display.HTML object>"
      ]
     },
     "metadata": {},
     "output_type": "display_data"
    }
   ],
   "source": [
    "array=data.T.values\n",
    "labels=['no2','so2','o3','pm10','pm25']\n",
    "sage_list_plot(array,labels)"
   ]
  },
  {
   "cell_type": "code",
   "execution_count": 9,
   "metadata": {
    "_kg_hide-input": true,
    "execution": {
     "iopub.execute_input": "2020-11-15T14:43:27.443357Z",
     "iopub.status.busy": "2020-11-15T14:43:27.442153Z",
     "iopub.status.idle": "2020-11-15T14:43:27.446658Z",
     "shell.execute_reply": "2020-11-15T14:43:27.447361Z"
    },
    "papermill": {
     "duration": 0.030512,
     "end_time": "2020-11-15T14:43:27.447555",
     "exception": false,
     "start_time": "2020-11-15T14:43:27.417043",
     "status": "completed"
    },
    "tags": []
   },
   "outputs": [
    {
     "data": {
      "text/html": [
       "<style>\n",
       "    @import 'https://fonts.googleapis.com/css?family=Smokum&effect=3d-float';</style>\n",
       "    <h1 class='font-effect-3d-float' \n",
       "    style='font-family:Smokum; color:#FF355E; font-size:25px;'>\n",
       "    Example #2</h1>"
      ],
      "text/plain": [
       "<IPython.core.display.HTML object>"
      ]
     },
     "metadata": {},
     "output_type": "display_data"
    }
   ],
   "source": [
    "dhtml('Example #2')"
   ]
  },
  {
   "cell_type": "code",
   "execution_count": 10,
   "metadata": {
    "execution": {
     "iopub.execute_input": "2020-11-15T14:43:27.493839Z",
     "iopub.status.busy": "2020-11-15T14:43:27.493038Z",
     "iopub.status.idle": "2020-11-15T14:43:27.496765Z",
     "shell.execute_reply": "2020-11-15T14:43:27.497369Z"
    },
    "papermill": {
     "duration": 0.03013,
     "end_time": "2020-11-15T14:43:27.497538",
     "exception": false,
     "start_time": "2020-11-15T14:43:27.467408",
     "status": "completed"
    },
    "tags": []
   },
   "outputs": [
    {
     "name": "stdout",
     "output_type": "stream",
     "text": [
      "Using Kaggle's public dataset BigQuery integration.\n"
     ]
    }
   ],
   "source": [
    "import bq_helper\n",
    "bitcoin_blockchain=bq_helper.BigQueryHelper(\n",
    "    active_project=\"bigquery-public-data\",\n",
    "    dataset_name=\"bitcoin_blockchain\")"
   ]
  },
  {
   "cell_type": "code",
   "execution_count": 11,
   "metadata": {
    "execution": {
     "iopub.execute_input": "2020-11-15T14:43:27.544180Z",
     "iopub.status.busy": "2020-11-15T14:43:27.543334Z",
     "iopub.status.idle": "2020-11-15T14:43:27.547652Z",
     "shell.execute_reply": "2020-11-15T14:43:27.546767Z"
    },
    "papermill": {
     "duration": 0.029897,
     "end_time": "2020-11-15T14:43:27.547782",
     "exception": false,
     "start_time": "2020-11-15T14:43:27.517885",
     "status": "completed"
    },
    "tags": []
   },
   "outputs": [],
   "source": [
    "my_query2=\"\"\"\n",
    "WITH time AS (\n",
    "SELECT TIMESTAMP_MILLIS(timestamp) \n",
    "AS trans_time,transaction_id\n",
    "FROM `bigquery-public-data.bitcoin_blockchain.transactions`)\n",
    "SELECT COUNT(transaction_id)/1000000 AS transactions,\n",
    "EXTRACT(MONTH FROM trans_time) AS month,\n",
    "EXTRACT(YEAR FROM trans_time) AS year\n",
    "FROM time\n",
    "GROUP BY year,month \n",
    "ORDER BY year,month\n",
    "\"\"\""
   ]
  },
  {
   "cell_type": "code",
   "execution_count": 12,
   "metadata": {
    "execution": {
     "iopub.execute_input": "2020-11-15T14:43:27.597797Z",
     "iopub.status.busy": "2020-11-15T14:43:27.596648Z",
     "iopub.status.idle": "2020-11-15T14:43:30.887454Z",
     "shell.execute_reply": "2020-11-15T14:43:30.886782Z"
    },
    "papermill": {
     "duration": 3.319228,
     "end_time": "2020-11-15T14:43:30.887593",
     "exception": false,
     "start_time": "2020-11-15T14:43:27.568365",
     "status": "completed"
    },
    "tags": []
   },
   "outputs": [
    {
     "data": {
      "text/html": [
       "<div>\n",
       "<style scoped>\n",
       "    .dataframe tbody tr th:only-of-type {\n",
       "        vertical-align: middle;\n",
       "    }\n",
       "\n",
       "    .dataframe tbody tr th {\n",
       "        vertical-align: top;\n",
       "    }\n",
       "\n",
       "    .dataframe thead th {\n",
       "        text-align: right;\n",
       "    }\n",
       "</style>\n",
       "<table border=\"1\" class=\"dataframe\">\n",
       "  <thead>\n",
       "    <tr style=\"text-align: right;\">\n",
       "      <th></th>\n",
       "      <th>transactions</th>\n",
       "      <th>month</th>\n",
       "      <th>year</th>\n",
       "    </tr>\n",
       "  </thead>\n",
       "  <tbody>\n",
       "    <tr>\n",
       "      <th>112</th>\n",
       "      <td>6.138957</td>\n",
       "      <td>5</td>\n",
       "      <td>2018</td>\n",
       "    </tr>\n",
       "    <tr>\n",
       "      <th>113</th>\n",
       "      <td>5.752514</td>\n",
       "      <td>6</td>\n",
       "      <td>2018</td>\n",
       "    </tr>\n",
       "    <tr>\n",
       "      <th>114</th>\n",
       "      <td>6.393536</td>\n",
       "      <td>7</td>\n",
       "      <td>2018</td>\n",
       "    </tr>\n",
       "    <tr>\n",
       "      <th>115</th>\n",
       "      <td>6.417764</td>\n",
       "      <td>8</td>\n",
       "      <td>2018</td>\n",
       "    </tr>\n",
       "    <tr>\n",
       "      <th>116</th>\n",
       "      <td>2.087279</td>\n",
       "      <td>9</td>\n",
       "      <td>2018</td>\n",
       "    </tr>\n",
       "  </tbody>\n",
       "</table>\n",
       "</div>"
      ],
      "text/plain": [
       "     transactions  month  year\n",
       "112      6.138957      5  2018\n",
       "113      5.752514      6  2018\n",
       "114      6.393536      7  2018\n",
       "115      6.417764      8  2018\n",
       "116      2.087279      9  2018"
      ]
     },
     "execution_count": 12,
     "metadata": {},
     "output_type": "execute_result"
    }
   ],
   "source": [
    "transactions_per_month=\\\n",
    "bitcoin_blockchain.query_to_pandas_safe(\n",
    "    my_query2,max_gb_scanned=24)\n",
    "transactions_per_month.tail()"
   ]
  },
  {
   "cell_type": "code",
   "execution_count": 13,
   "metadata": {
    "execution": {
     "iopub.execute_input": "2020-11-15T14:43:30.937091Z",
     "iopub.status.busy": "2020-11-15T14:43:30.936217Z",
     "iopub.status.idle": "2020-11-15T14:43:30.940764Z",
     "shell.execute_reply": "2020-11-15T14:43:30.940128Z"
    },
    "papermill": {
     "duration": 0.031944,
     "end_time": "2020-11-15T14:43:30.940885",
     "exception": false,
     "start_time": "2020-11-15T14:43:30.908941",
     "status": "completed"
    },
    "tags": []
   },
   "outputs": [
    {
     "data": {
      "text/plain": [
       "(117, 3)"
      ]
     },
     "execution_count": 13,
     "metadata": {},
     "output_type": "execute_result"
    }
   ],
   "source": [
    "transactions_per_month.shape"
   ]
  },
  {
   "cell_type": "code",
   "execution_count": 14,
   "metadata": {
    "execution": {
     "iopub.execute_input": "2020-11-15T14:43:31.000350Z",
     "iopub.status.busy": "2020-11-15T14:43:30.999313Z",
     "iopub.status.idle": "2020-11-15T14:43:31.217436Z",
     "shell.execute_reply": "2020-11-15T14:43:31.218051Z"
    },
    "papermill": {
     "duration": 0.254947,
     "end_time": "2020-11-15T14:43:31.218230",
     "exception": false,
     "start_time": "2020-11-15T14:43:30.963283",
     "status": "completed"
    },
    "tags": []
   },
   "outputs": [
    {
     "data": {
      "image/png": "[encoded data removed]",
      "text/plain": [
       "<Figure size 720x288 with 1 Axes>"
      ]
     },
     "metadata": {
      "needs_background": "light"
     },
     "output_type": "display_data"
    }
   ],
   "source": [
    "import pandas as pd\n",
    "transactions_per_month2=pd.DataFrame(\n",
    "    index=range(1,13,1),columns=range(2014,2018,1))\n",
    "transactions_per_month2=transactions_per_month2.fillna(0)\n",
    "for i in range(2014,2018,1):\n",
    "    transactions_per_month2.loc[:,i]=\\\n",
    "    transactions_per_month[transactions_per_month['year']==i]\\\n",
    "    [\"transactions\"][:12].values\n",
    "transactions_per_month2.plot(figsize=(10,4));"
   ]
  },
  {
   "cell_type": "code",
   "execution_count": 15,
   "metadata": {
    "execution": {
     "iopub.execute_input": "2020-11-15T14:43:31.274489Z",
     "iopub.status.busy": "2020-11-15T14:43:31.273436Z",
     "iopub.status.idle": "2020-11-15T14:43:31.280719Z",
     "shell.execute_reply": "2020-11-15T14:43:31.280018Z"
    },
    "papermill": {
     "duration": 0.038711,
     "end_time": "2020-11-15T14:43:31.280851",
     "exception": false,
     "start_time": "2020-11-15T14:43:31.242140",
     "status": "completed"
    },
    "tags": []
   },
   "outputs": [
    {
     "data": {
      "text/html": [
       "<div id='html_string2'><iframe src='sage_coderun3035308.971891058.html' height=470 width=670></iframe></div>"
      ],
      "text/plain": [
       "<IPython.core.display.HTML object>"
      ]
     },
     "metadata": {},
     "output_type": "display_data"
    }
   ],
   "source": [
    "data2=transactions_per_month2.T.values\n",
    "labels2=['2014','2015','2016','2017']\n",
    "sage_list_plot_min(\n",
    "    array=data2,labels=labels2,precision=6)"
   ]
  }
 ],
 "metadata": {
  "kernelspec": {
   "display_name": "Python 3",
   "language": "python",
   "name": "python3"
  },
  "language_info": {
   "codemirror_mode": {
    "name": "ipython",
    "version": 3
   },
   "file_extension": ".py",
   "mimetype": "text/x-python",
   "name": "python",
   "nbconvert_exporter": "python",
   "pygments_lexer": "ipython3",
   "version": "3.7.6"
  },
  "papermill": {
   "duration": 16.01302,
   "end_time": "2020-11-15T14:43:31.413853",
   "environment_variables": {},
   "exception": null,
   "input_path": "__notebook__.ipynb",
   "output_path": "__notebook__.ipynb",
   "parameters": {},
   "start_time": "2020-11-15T14:43:15.400833",
   "version": "2.1.0"
  }
 },
 "nbformat": 4,
 "nbformat_minor": 4
}
