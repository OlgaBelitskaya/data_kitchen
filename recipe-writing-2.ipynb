{
 "cells": [
  {
   "cell_type": "code",
   "execution_count": 1,
   "metadata": {
    "_cell_guid": "b1076dfc-b9ad-4769-8c92-a6c4dae69d19",
    "_kg_hide-input": true,
    "_uuid": "8f2839f25d086af736a60e9eeb907d3b93b6e0e5",
    "execution": {
     "iopub.execute_input": "2020-11-14T22:22:44.962884Z",
     "iopub.status.busy": "2020-11-14T22:22:44.957683Z",
     "iopub.status.idle": "2020-11-14T22:22:44.970563Z",
     "shell.execute_reply": "2020-11-14T22:22:44.971086Z"
    },
    "papermill": {
     "duration": 0.027678,
     "end_time": "2020-11-14T22:22:44.971269",
     "exception": false,
     "start_time": "2020-11-14T22:22:44.943591",
     "status": "completed"
    },
    "tags": []
   },
   "outputs": [],
   "source": [
    "# %%writefile numpy_sage.py\n",
    "from IPython.core.display import display,HTML\n",
    "import random,numpy as np\n",
    "\n",
    "def sage_list_plot(array,width,height,kw,kh):\n",
    "    str_array=np.array2string(\n",
    "        array,precision=8,separator=',',\n",
    "        suppress_small=True)\n",
    "    html_str=\"\"\"<html><head><meta charset='utf-8'>\"\"\"+\\\n",
    "    \"\"\"<script src='https://sagecell.sagemath.org/\"\"\"+\\\n",
    "    \"\"\"static/embedded_sagecell.js'>\"\"\"+\\\n",
    "    \"\"\"</script><script>$(function() {\"\"\"+\\\n",
    "    \"\"\"sagecell.makeSagecell({inputLocation:'div.plot',\"\"\"+\\\n",
    "    \"\"\"evalButtonText:'run',linked:true}); \"\"\"+\\\n",
    "    \"\"\"});</script></head>\"\"\"+\\\n",
    "    \"\"\"<style>#array1.sagecell .CodeMirror-scroll {\"\"\"+\\\n",
    "    \"\"\"min-height:3em; max-height:7em;} \"\"\"+\\\n",
    "    \"\"\".sagecell .CodeMirror-scroll {\"\"\"+\\\n",
    "    \"\"\"min-height:3em; max-height:10em;}</style><body>\"\"\"+\\\n",
    "    \"\"\"<div class='plot' id='array1'><script type='text/x-sage'>\"\"\"+\\\n",
    "    \"\"\"import numpy as np\\n\"\"\"+\\\n",
    "    \"\"\"array=np.array(\"\"\"+str_array+\"\"\")\\n\"\"\"+\\\n",
    "    \"\"\"</script></div><br/>\"\"\"+\\\n",
    "    \"\"\"<div class='plot'><script type='text/x-sage'>\"\"\"+\\\n",
    "    \"\"\"print('array dimensions:%s'%str(array.shape))\\n\"\"\"+\\\n",
    "    \"\"\"n=array.shape[0]\\n\"\"\"+\\\n",
    "    \"\"\"p=sum([list_plot(\\n\"\"\"+\\\n",
    "    \"\"\"    array[i],color=hue(i/n),plotjoined=True,\\n\"\"\"+\\\n",
    "    \"\"\"    marker='o',markersize=2,legend_label=i+1)\\n\"\"\"+\\\n",
    "    \"\"\"       for i in range(n)])\\n\"\"\"+\\\n",
    "    \"\"\"p.show(figsize=(\"\"\"+str(\n",
    "        (np.round(kw*width,2),np.round(kh*height,2)))+\\\n",
    "    \"\"\"),axes=False,\\n\"\"\"+\\\n",
    "    \"\"\"       frame=True,gridlines=True)\"\"\"+\\\n",
    "    \"\"\"</script></div></body></html>\"\"\"\n",
    "    file='sage_coderun'+str(random.uniform(0,9999999))+'.html'\n",
    "    with open(file,'w') as f:\n",
    "        f.write(html_str); f.close()\n",
    "    string=\"\"\"<div id='html_string1'><iframe src='\"\"\"+\\\n",
    "           file+\"\"\"' height=\"\"\"+str(height+20)+\\\n",
    "           \"\"\" width=\"\"\"+str(width+20)+\"\"\"></iframe></div>\"\"\"\n",
    "    display(HTML(string))\n",
    "    \n",
    "def sage_list_plot_min(array,width,height,kw,kh):\n",
    "    str_array=np.array2string(\n",
    "        array,precision=8,separator=',',\n",
    "        suppress_small=True)\n",
    "    html_str=\"\"\"<html><head><meta charset='utf-8'>\"\"\"+\\\n",
    "    \"\"\"<script src='https://sagecell.sagemath.org/\"\"\"+\\\n",
    "    \"\"\"static/embedded_sagecell.js'>\"\"\"+\\\n",
    "    \"\"\"</script><script>$(function() {\"\"\"+\\\n",
    "    \"\"\"sagecell.makeSagecell({inputLocation:'div.plot_min',\"\"\"+\\\n",
    "    \"\"\"evalButtonText:'run',autoeval:true,\"\"\"+\\\n",
    "    \"\"\"template:sagecell.templates.minimal}); \"\"\"+\\\n",
    "    \"\"\"});</script></head><body>\"\"\"+\\\n",
    "    \"\"\"<div class='plot_min'><script type='text/x-sage'>\"\"\"+\\\n",
    "    \"\"\"import numpy as np\\n\"\"\"+\\\n",
    "    \"\"\"array=np.array(\"\"\"+str_array+\"\"\")\\n\"\"\"+\\\n",
    "    \"\"\"print('array dimensions:%s'%str(array.shape))\\n\"\"\"+\\\n",
    "    \"\"\"n=array.shape[0]\\n\"\"\"+\\\n",
    "    \"\"\"p=sum([list_plot(\\n\"\"\"+\\\n",
    "    \"\"\"    array[i],color=hue(i/n),plotjoined=True,\\n\"\"\"+\\\n",
    "    \"\"\"    marker='o',markersize=2,legend_label=i+1)\\n\"\"\"+\\\n",
    "    \"\"\"       for i in range(n)])\\n\"\"\"+\\\n",
    "    \"\"\"p.show(figsize=(\"\"\"+str(\n",
    "        (np.round(kw*width,2),np.round(kh*height,2)))+\\\n",
    "    \"\"\"),axes=False,\\n\"\"\"+\\\n",
    "    \"\"\"       frame=True,gridlines=True)\"\"\"+\\\n",
    "    \"\"\"</script></div></body></html>\"\"\"\n",
    "    file='sage_coderun'+str(random.uniform(0,9999999))+'.html'\n",
    "    with open(file,'w') as f:\n",
    "        f.write(html_str); f.close()\n",
    "    string=\"\"\"<div id='html_string2'><iframe src='\"\"\"+\\\n",
    "           file+\"\"\"' height=\"\"\"+str(height+20)+\\\n",
    "           \"\"\" width=\"\"\"+str(width+20)+\"\"\"></iframe></div>\"\"\"\n",
    "    display(HTML(string))"
   ]
  },
  {
   "cell_type": "code",
   "execution_count": 2,
   "metadata": {
    "execution": {
     "iopub.execute_input": "2020-11-14T22:22:44.987194Z",
     "iopub.status.busy": "2020-11-14T22:22:44.986581Z",
     "iopub.status.idle": "2020-11-14T22:22:44.990285Z",
     "shell.execute_reply": "2020-11-14T22:22:44.989456Z"
    },
    "papermill": {
     "duration": 0.014605,
     "end_time": "2020-11-14T22:22:44.990402",
     "exception": false,
     "start_time": "2020-11-14T22:22:44.975797",
     "status": "completed"
    },
    "tags": []
   },
   "outputs": [],
   "source": [
    "%run numpy_sage.py"
   ]
  },
  {
   "cell_type": "code",
   "execution_count": 3,
   "metadata": {
    "_cell_guid": "79c7e3d0-c299-4dcb-8224-4455121ee9b0",
    "_uuid": "d629ff2d2480ee46fbb7e2d37f6b5fab8052498a",
    "execution": {
     "iopub.execute_input": "2020-11-14T22:22:45.008488Z",
     "iopub.status.busy": "2020-11-14T22:22:45.007855Z",
     "iopub.status.idle": "2020-11-14T22:22:45.015389Z",
     "shell.execute_reply": "2020-11-14T22:22:45.014707Z"
    },
    "papermill": {
     "duration": 0.019255,
     "end_time": "2020-11-14T22:22:45.015518",
     "exception": false,
     "start_time": "2020-11-14T22:22:44.996263",
     "status": "completed"
    },
    "tags": []
   },
   "outputs": [
    {
     "data": {
      "text/html": [
       "<div id='html_string1'><iframe src='sage_coderun2096852.3973587789.html' height=770 width=540></iframe></div>"
      ],
      "text/plain": [
       "<IPython.core.display.HTML object>"
      ]
     },
     "metadata": {},
     "output_type": "display_data"
    }
   ],
   "source": [
    "sage_list_plot(np.random.rand(4,20),520,750,.0095,.004)"
   ]
  },
  {
   "cell_type": "code",
   "execution_count": 4,
   "metadata": {
    "execution": {
     "iopub.execute_input": "2020-11-14T22:22:45.035511Z",
     "iopub.status.busy": "2020-11-14T22:22:45.034722Z",
     "iopub.status.idle": "2020-11-14T22:22:45.039520Z",
     "shell.execute_reply": "2020-11-14T22:22:45.038948Z"
    },
    "papermill": {
     "duration": 0.016873,
     "end_time": "2020-11-14T22:22:45.039623",
     "exception": false,
     "start_time": "2020-11-14T22:22:45.022750",
     "status": "completed"
    },
    "tags": []
   },
   "outputs": [
    {
     "data": {
      "text/html": [
       "<div id='html_string2'><iframe src='sage_coderun6211646.267373614.html' height=420 width=540></iframe></div>"
      ],
      "text/plain": [
       "<IPython.core.display.HTML object>"
      ]
     },
     "metadata": {},
     "output_type": "display_data"
    }
   ],
   "source": [
    "sage_list_plot_min(np.random.rand(3,15),\n",
    "                   520,400,.0095,.0075)"
   ]
  }
 ],
 "metadata": {
  "kernelspec": {
   "display_name": "Python 3",
   "language": "python",
   "name": "python3"
  },
  "language_info": {
   "codemirror_mode": {
    "name": "ipython",
    "version": 3
   },
   "file_extension": ".py",
   "mimetype": "text/x-python",
   "name": "python",
   "nbconvert_exporter": "python",
   "pygments_lexer": "ipython3",
   "version": "3.7.6"
  },
  "papermill": {
   "duration": 5.255538,
   "end_time": "2020-11-14T22:22:45.151736",
   "environment_variables": {},
   "exception": null,
   "input_path": "__notebook__.ipynb",
   "output_path": "__notebook__.ipynb",
   "parameters": {},
   "start_time": "2020-11-14T22:22:39.896198",
   "version": "2.1.0"
  }
 },
 "nbformat": 4,
 "nbformat_minor": 4
}
